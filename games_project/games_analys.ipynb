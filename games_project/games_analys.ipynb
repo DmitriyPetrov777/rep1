{
 "cells": [
  {
   "cell_type": "markdown",
   "metadata": {},
   "source": [
    "# Шаг 1. Открываем файл с данными и изучаем общую информацию"
   ]
  },
  {
   "cell_type": "markdown",
   "metadata": {},
   "source": [
    "Импортируем библиотеки pandas, numpy, scipy.stats"
   ]
  },
  {
   "cell_type": "code",
   "execution_count": 1,
   "metadata": {},
   "outputs": [],
   "source": [
    "import pandas as pd\n",
    "import numpy as np\n",
    "import scipy.stats as st\n",
    "import matplotlib.pyplot as plt\n",
    "import seaborn as sns"
   ]
  },
  {
   "cell_type": "markdown",
   "metadata": {},
   "source": [
    "Открываем файл и изучаем его"
   ]
  },
  {
   "cell_type": "code",
   "execution_count": 2,
   "metadata": {},
   "outputs": [
    {
     "data": {
      "text/html": [
       "<div>\n",
       "<style scoped>\n",
       "    .dataframe tbody tr th:only-of-type {\n",
       "        vertical-align: middle;\n",
       "    }\n",
       "\n",
       "    .dataframe tbody tr th {\n",
       "        vertical-align: top;\n",
       "    }\n",
       "\n",
       "    .dataframe thead th {\n",
       "        text-align: right;\n",
       "    }\n",
       "</style>\n",
       "<table border=\"1\" class=\"dataframe\">\n",
       "  <thead>\n",
       "    <tr style=\"text-align: right;\">\n",
       "      <th></th>\n",
       "      <th>Name</th>\n",
       "      <th>Platform</th>\n",
       "      <th>Year_of_Release</th>\n",
       "      <th>Genre</th>\n",
       "      <th>NA_sales</th>\n",
       "      <th>EU_sales</th>\n",
       "      <th>JP_sales</th>\n",
       "      <th>Other_sales</th>\n",
       "      <th>Critic_Score</th>\n",
       "      <th>User_Score</th>\n",
       "      <th>Rating</th>\n",
       "    </tr>\n",
       "  </thead>\n",
       "  <tbody>\n",
       "    <tr>\n",
       "      <th>0</th>\n",
       "      <td>Wii Sports</td>\n",
       "      <td>Wii</td>\n",
       "      <td>2006.0</td>\n",
       "      <td>Sports</td>\n",
       "      <td>41.36</td>\n",
       "      <td>28.96</td>\n",
       "      <td>3.77</td>\n",
       "      <td>8.45</td>\n",
       "      <td>76.0</td>\n",
       "      <td>8</td>\n",
       "      <td>E</td>\n",
       "    </tr>\n",
       "    <tr>\n",
       "      <th>1</th>\n",
       "      <td>Super Mario Bros.</td>\n",
       "      <td>NES</td>\n",
       "      <td>1985.0</td>\n",
       "      <td>Platform</td>\n",
       "      <td>29.08</td>\n",
       "      <td>3.58</td>\n",
       "      <td>6.81</td>\n",
       "      <td>0.77</td>\n",
       "      <td>NaN</td>\n",
       "      <td>NaN</td>\n",
       "      <td>NaN</td>\n",
       "    </tr>\n",
       "    <tr>\n",
       "      <th>2</th>\n",
       "      <td>Mario Kart Wii</td>\n",
       "      <td>Wii</td>\n",
       "      <td>2008.0</td>\n",
       "      <td>Racing</td>\n",
       "      <td>15.68</td>\n",
       "      <td>12.76</td>\n",
       "      <td>3.79</td>\n",
       "      <td>3.29</td>\n",
       "      <td>82.0</td>\n",
       "      <td>8.3</td>\n",
       "      <td>E</td>\n",
       "    </tr>\n",
       "    <tr>\n",
       "      <th>3</th>\n",
       "      <td>Wii Sports Resort</td>\n",
       "      <td>Wii</td>\n",
       "      <td>2009.0</td>\n",
       "      <td>Sports</td>\n",
       "      <td>15.61</td>\n",
       "      <td>10.93</td>\n",
       "      <td>3.28</td>\n",
       "      <td>2.95</td>\n",
       "      <td>80.0</td>\n",
       "      <td>8</td>\n",
       "      <td>E</td>\n",
       "    </tr>\n",
       "    <tr>\n",
       "      <th>4</th>\n",
       "      <td>Pokemon Red/Pokemon Blue</td>\n",
       "      <td>GB</td>\n",
       "      <td>1996.0</td>\n",
       "      <td>Role-Playing</td>\n",
       "      <td>11.27</td>\n",
       "      <td>8.89</td>\n",
       "      <td>10.22</td>\n",
       "      <td>1.00</td>\n",
       "      <td>NaN</td>\n",
       "      <td>NaN</td>\n",
       "      <td>NaN</td>\n",
       "    </tr>\n",
       "  </tbody>\n",
       "</table>\n",
       "</div>"
      ],
      "text/plain": [
       "                       Name Platform  Year_of_Release         Genre  NA_sales  \\\n",
       "0                Wii Sports      Wii           2006.0        Sports     41.36   \n",
       "1         Super Mario Bros.      NES           1985.0      Platform     29.08   \n",
       "2            Mario Kart Wii      Wii           2008.0        Racing     15.68   \n",
       "3         Wii Sports Resort      Wii           2009.0        Sports     15.61   \n",
       "4  Pokemon Red/Pokemon Blue       GB           1996.0  Role-Playing     11.27   \n",
       "\n",
       "   EU_sales  JP_sales  Other_sales  Critic_Score User_Score Rating  \n",
       "0     28.96      3.77         8.45          76.0          8      E  \n",
       "1      3.58      6.81         0.77           NaN        NaN    NaN  \n",
       "2     12.76      3.79         3.29          82.0        8.3      E  \n",
       "3     10.93      3.28         2.95          80.0          8      E  \n",
       "4      8.89     10.22         1.00           NaN        NaN    NaN  "
      ]
     },
     "execution_count": 2,
     "metadata": {},
     "output_type": "execute_result"
    }
   ],
   "source": [
    "\n",
    "data = pd.read_csv('/datasets/games.csv')\n",
    "data.head()"
   ]
  },
  {
   "cell_type": "markdown",
   "metadata": {},
   "source": [
    "\n",
    "\n",
    "Проверим дата-сет на присутствие явных дупликатов"
   ]
  },
  {
   "cell_type": "code",
   "execution_count": 4,
   "metadata": {},
   "outputs": [
    {
     "data": {
      "text/plain": [
       "0"
      ]
     },
     "execution_count": 4,
     "metadata": {},
     "output_type": "execute_result"
    }
   ],
   "source": [
    "data.duplicated().sum()"
   ]
  },
  {
   "cell_type": "markdown",
   "metadata": {},
   "source": [
    "# Шаг 2. Подготовка данных"
   ]
  },
  {
   "cell_type": "markdown",
   "metadata": {},
   "source": [
    "Заменяем названия столбцов (приводим к нижнему регистру)"
   ]
  },
  {
   "cell_type": "code",
   "execution_count": 5,
   "metadata": {},
   "outputs": [
    {
     "name": "stdout",
     "output_type": "stream",
     "text": [
      "Index(['name', 'platform', 'year_of_release', 'genre', 'na_sales', 'eu_sales',\n",
      "       'jp_sales', 'other_sales', 'critic_score', 'user_score', 'rating'],\n",
      "      dtype='object')\n"
     ]
    }
   ],
   "source": [
    "data.columns = data.columns.str.lower()\n",
    "print(data.columns)"
   ]
  },
  {
   "cell_type": "markdown",
   "metadata": {},
   "source": [
    "Преобразуем данные в нужные типы:\n",
    "Преобразуем тип данных столбца выхода года в целочисленный"
   ]
  },
  {
   "cell_type": "code",
   "execution_count": 6,
   "metadata": {},
   "outputs": [],
   "source": [
    "data['year_of_release'] = data['year_of_release'].astype('Int64', errors='ignore')"
   ]
  },
  {
   "cell_type": "markdown",
   "metadata": {},
   "source": [
    "Преобразуем тип данных столбца оценка пользователей в числовой\n",
    "\n",
    "В столбце user_score имеется значение tbd. Преобразуем его в NaN"
   ]
  },
  {
   "cell_type": "code",
   "execution_count": 7,
   "metadata": {},
   "outputs": [
    {
     "name": "stdout",
     "output_type": "stream",
     "text": [
      "<class 'pandas.core.frame.DataFrame'>\n",
      "RangeIndex: 16715 entries, 0 to 16714\n",
      "Data columns (total 11 columns):\n",
      " #   Column           Non-Null Count  Dtype  \n",
      "---  ------           --------------  -----  \n",
      " 0   name             16713 non-null  object \n",
      " 1   platform         16715 non-null  object \n",
      " 2   year_of_release  16446 non-null  Int64  \n",
      " 3   genre            16713 non-null  object \n",
      " 4   na_sales         16715 non-null  float64\n",
      " 5   eu_sales         16715 non-null  float64\n",
      " 6   jp_sales         16715 non-null  float64\n",
      " 7   other_sales      16715 non-null  float64\n",
      " 8   critic_score     8137 non-null   float64\n",
      " 9   user_score       7590 non-null   float64\n",
      " 10  rating           9949 non-null   object \n",
      "dtypes: Int64(1), float64(6), object(4)\n",
      "memory usage: 1.4+ MB\n"
     ]
    }
   ],
   "source": [
    "data.loc[data['user_score'] == 'tbd', 'user_score'] = float('NaN')\n",
    "data['user_score'] = data['user_score'].astype(float)\n",
    "\n",
    "data.info()"
   ]
  },
  {
   "cell_type": "code",
   "execution_count": 8,
   "metadata": {},
   "outputs": [
    {
     "data": {
      "text/plain": [
       "name                  2\n",
       "platform              0\n",
       "year_of_release     269\n",
       "genre                 2\n",
       "na_sales              0\n",
       "eu_sales              0\n",
       "jp_sales              0\n",
       "other_sales           0\n",
       "critic_score       8578\n",
       "user_score         9125\n",
       "rating             6766\n",
       "dtype: int64"
      ]
     },
     "execution_count": 8,
     "metadata": {},
     "output_type": "execute_result"
    }
   ],
   "source": [
    "#Находим пропуски в данных\n",
    "data.isna().sum()"
   ]
  },
  {
   "cell_type": "markdown",
   "metadata": {},
   "source": [
    "Удаляем пропуски в столбцах с названием, годом и жанром\n",
    "Ввиду того, что данных мало и критические изменения после удаления не произойдут"
   ]
  },
  {
   "cell_type": "code",
   "execution_count": 9,
   "metadata": {},
   "outputs": [
    {
     "data": {
      "text/plain": [
       "name                  0\n",
       "platform              0\n",
       "year_of_release       0\n",
       "genre                 0\n",
       "na_sales              0\n",
       "eu_sales              0\n",
       "jp_sales              0\n",
       "other_sales           0\n",
       "critic_score       8461\n",
       "user_score         8981\n",
       "rating             6676\n",
       "dtype: int64"
      ]
     },
     "execution_count": 9,
     "metadata": {},
     "output_type": "execute_result"
    }
   ],
   "source": [
    "data.dropna(subset = ['name', 'year_of_release', 'genre'], inplace = True)\n",
    "data.isna().sum()"
   ]
  },
  {
   "cell_type": "markdown",
   "metadata": {},
   "source": [
    "Данные в столбцах с оцеками критиков и пользователей считаю, что заполнять не нужно, т.к. будет существенное изменение текущей картины по оценкам,а эти данные представляют для нас важное значение."
   ]
  },
  {
   "cell_type": "markdown",
   "metadata": {},
   "source": [
    "Считаем суммарные продажи игр во всех регионах и добавляем в общий массив данных"
   ]
  },
  {
   "cell_type": "code",
   "execution_count": 10,
   "metadata": {},
   "outputs": [
    {
     "data": {
      "text/html": [
       "<div>\n",
       "<style scoped>\n",
       "    .dataframe tbody tr th:only-of-type {\n",
       "        vertical-align: middle;\n",
       "    }\n",
       "\n",
       "    .dataframe tbody tr th {\n",
       "        vertical-align: top;\n",
       "    }\n",
       "\n",
       "    .dataframe thead th {\n",
       "        text-align: right;\n",
       "    }\n",
       "</style>\n",
       "<table border=\"1\" class=\"dataframe\">\n",
       "  <thead>\n",
       "    <tr style=\"text-align: right;\">\n",
       "      <th></th>\n",
       "      <th>name</th>\n",
       "      <th>platform</th>\n",
       "      <th>year_of_release</th>\n",
       "      <th>genre</th>\n",
       "      <th>na_sales</th>\n",
       "      <th>eu_sales</th>\n",
       "      <th>jp_sales</th>\n",
       "      <th>other_sales</th>\n",
       "      <th>critic_score</th>\n",
       "      <th>user_score</th>\n",
       "      <th>rating</th>\n",
       "      <th>total_sales</th>\n",
       "    </tr>\n",
       "  </thead>\n",
       "  <tbody>\n",
       "    <tr>\n",
       "      <th>0</th>\n",
       "      <td>Wii Sports</td>\n",
       "      <td>Wii</td>\n",
       "      <td>2006</td>\n",
       "      <td>Sports</td>\n",
       "      <td>41.36</td>\n",
       "      <td>28.96</td>\n",
       "      <td>3.77</td>\n",
       "      <td>8.45</td>\n",
       "      <td>76.0</td>\n",
       "      <td>8.0</td>\n",
       "      <td>E</td>\n",
       "      <td>82.54</td>\n",
       "    </tr>\n",
       "    <tr>\n",
       "      <th>1</th>\n",
       "      <td>Super Mario Bros.</td>\n",
       "      <td>NES</td>\n",
       "      <td>1985</td>\n",
       "      <td>Platform</td>\n",
       "      <td>29.08</td>\n",
       "      <td>3.58</td>\n",
       "      <td>6.81</td>\n",
       "      <td>0.77</td>\n",
       "      <td>NaN</td>\n",
       "      <td>NaN</td>\n",
       "      <td>NaN</td>\n",
       "      <td>40.24</td>\n",
       "    </tr>\n",
       "    <tr>\n",
       "      <th>2</th>\n",
       "      <td>Mario Kart Wii</td>\n",
       "      <td>Wii</td>\n",
       "      <td>2008</td>\n",
       "      <td>Racing</td>\n",
       "      <td>15.68</td>\n",
       "      <td>12.76</td>\n",
       "      <td>3.79</td>\n",
       "      <td>3.29</td>\n",
       "      <td>82.0</td>\n",
       "      <td>8.3</td>\n",
       "      <td>E</td>\n",
       "      <td>35.52</td>\n",
       "    </tr>\n",
       "    <tr>\n",
       "      <th>3</th>\n",
       "      <td>Wii Sports Resort</td>\n",
       "      <td>Wii</td>\n",
       "      <td>2009</td>\n",
       "      <td>Sports</td>\n",
       "      <td>15.61</td>\n",
       "      <td>10.93</td>\n",
       "      <td>3.28</td>\n",
       "      <td>2.95</td>\n",
       "      <td>80.0</td>\n",
       "      <td>8.0</td>\n",
       "      <td>E</td>\n",
       "      <td>32.77</td>\n",
       "    </tr>\n",
       "    <tr>\n",
       "      <th>4</th>\n",
       "      <td>Pokemon Red/Pokemon Blue</td>\n",
       "      <td>GB</td>\n",
       "      <td>1996</td>\n",
       "      <td>Role-Playing</td>\n",
       "      <td>11.27</td>\n",
       "      <td>8.89</td>\n",
       "      <td>10.22</td>\n",
       "      <td>1.00</td>\n",
       "      <td>NaN</td>\n",
       "      <td>NaN</td>\n",
       "      <td>NaN</td>\n",
       "      <td>31.38</td>\n",
       "    </tr>\n",
       "    <tr>\n",
       "      <th>...</th>\n",
       "      <td>...</td>\n",
       "      <td>...</td>\n",
       "      <td>...</td>\n",
       "      <td>...</td>\n",
       "      <td>...</td>\n",
       "      <td>...</td>\n",
       "      <td>...</td>\n",
       "      <td>...</td>\n",
       "      <td>...</td>\n",
       "      <td>...</td>\n",
       "      <td>...</td>\n",
       "      <td>...</td>\n",
       "    </tr>\n",
       "    <tr>\n",
       "      <th>16710</th>\n",
       "      <td>Samurai Warriors: Sanada Maru</td>\n",
       "      <td>PS3</td>\n",
       "      <td>2016</td>\n",
       "      <td>Action</td>\n",
       "      <td>0.00</td>\n",
       "      <td>0.00</td>\n",
       "      <td>0.01</td>\n",
       "      <td>0.00</td>\n",
       "      <td>NaN</td>\n",
       "      <td>NaN</td>\n",
       "      <td>NaN</td>\n",
       "      <td>0.01</td>\n",
       "    </tr>\n",
       "    <tr>\n",
       "      <th>16711</th>\n",
       "      <td>LMA Manager 2007</td>\n",
       "      <td>X360</td>\n",
       "      <td>2006</td>\n",
       "      <td>Sports</td>\n",
       "      <td>0.00</td>\n",
       "      <td>0.01</td>\n",
       "      <td>0.00</td>\n",
       "      <td>0.00</td>\n",
       "      <td>NaN</td>\n",
       "      <td>NaN</td>\n",
       "      <td>NaN</td>\n",
       "      <td>0.01</td>\n",
       "    </tr>\n",
       "    <tr>\n",
       "      <th>16712</th>\n",
       "      <td>Haitaka no Psychedelica</td>\n",
       "      <td>PSV</td>\n",
       "      <td>2016</td>\n",
       "      <td>Adventure</td>\n",
       "      <td>0.00</td>\n",
       "      <td>0.00</td>\n",
       "      <td>0.01</td>\n",
       "      <td>0.00</td>\n",
       "      <td>NaN</td>\n",
       "      <td>NaN</td>\n",
       "      <td>NaN</td>\n",
       "      <td>0.01</td>\n",
       "    </tr>\n",
       "    <tr>\n",
       "      <th>16713</th>\n",
       "      <td>Spirits &amp; Spells</td>\n",
       "      <td>GBA</td>\n",
       "      <td>2003</td>\n",
       "      <td>Platform</td>\n",
       "      <td>0.01</td>\n",
       "      <td>0.00</td>\n",
       "      <td>0.00</td>\n",
       "      <td>0.00</td>\n",
       "      <td>NaN</td>\n",
       "      <td>NaN</td>\n",
       "      <td>NaN</td>\n",
       "      <td>0.01</td>\n",
       "    </tr>\n",
       "    <tr>\n",
       "      <th>16714</th>\n",
       "      <td>Winning Post 8 2016</td>\n",
       "      <td>PSV</td>\n",
       "      <td>2016</td>\n",
       "      <td>Simulation</td>\n",
       "      <td>0.00</td>\n",
       "      <td>0.00</td>\n",
       "      <td>0.01</td>\n",
       "      <td>0.00</td>\n",
       "      <td>NaN</td>\n",
       "      <td>NaN</td>\n",
       "      <td>NaN</td>\n",
       "      <td>0.01</td>\n",
       "    </tr>\n",
       "  </tbody>\n",
       "</table>\n",
       "<p>16444 rows × 12 columns</p>\n",
       "</div>"
      ],
      "text/plain": [
       "                                name platform  year_of_release         genre  \\\n",
       "0                         Wii Sports      Wii             2006        Sports   \n",
       "1                  Super Mario Bros.      NES             1985      Platform   \n",
       "2                     Mario Kart Wii      Wii             2008        Racing   \n",
       "3                  Wii Sports Resort      Wii             2009        Sports   \n",
       "4           Pokemon Red/Pokemon Blue       GB             1996  Role-Playing   \n",
       "...                              ...      ...              ...           ...   \n",
       "16710  Samurai Warriors: Sanada Maru      PS3             2016        Action   \n",
       "16711               LMA Manager 2007     X360             2006        Sports   \n",
       "16712        Haitaka no Psychedelica      PSV             2016     Adventure   \n",
       "16713               Spirits & Spells      GBA             2003      Platform   \n",
       "16714            Winning Post 8 2016      PSV             2016    Simulation   \n",
       "\n",
       "       na_sales  eu_sales  jp_sales  other_sales  critic_score  user_score  \\\n",
       "0         41.36     28.96      3.77         8.45          76.0         8.0   \n",
       "1         29.08      3.58      6.81         0.77           NaN         NaN   \n",
       "2         15.68     12.76      3.79         3.29          82.0         8.3   \n",
       "3         15.61     10.93      3.28         2.95          80.0         8.0   \n",
       "4         11.27      8.89     10.22         1.00           NaN         NaN   \n",
       "...         ...       ...       ...          ...           ...         ...   \n",
       "16710      0.00      0.00      0.01         0.00           NaN         NaN   \n",
       "16711      0.00      0.01      0.00         0.00           NaN         NaN   \n",
       "16712      0.00      0.00      0.01         0.00           NaN         NaN   \n",
       "16713      0.01      0.00      0.00         0.00           NaN         NaN   \n",
       "16714      0.00      0.00      0.01         0.00           NaN         NaN   \n",
       "\n",
       "      rating  total_sales  \n",
       "0          E        82.54  \n",
       "1        NaN        40.24  \n",
       "2          E        35.52  \n",
       "3          E        32.77  \n",
       "4        NaN        31.38  \n",
       "...      ...          ...  \n",
       "16710    NaN         0.01  \n",
       "16711    NaN         0.01  \n",
       "16712    NaN         0.01  \n",
       "16713    NaN         0.01  \n",
       "16714    NaN         0.01  \n",
       "\n",
       "[16444 rows x 12 columns]"
      ]
     },
     "execution_count": 10,
     "metadata": {},
     "output_type": "execute_result"
    }
   ],
   "source": [
    "data['total_sales']= data[['na_sales','eu_sales','jp_sales', 'other_sales']].sum(axis = 1)\n",
    "data"
   ]
  },
  {
   "cell_type": "markdown",
   "metadata": {},
   "source": [
    "\n",
    "Причиной отсутствия рейтинга может быть просто отсутствие оценок (неоцененные игры), а также игры могли быть выпущены не так давно. Следовательно игры еще не успели набрать свои рейтинги.\n",
    "\n",
    "Что касается года выпуска, то тоже могли просто не указать, либо могла произойти техническая ошибка во время обработки и получения дата-сета от коллег "
   ]
  },
  {
   "cell_type": "markdown",
   "metadata": {},
   "source": [
    "\n",
    "Заполним пропуски в столбце Raiting заглушкой unknow"
   ]
  },
  {
   "cell_type": "code",
   "execution_count": 12,
   "metadata": {},
   "outputs": [
    {
     "data": {
      "text/plain": [
       "array(['E', 'unknown', 'M', 'T', 'E10+', 'K-A', 'AO', 'EC', 'RP'],\n",
       "      dtype=object)"
      ]
     },
     "execution_count": 12,
     "metadata": {},
     "output_type": "execute_result"
    }
   ],
   "source": [
    "data['rating'] = data['rating'].fillna('unknown')\n",
    "data['rating'].unique()"
   ]
  },
  {
   "cell_type": "markdown",
   "metadata": {},
   "source": [
    "\n",
    "На оф. сайте также указана информация о замене рейтинга K-A на E. В связи с этим следует переименовать рейтинг  К-А на Е"
   ]
  },
  {
   "cell_type": "code",
   "execution_count": 13,
   "metadata": {},
   "outputs": [
    {
     "data": {
      "text/plain": [
       "array(['E', 'unknown', 'M', 'T', 'E10+', 'AO', 'EC', 'RP'], dtype=object)"
      ]
     },
     "execution_count": 13,
     "metadata": {},
     "output_type": "execute_result"
    }
   ],
   "source": [
    "data['rating'] = data['rating'].replace({'K-A':'E'})\n",
    "data['rating'].unique()"
   ]
  },
  {
   "cell_type": "markdown",
   "metadata": {},
   "source": [
    "# Шаг 3. Проведение исследовательского анализа данных"
   ]
  },
  {
   "cell_type": "markdown",
   "metadata": {},
   "source": [
    "В данном разделе нам необходимо определить актуальный период прогнозирования, потенциальные платформы, на которых будут реализовываться игры, а также жанры и влияние рейтингов пользователей и критиков на успешность продаж той или иной игры"
   ]
  },
  {
   "cell_type": "markdown",
   "metadata": {},
   "source": [
    "Cмотрим, сколько игр выпускалось в разные годы"
   ]
  },
  {
   "cell_type": "code",
   "execution_count": 14,
   "metadata": {},
   "outputs": [
    {
     "data": {
      "image/png": "[encoded data removed]",
      "text/plain": [
       "<Figure size 432x288 with 1 Axes>"
      ]
     },
     "metadata": {
      "needs_background": "light"
     },
     "output_type": "display_data"
    }
   ],
   "source": [
    "data.groupby('year_of_release')['total_sales'].sum().plot(title='Выпуск игр по годам', xlabel='Год выпуска',\\\n",
    "ylabel='Продано копий (млн.)', grid=True);"
   ]
  },
  {
   "cell_type": "markdown",
   "metadata": {},
   "source": [
    "Наибольшее кол-во игр было выпущено в 2008г. Cнижение объема выпуска началось в 2009 году. До 1995 года объемы продаж были незначительными, поэтому предлагаю данные по продажам до 1995 исключить из датасета."
   ]
  },
  {
   "cell_type": "code",
   "execution_count": 15,
   "metadata": {},
   "outputs": [],
   "source": [
    "data = data.query('year_of_release > 1995')"
   ]
  },
  {
   "cell_type": "markdown",
   "metadata": {},
   "source": [
    "Посмотрим как менялись продажи по платформам. \n",
    "Найдем платформы с наибольшими суммарными продажами"
   ]
  },
  {
   "cell_type": "code",
   "execution_count": 16,
   "metadata": {},
   "outputs": [
    {
     "data": {
      "image/png": "[encoded data removed]",
      "text/plain": [
       "<Figure size 432x288 with 1 Axes>"
      ]
     },
     "metadata": {
      "needs_background": "light"
     },
     "output_type": "display_data"
    }
   ],
   "source": [
    "data.pivot_table(index='platform', values = 'total_sales', aggfunc='sum')\\\n",
    ".sort_values(by='total_sales', ascending=False)\\\n",
    ".plot(kind='bar', title='Суммарные продажи по платформам', xlabel='Платформы', ylabel='Суммарные продажи игр(млн.)');"
   ]
  },
  {
   "cell_type": "markdown",
   "metadata": {},
   "source": [
    "Платформы с наибольшими суммарными продажами:\n",
    "PS2, X360, PS3, Wii, DS, PS. Построим графики распределение по годам."
   ]
  },
  {
   "cell_type": "code",
   "execution_count": 17,
   "metadata": {
    "scrolled": true
   },
   "outputs": [
    {
     "data": {
      "image/png": "[encoded data removed]",
      "text/plain": [
       "<Figure size 432x288 with 1 Axes>"
      ]
     },
     "metadata": {
      "needs_background": "light"
     },
     "output_type": "display_data"
    },
    {
     "data": {
      "image/png": "[encoded data removed]",
      "text/plain": [
       "<Figure size 432x288 with 1 Axes>"
      ]
     },
     "metadata": {
      "needs_background": "light"
     },
     "output_type": "display_data"
    },
    {
     "data": {
      "image/png": "[encoded data removed]",
      "text/plain": [
       "<Figure size 432x288 with 1 Axes>"
      ]
     },
     "metadata": {
      "needs_background": "light"
     },
     "output_type": "display_data"
    },
    {
     "data": {
      "image/png": "[encoded data removed]",
      "text/plain": [
       "<Figure size 432x288 with 1 Axes>"
      ]
     },
     "metadata": {
      "needs_background": "light"
     },
     "output_type": "display_data"
    },
    {
     "data": {
      "image/png": "[encoded data removed]",
      "text/plain": [
       "<Figure size 432x288 with 1 Axes>"
      ]
     },
     "metadata": {
      "needs_background": "light"
     },
     "output_type": "display_data"
    },
    {
     "data": {
      "image/png": "[encoded data removed]",
      "text/plain": [
       "<Figure size 432x288 with 1 Axes>"
      ]
     },
     "metadata": {
      "needs_background": "light"
     },
     "output_type": "display_data"
    }
   ],
   "source": [
    "most_pop_platform = ['PS2', 'X360', 'PS3', 'Wii', 'DS', 'PS']\n",
    "data_most_pop_sales = data.query('platform in @most_pop_platform')\n",
    "for i in most_pop_platform:\n",
    "    data.loc[data['platform'] == i].pivot_table(index='year_of_release', columns='platform', values='total_sales', aggfunc='sum')\\\n",
    "    .plot(title='Продажи по годам', xlabel='Год', ylabel='Продажи(млн.)', grid=True)"
   ]
  },
  {
   "cell_type": "markdown",
   "metadata": {},
   "source": [
    "Проведя анализ продаж по годам среди самых продаваемых платформ можно сделать вывод, что средний срок \"жизни\" одной игровой платформы составляет порядка 8-10 лет. Пик популярности каждой платформы начинается через 4-5 лет после ее выпуска. Т.е. пик популярности платформы приходится на середину ее жизненного цикла."
   ]
  },
  {
   "cell_type": "markdown",
   "metadata": {},
   "source": [
    "Учитывая предыдущие исследования, и принимая во внимание бизнес-задачу по поиску платформ, которые лидируют по продажам, а также растут, нам следует в качестве потенциально прибыльных платформ на 2017 год выбрать платформы сроком 2-3 года, т.е. найти платформы, продажи игр на которые начались не раньше 2014 г.\n",
    "\n",
    "Актуальным периодом для анализа будет период с 2014 по 2016\n"
   ]
  },
  {
   "cell_type": "code",
   "execution_count": 18,
   "metadata": {},
   "outputs": [
    {
     "data": {
      "text/plain": [
       "<IntegerArray>\n",
       "[2015, 2014, 2016]\n",
       "Length: 3, dtype: Int64"
      ]
     },
     "execution_count": 18,
     "metadata": {},
     "output_type": "execute_result"
    }
   ],
   "source": [
    "data = data.query('year_of_release > 2013')\n",
    "data['year_of_release'].unique()"
   ]
  },
  {
   "cell_type": "markdown",
   "metadata": {},
   "source": [
    "Находим годовую разбивку суммарных продаж по платформам с 2014г."
   ]
  },
  {
   "cell_type": "code",
   "execution_count": 19,
   "metadata": {},
   "outputs": [
    {
     "data": {
      "text/plain": [
       "array(['PS4', '3DS', 'XOne', 'WiiU', 'PS3', 'X360', 'PC', 'Wii', 'PSV',\n",
       "       'PSP'], dtype=object)"
      ]
     },
     "execution_count": 19,
     "metadata": {},
     "output_type": "execute_result"
    }
   ],
   "source": [
    "platform_since_2014 = data['platform'].unique()\n",
    "platform_since_2014"
   ]
  },
  {
   "cell_type": "code",
   "execution_count": 20,
   "metadata": {
    "scrolled": true
   },
   "outputs": [
    {
     "data": {
      "image/png": "[encoded data removed]",
      "text/plain": [
       "<Figure size 432x288 with 1 Axes>"
      ]
     },
     "metadata": {
      "needs_background": "light"
     },
     "output_type": "display_data"
    },
    {
     "data": {
      "image/png": "[encoded data removed]",
      "text/plain": [
       "<Figure size 432x288 with 1 Axes>"
      ]
     },
     "metadata": {
      "needs_background": "light"
     },
     "output_type": "display_data"
    },
    {
     "data": {
      "image/png": "[encoded data removed]",
      "text/plain": [
       "<Figure size 432x288 with 1 Axes>"
      ]
     },
     "metadata": {
      "needs_background": "light"
     },
     "output_type": "display_data"
    },
    {
     "data": {
      "image/png": "[encoded data removed]",
      "text/plain": [
       "<Figure size 432x288 with 1 Axes>"
      ]
     },
     "metadata": {
      "needs_background": "light"
     },
     "output_type": "display_data"
    },
    {
     "data": {
      "image/png": "[encoded data removed]",
      "text/plain": [
       "<Figure size 432x288 with 1 Axes>"
      ]
     },
     "metadata": {
      "needs_background": "light"
     },
     "output_type": "display_data"
    },
    {
     "data": {
      "image/png": "[encoded data removed]",
      "text/plain": [
       "<Figure size 432x288 with 1 Axes>"
      ]
     },
     "metadata": {
      "needs_background": "light"
     },
     "output_type": "display_data"
    },
    {
     "data": {
      "image/png": "[encoded data removed]",
      "text/plain": [
       "<Figure size 432x288 with 1 Axes>"
      ]
     },
     "metadata": {
      "needs_background": "light"
     },
     "output_type": "display_data"
    },
    {
     "data": {
      "image/png": "[encoded data removed]",
      "text/plain": [
       "<Figure size 432x288 with 1 Axes>"
      ]
     },
     "metadata": {
      "needs_background": "light"
     },
     "output_type": "display_data"
    },
    {
     "data": {
      "image/png": "[encoded data removed]",
      "text/plain": [
       "<Figure size 432x288 with 1 Axes>"
      ]
     },
     "metadata": {
      "needs_background": "light"
     },
     "output_type": "display_data"
    },
    {
     "data": {
      "image/png": "[encoded data removed]",
      "text/plain": [
       "<Figure size 432x288 with 1 Axes>"
      ]
     },
     "metadata": {
      "needs_background": "light"
     },
     "output_type": "display_data"
    }
   ],
   "source": [
    "for i in platform_since_2014:\n",
    "    data.loc[data['platform'] == i].pivot_table(index='year_of_release', columns='platform', values='total_sales', aggfunc='sum')\\\n",
    "    .plot(title='Суммарные продажи с 2014г.', xlabel='Год', ylabel='Продажи(млн.)', grid=True)\n",
    "    "
   ]
  },
  {
   "cell_type": "markdown",
   "metadata": {},
   "source": [
    "Потенциально прибыльными платформами можно считать PS4, XOne"
   ]
  },
  {
   "cell_type": "markdown",
   "metadata": {},
   "source": [
    "Cтроим график «ящик с усами» по глобальным продажам игр в разбивке по платформам в полном виде со всеми выбросами"
   ]
  },
  {
   "cell_type": "code",
   "execution_count": 21,
   "metadata": {},
   "outputs": [
    {
     "data": {
      "image/png": "[encoded data removed]",
      "text/plain": [
       "<Figure size 720x1080 with 1 Axes>"
      ]
     },
     "metadata": {
      "needs_background": "light"
     },
     "output_type": "display_data"
    }
   ],
   "source": [
    "data.boxplot(column='total_sales', by='platform', figsize=(10, 15));"
   ]
  },
  {
   "cell_type": "markdown",
   "metadata": {},
   "source": [
    "Cтроим график «ящик с усами» по глобальным продажам игр в разбивке по платформам в масштабированном виде"
   ]
  },
  {
   "cell_type": "code",
   "execution_count": 22,
   "metadata": {},
   "outputs": [
    {
     "data": {
      "text/plain": [
       "(-0.5, 3.0)"
      ]
     },
     "execution_count": 22,
     "metadata": {},
     "output_type": "execute_result"
    },
    {
     "data": {
      "image/png": "[encoded data removed]",
      "text/plain": [
       "<Figure size 720x1080 with 1 Axes>"
      ]
     },
     "metadata": {
      "needs_background": "light"
     },
     "output_type": "display_data"
    }
   ],
   "source": [
    "data.boxplot(column='total_sales', by='platform', figsize=(10, 15));\n",
    "plt.ylim(-0.5,3)"
   ]
  },
  {
   "cell_type": "markdown",
   "metadata": {},
   "source": [
    "Проведя анализ продаж игр в разбивке по платформам можно сделать вывод, что наибольшее медианное значение продаж, а также более широкое покрытие от Q1 до Q3  имеется на платформах PS4, XOne, Wii. Однако суммарные продажи по платформе Wii с 2014 года неуклонно падают.Платформы PS4, XOne можно использовать, как потенциальные для планирования продаж на 2017 г."
   ]
  },
  {
   "cell_type": "markdown",
   "metadata": {},
   "source": [
    "Посмотрим как влияют на продажи внутри платформы XOne отзывы пользователей."
   ]
  },
  {
   "cell_type": "code",
   "execution_count": 23,
   "metadata": {},
   "outputs": [
    {
     "name": "stdout",
     "output_type": "stream",
     "text": [
      "-0.0703839280647581\n"
     ]
    },
    {
     "data": {
      "image/png": "[encoded data removed]",
      "text/plain": [
       "<Figure size 432x288 with 1 Axes>"
      ]
     },
     "metadata": {
      "needs_background": "light"
     },
     "output_type": "display_data"
    }
   ],
   "source": [
    "data.query('platform == \"XOne\"').plot(x='total_sales', y='user_score', kind='scatter');\n",
    "XOne_data_top_platform = data.query('platform == \"XOne\"')\n",
    "print(XOne_data_top_platform['total_sales'].corr(XOne_data_top_platform['user_score']))\n"
   ]
  },
  {
   "cell_type": "markdown",
   "metadata": {},
   "source": [
    "Посмотрим как влияют на продажи внутри платформы XOne отзывы критиков."
   ]
  },
  {
   "cell_type": "code",
   "execution_count": 24,
   "metadata": {},
   "outputs": [
    {
     "name": "stdout",
     "output_type": "stream",
     "text": [
      "0.42867694370333226\n"
     ]
    },
    {
     "data": {
      "image/png": "[encoded data removed]",
      "text/plain": [
       "<Figure size 432x288 with 1 Axes>"
      ]
     },
     "metadata": {
      "needs_background": "light"
     },
     "output_type": "display_data"
    }
   ],
   "source": [
    "data.query('platform == \"XOne\"').plot(x='total_sales', y='critic_score', kind='scatter');\n",
    "XOne_data_top_platform = data.query('platform == \"XOne\"')\n",
    "print(XOne_data_top_platform['total_sales'].corr(XOne_data_top_platform['critic_score']))\n"
   ]
  },
  {
   "cell_type": "markdown",
   "metadata": {},
   "source": [
    "Проведя анализ продаж игр на платформе XOne на основе отзывов пользователей и критиков можно сделать следующий вывод:\n",
    "1) Отзывы пользователь имеют очень слабую обратную корреляцию с объемами продаж, равную -7.04%\n",
    "\n",
    "2) Отзывы критиков влияют на продажи, но не сильно. Данный факт подтверждается слабой корреляцией равной 42.87%"
   ]
  },
  {
   "cell_type": "markdown",
   "metadata": {},
   "source": [
    "Проверим данный вывод на платформе PS4:\n",
    "\n",
    "Посмотрим как влияют на продажи внутри платформы PS4 отзывы пользователей."
   ]
  },
  {
   "cell_type": "code",
   "execution_count": 25,
   "metadata": {},
   "outputs": [
    {
     "name": "stdout",
     "output_type": "stream",
     "text": [
      "-0.040131589472697356\n"
     ]
    },
    {
     "data": {
      "image/png": "[encoded data removed]",
      "text/plain": [
       "<Figure size 432x288 with 1 Axes>"
      ]
     },
     "metadata": {
      "needs_background": "light"
     },
     "output_type": "display_data"
    }
   ],
   "source": [
    "data.query('platform == \"PS4\"').plot(x='total_sales', y='user_score', kind='scatter');\n",
    "PS4_data_top_platform = data.query('platform == \"PS4\"')\n",
    "print(PS4_data_top_platform['total_sales'].corr(PS4_data_top_platform['user_score']))"
   ]
  },
  {
   "cell_type": "markdown",
   "metadata": {},
   "source": [
    "Посмотрим как влияют на продажи внутри платформы PS4 отзывы критиков."
   ]
  },
  {
   "cell_type": "code",
   "execution_count": 26,
   "metadata": {},
   "outputs": [
    {
     "name": "stdout",
     "output_type": "stream",
     "text": [
      "0.40266141068104083\n"
     ]
    },
    {
     "data": {
      "image/png": "[encoded data removed]",
      "text/plain": [
       "<Figure size 432x288 with 1 Axes>"
      ]
     },
     "metadata": {
      "needs_background": "light"
     },
     "output_type": "display_data"
    }
   ],
   "source": [
    "data.query('platform == \"PS4\"').plot(x='total_sales', y='critic_score', kind='scatter');\n",
    "PS4_data_top_platform = data.query('platform == \"PS4\"')\n",
    "print(PS4_data_top_platform['total_sales'].corr(PS4_data_top_platform['critic_score']))"
   ]
  },
  {
   "cell_type": "markdown",
   "metadata": {},
   "source": [
    "Наши выводы подтвердились. По графикам рассеивания картина примерно одинаковая. Корреляция по двум видам платформ также находится в одних и тех же зонах силы связи между переменными.\n",
    "\n"
   ]
  },
  {
   "cell_type": "markdown",
   "metadata": {},
   "source": [
    "</font><font color='Blue'><b>Комментарий студента</b></font><br>\n",
    "Спасибо за материал. Учту на будущее"
   ]
  },
  {
   "cell_type": "markdown",
   "metadata": {},
   "source": [
    "Смотрим на общее распределение жанров игр:"
   ]
  },
  {
   "cell_type": "code",
   "execution_count": 27,
   "metadata": {},
   "outputs": [
    {
     "data": {
      "image/png": "[encoded data removed]",
      "text/plain": [
       "<Figure size 432x288 with 1 Axes>"
      ]
     },
     "metadata": {
      "needs_background": "light"
     },
     "output_type": "display_data"
    }
   ],
   "source": [
    "data.groupby('genre')[['name']].count().sort_values(by='name', ascending=False).plot(kind='bar');"
   ]
  },
  {
   "cell_type": "markdown",
   "metadata": {},
   "source": [
    "Самыми популярными жанрами игр являются: Action, Role-Playing, Adventure, Sports, Shooter. "
   ]
  },
  {
   "cell_type": "markdown",
   "metadata": {},
   "source": [
    "Найдем самые прибыльные жанры:"
   ]
  },
  {
   "cell_type": "code",
   "execution_count": 29,
   "metadata": {},
   "outputs": [
    {
     "data": {
      "text/plain": [
       "(-0.5, 4.0)"
      ]
     },
     "execution_count": 29,
     "metadata": {},
     "output_type": "execute_result"
    },
    {
     "data": {
      "image/png": "[encoded data removed]",
      "text/plain": [
       "<Figure size 864x864 with 1 Axes>"
      ]
     },
     "metadata": {
      "needs_background": "light"
     },
     "output_type": "display_data"
    }
   ],
   "source": [
    "data.boxplot(column='total_sales', by='genre', figsize=(12,12));\n",
    "plt.ylim(-0.5, 4)"
   ]
  },
  {
   "cell_type": "markdown",
   "metadata": {},
   "source": [
    "Построив диаграмму размаха можно сделать вывод, что самым прибыльным жанром является Shooter. Наименее прибыльным жанром можно назвать Adventure, Puzzle и Strategy"
   ]
  },
  {
   "cell_type": "markdown",
   "metadata": {},
   "source": [
    "# Шаг 4. Составим портрет пользователя каждого региона"
   ]
  },
  {
   "cell_type": "markdown",
   "metadata": {},
   "source": [
    "Определим для пользователя каждого региона (NA, EU, JP) cамые популярные платформы (топ-5)"
   ]
  },
  {
   "cell_type": "markdown",
   "metadata": {},
   "source": [
    "Популярные платформы для Северной Америки:"
   ]
  },
  {
   "cell_type": "code",
   "execution_count": 30,
   "metadata": {},
   "outputs": [
    {
     "data": {
      "text/html": [
       "<div>\n",
       "<style scoped>\n",
       "    .dataframe tbody tr th:only-of-type {\n",
       "        vertical-align: middle;\n",
       "    }\n",
       "\n",
       "    .dataframe tbody tr th {\n",
       "        vertical-align: top;\n",
       "    }\n",
       "\n",
       "    .dataframe thead th {\n",
       "        text-align: right;\n",
       "    }\n",
       "</style>\n",
       "<table border=\"1\" class=\"dataframe\">\n",
       "  <thead>\n",
       "    <tr style=\"text-align: right;\">\n",
       "      <th></th>\n",
       "      <th>na_sales</th>\n",
       "    </tr>\n",
       "    <tr>\n",
       "      <th>platform</th>\n",
       "      <th></th>\n",
       "    </tr>\n",
       "  </thead>\n",
       "  <tbody>\n",
       "    <tr>\n",
       "      <th>PS4</th>\n",
       "      <td>98.61</td>\n",
       "    </tr>\n",
       "    <tr>\n",
       "      <th>XOne</th>\n",
       "      <td>81.27</td>\n",
       "    </tr>\n",
       "    <tr>\n",
       "      <th>X360</th>\n",
       "      <td>28.30</td>\n",
       "    </tr>\n",
       "    <tr>\n",
       "      <th>3DS</th>\n",
       "      <td>22.64</td>\n",
       "    </tr>\n",
       "    <tr>\n",
       "      <th>PS3</th>\n",
       "      <td>22.05</td>\n",
       "    </tr>\n",
       "  </tbody>\n",
       "</table>\n",
       "</div>"
      ],
      "text/plain": [
       "          na_sales\n",
       "platform          \n",
       "PS4          98.61\n",
       "XOne         81.27\n",
       "X360         28.30\n",
       "3DS          22.64\n",
       "PS3          22.05"
      ]
     },
     "metadata": {},
     "output_type": "display_data"
    },
    {
     "data": {
      "image/png": "[encoded data removed]",
      "text/plain": [
       "<Figure size 432x288 with 1 Axes>"
      ]
     },
     "metadata": {},
     "output_type": "display_data"
    }
   ],
   "source": [
    "display(data.groupby('platform')[['na_sales']].sum().sort_values(by='na_sales', ascending=False).head())\n",
    "data.groupby('platform')[['na_sales']].sum().sort_values(by='na_sales', ascending=False).head().plot(kind='pie', y='na_sales');"
   ]
  },
  {
   "cell_type": "markdown",
   "metadata": {},
   "source": [
    "Популярные платформы для Европы:"
   ]
  },
  {
   "cell_type": "code",
   "execution_count": 31,
   "metadata": {},
   "outputs": [
    {
     "data": {
      "text/html": [
       "<div>\n",
       "<style scoped>\n",
       "    .dataframe tbody tr th:only-of-type {\n",
       "        vertical-align: middle;\n",
       "    }\n",
       "\n",
       "    .dataframe tbody tr th {\n",
       "        vertical-align: top;\n",
       "    }\n",
       "\n",
       "    .dataframe thead th {\n",
       "        text-align: right;\n",
       "    }\n",
       "</style>\n",
       "<table border=\"1\" class=\"dataframe\">\n",
       "  <thead>\n",
       "    <tr style=\"text-align: right;\">\n",
       "      <th></th>\n",
       "      <th>eu_sales</th>\n",
       "    </tr>\n",
       "    <tr>\n",
       "      <th>platform</th>\n",
       "      <th></th>\n",
       "    </tr>\n",
       "  </thead>\n",
       "  <tbody>\n",
       "    <tr>\n",
       "      <th>PS4</th>\n",
       "      <td>130.04</td>\n",
       "    </tr>\n",
       "    <tr>\n",
       "      <th>XOne</th>\n",
       "      <td>46.25</td>\n",
       "    </tr>\n",
       "    <tr>\n",
       "      <th>PS3</th>\n",
       "      <td>25.54</td>\n",
       "    </tr>\n",
       "    <tr>\n",
       "      <th>PC</th>\n",
       "      <td>17.97</td>\n",
       "    </tr>\n",
       "    <tr>\n",
       "      <th>3DS</th>\n",
       "      <td>16.12</td>\n",
       "    </tr>\n",
       "  </tbody>\n",
       "</table>\n",
       "</div>"
      ],
      "text/plain": [
       "          eu_sales\n",
       "platform          \n",
       "PS4         130.04\n",
       "XOne         46.25\n",
       "PS3          25.54\n",
       "PC           17.97\n",
       "3DS          16.12"
      ]
     },
     "metadata": {},
     "output_type": "display_data"
    },
    {
     "data": {
      "image/png": "[encoded data removed]",
      "text/plain": [
       "<Figure size 432x288 with 1 Axes>"
      ]
     },
     "metadata": {},
     "output_type": "display_data"
    }
   ],
   "source": [
    "display(data.groupby('platform')[['eu_sales']].sum().sort_values(by='eu_sales', ascending=False).head())\n",
    "data.groupby('platform')[['eu_sales']].sum().sort_values(by='eu_sales', ascending=False).head().plot(kind='pie', y='eu_sales');"
   ]
  },
  {
   "cell_type": "markdown",
   "metadata": {},
   "source": [
    "Популярные платформы для Японии:"
   ]
  },
  {
   "cell_type": "code",
   "execution_count": 32,
   "metadata": {},
   "outputs": [
    {
     "data": {
      "text/html": [
       "<div>\n",
       "<style scoped>\n",
       "    .dataframe tbody tr th:only-of-type {\n",
       "        vertical-align: middle;\n",
       "    }\n",
       "\n",
       "    .dataframe tbody tr th {\n",
       "        vertical-align: top;\n",
       "    }\n",
       "\n",
       "    .dataframe thead th {\n",
       "        text-align: right;\n",
       "    }\n",
       "</style>\n",
       "<table border=\"1\" class=\"dataframe\">\n",
       "  <thead>\n",
       "    <tr style=\"text-align: right;\">\n",
       "      <th></th>\n",
       "      <th>jp_sales</th>\n",
       "    </tr>\n",
       "    <tr>\n",
       "      <th>platform</th>\n",
       "      <th></th>\n",
       "    </tr>\n",
       "  </thead>\n",
       "  <tbody>\n",
       "    <tr>\n",
       "      <th>3DS</th>\n",
       "      <td>44.24</td>\n",
       "    </tr>\n",
       "    <tr>\n",
       "      <th>PS4</th>\n",
       "      <td>15.02</td>\n",
       "    </tr>\n",
       "    <tr>\n",
       "      <th>PSV</th>\n",
       "      <td>14.54</td>\n",
       "    </tr>\n",
       "    <tr>\n",
       "      <th>PS3</th>\n",
       "      <td>11.22</td>\n",
       "    </tr>\n",
       "    <tr>\n",
       "      <th>WiiU</th>\n",
       "      <td>7.31</td>\n",
       "    </tr>\n",
       "  </tbody>\n",
       "</table>\n",
       "</div>"
      ],
      "text/plain": [
       "          jp_sales\n",
       "platform          \n",
       "3DS          44.24\n",
       "PS4          15.02\n",
       "PSV          14.54\n",
       "PS3          11.22\n",
       "WiiU          7.31"
      ]
     },
     "metadata": {},
     "output_type": "display_data"
    },
    {
     "data": {
      "image/png": "[encoded data removed]",
      "text/plain": [
       "<Figure size 432x288 with 1 Axes>"
      ]
     },
     "metadata": {},
     "output_type": "display_data"
    }
   ],
   "source": [
    "display(data.groupby('platform')[['jp_sales']].sum().sort_values(by='jp_sales', ascending=False).head())\n",
    "data.groupby('platform')[['jp_sales']].sum().sort_values(by='jp_sales', ascending=False).head().plot(kind='pie', y='jp_sales');"
   ]
  },
  {
   "cell_type": "markdown",
   "metadata": {},
   "source": [
    "Проведя анализ популярности платформ для разных регионов можно сделать следующий вывод:\n",
    "\n",
    "Самые популярные платформы для Северной Америки: PS4, XOne, X360, 3DS, PS3\n",
    "\n",
    "Самые популярные платформы для Европы: PS4, XOne, PS3, PC, 3DS\n",
    "\n",
    "Самые популярные платформы для Японии: 3DS, PS4, PSV, PS3, WiiU\n",
    "\n",
    "Различия в долях продаж указаны на круговых диаграммах по каждому региону"
   ]
  },
  {
   "cell_type": "markdown",
   "metadata": {},
   "source": [
    "Определим для пользователя каждого региона (NA, EU, JP) cамые популярные жанры (топ-5)"
   ]
  },
  {
   "cell_type": "markdown",
   "metadata": {},
   "source": [
    "Популярные жанры для Северной Америки"
   ]
  },
  {
   "cell_type": "code",
   "execution_count": 33,
   "metadata": {},
   "outputs": [
    {
     "data": {
      "text/html": [
       "<div>\n",
       "<style scoped>\n",
       "    .dataframe tbody tr th:only-of-type {\n",
       "        vertical-align: middle;\n",
       "    }\n",
       "\n",
       "    .dataframe tbody tr th {\n",
       "        vertical-align: top;\n",
       "    }\n",
       "\n",
       "    .dataframe thead th {\n",
       "        text-align: right;\n",
       "    }\n",
       "</style>\n",
       "<table border=\"1\" class=\"dataframe\">\n",
       "  <thead>\n",
       "    <tr style=\"text-align: right;\">\n",
       "      <th></th>\n",
       "      <th>na_sales</th>\n",
       "    </tr>\n",
       "    <tr>\n",
       "      <th>genre</th>\n",
       "      <th></th>\n",
       "    </tr>\n",
       "  </thead>\n",
       "  <tbody>\n",
       "    <tr>\n",
       "      <th>Shooter</th>\n",
       "      <td>79.02</td>\n",
       "    </tr>\n",
       "    <tr>\n",
       "      <th>Action</th>\n",
       "      <td>72.53</td>\n",
       "    </tr>\n",
       "    <tr>\n",
       "      <th>Sports</th>\n",
       "      <td>46.13</td>\n",
       "    </tr>\n",
       "    <tr>\n",
       "      <th>Role-Playing</th>\n",
       "      <td>33.47</td>\n",
       "    </tr>\n",
       "    <tr>\n",
       "      <th>Misc</th>\n",
       "      <td>15.05</td>\n",
       "    </tr>\n",
       "  </tbody>\n",
       "</table>\n",
       "</div>"
      ],
      "text/plain": [
       "              na_sales\n",
       "genre                 \n",
       "Shooter          79.02\n",
       "Action           72.53\n",
       "Sports           46.13\n",
       "Role-Playing     33.47\n",
       "Misc             15.05"
      ]
     },
     "metadata": {},
     "output_type": "display_data"
    },
    {
     "data": {
      "image/png": "[encoded data removed]",
      "text/plain": [
       "<Figure size 432x288 with 1 Axes>"
      ]
     },
     "metadata": {},
     "output_type": "display_data"
    }
   ],
   "source": [
    "display(data.groupby('genre')[['na_sales']].sum().sort_values(by='na_sales', ascending=False).head())\n",
    "data.groupby('genre')[['na_sales']].sum().sort_values(by='na_sales', ascending=False).head().plot(kind='pie', y='na_sales');"
   ]
  },
  {
   "cell_type": "markdown",
   "metadata": {},
   "source": [
    "Популярные жанры для Европы"
   ]
  },
  {
   "cell_type": "code",
   "execution_count": 34,
   "metadata": {},
   "outputs": [
    {
     "data": {
      "text/html": [
       "<div>\n",
       "<style scoped>\n",
       "    .dataframe tbody tr th:only-of-type {\n",
       "        vertical-align: middle;\n",
       "    }\n",
       "\n",
       "    .dataframe tbody tr th {\n",
       "        vertical-align: top;\n",
       "    }\n",
       "\n",
       "    .dataframe thead th {\n",
       "        text-align: right;\n",
       "    }\n",
       "</style>\n",
       "<table border=\"1\" class=\"dataframe\">\n",
       "  <thead>\n",
       "    <tr style=\"text-align: right;\">\n",
       "      <th></th>\n",
       "      <th>eu_sales</th>\n",
       "    </tr>\n",
       "    <tr>\n",
       "      <th>genre</th>\n",
       "      <th></th>\n",
       "    </tr>\n",
       "  </thead>\n",
       "  <tbody>\n",
       "    <tr>\n",
       "      <th>Action</th>\n",
       "      <td>74.68</td>\n",
       "    </tr>\n",
       "    <tr>\n",
       "      <th>Shooter</th>\n",
       "      <td>65.52</td>\n",
       "    </tr>\n",
       "    <tr>\n",
       "      <th>Sports</th>\n",
       "      <td>45.73</td>\n",
       "    </tr>\n",
       "    <tr>\n",
       "      <th>Role-Playing</th>\n",
       "      <td>28.17</td>\n",
       "    </tr>\n",
       "    <tr>\n",
       "      <th>Racing</th>\n",
       "      <td>14.13</td>\n",
       "    </tr>\n",
       "  </tbody>\n",
       "</table>\n",
       "</div>"
      ],
      "text/plain": [
       "              eu_sales\n",
       "genre                 \n",
       "Action           74.68\n",
       "Shooter          65.52\n",
       "Sports           45.73\n",
       "Role-Playing     28.17\n",
       "Racing           14.13"
      ]
     },
     "metadata": {},
     "output_type": "display_data"
    },
    {
     "data": {
      "image/png": "[encoded data removed]",
      "text/plain": [
       "<Figure size 432x288 with 1 Axes>"
      ]
     },
     "metadata": {},
     "output_type": "display_data"
    }
   ],
   "source": [
    "display(data.groupby('genre')[['eu_sales']].sum().sort_values(by='eu_sales', ascending=False).head())\n",
    "data.groupby('genre')[['eu_sales']].sum().sort_values(by='eu_sales', ascending=False).head().plot(kind='pie', y='eu_sales');"
   ]
  },
  {
   "cell_type": "markdown",
   "metadata": {},
   "source": [
    "Популярные жанры для Японии"
   ]
  },
  {
   "cell_type": "code",
   "execution_count": 35,
   "metadata": {},
   "outputs": [
    {
     "data": {
      "text/html": [
       "<div>\n",
       "<style scoped>\n",
       "    .dataframe tbody tr th:only-of-type {\n",
       "        vertical-align: middle;\n",
       "    }\n",
       "\n",
       "    .dataframe tbody tr th {\n",
       "        vertical-align: top;\n",
       "    }\n",
       "\n",
       "    .dataframe thead th {\n",
       "        text-align: right;\n",
       "    }\n",
       "</style>\n",
       "<table border=\"1\" class=\"dataframe\">\n",
       "  <thead>\n",
       "    <tr style=\"text-align: right;\">\n",
       "      <th></th>\n",
       "      <th>jp_sales</th>\n",
       "    </tr>\n",
       "    <tr>\n",
       "      <th>genre</th>\n",
       "      <th></th>\n",
       "    </tr>\n",
       "  </thead>\n",
       "  <tbody>\n",
       "    <tr>\n",
       "      <th>Role-Playing</th>\n",
       "      <td>31.16</td>\n",
       "    </tr>\n",
       "    <tr>\n",
       "      <th>Action</th>\n",
       "      <td>29.58</td>\n",
       "    </tr>\n",
       "    <tr>\n",
       "      <th>Fighting</th>\n",
       "      <td>6.37</td>\n",
       "    </tr>\n",
       "    <tr>\n",
       "      <th>Misc</th>\n",
       "      <td>5.61</td>\n",
       "    </tr>\n",
       "    <tr>\n",
       "      <th>Shooter</th>\n",
       "      <td>4.87</td>\n",
       "    </tr>\n",
       "  </tbody>\n",
       "</table>\n",
       "</div>"
      ],
      "text/plain": [
       "              jp_sales\n",
       "genre                 \n",
       "Role-Playing     31.16\n",
       "Action           29.58\n",
       "Fighting          6.37\n",
       "Misc              5.61\n",
       "Shooter           4.87"
      ]
     },
     "metadata": {},
     "output_type": "display_data"
    },
    {
     "data": {
      "image/png": "[encoded data removed]",
      "text/plain": [
       "<Figure size 432x288 with 1 Axes>"
      ]
     },
     "metadata": {},
     "output_type": "display_data"
    }
   ],
   "source": [
    "display(data.groupby('genre')[['jp_sales']].sum().sort_values(by='jp_sales', ascending=False).head())\n",
    "data.groupby('genre')[['jp_sales']].sum().sort_values(by='jp_sales', ascending=False).head().plot(kind='pie', y='jp_sales');"
   ]
  },
  {
   "cell_type": "markdown",
   "metadata": {},
   "source": [
    "Проведя анализ популярности жанров для разных регионов можно сделать следующий вывод:\n",
    "\n",
    "Самые популярные жанры для Северной Америки: Shooter, Action, Sports, Role-Playing, Misc\n",
    "\n",
    "Самые популярные жанры для Европы: Action, Shooter, Sports, Role-Playing, Racing\n",
    "\n",
    "Самые популярные жанры для Японии: Role-Playing, Action, Fighting, Misc, Shooter\n",
    "\n",
    "Различия в долях продаж указаны на круговых диаграммах по каждому региону"
   ]
  },
  {
   "cell_type": "markdown",
   "metadata": {},
   "source": [
    "Выясним, влияет ли рейтинг ESRB на продажи в отдельном регионе"
   ]
  },
  {
   "cell_type": "markdown",
   "metadata": {},
   "source": [
    "По Северной Америки"
   ]
  },
  {
   "cell_type": "code",
   "execution_count": 36,
   "metadata": {},
   "outputs": [
    {
     "data": {
      "image/png": "[encoded data removed]",
      "text/plain": [
       "<Figure size 432x288 with 1 Axes>"
      ]
     },
     "metadata": {
      "needs_background": "light"
     },
     "output_type": "display_data"
    }
   ],
   "source": [
    "data.groupby('rating')['na_sales'].sum().sort_values(ascending=False).plot(kind='bar');"
   ]
  },
  {
   "cell_type": "markdown",
   "metadata": {},
   "source": [
    "По Европе"
   ]
  },
  {
   "cell_type": "code",
   "execution_count": 37,
   "metadata": {},
   "outputs": [
    {
     "data": {
      "image/png": "[encoded data removed]",
      "text/plain": [
       "<Figure size 432x288 with 1 Axes>"
      ]
     },
     "metadata": {
      "needs_background": "light"
     },
     "output_type": "display_data"
    }
   ],
   "source": [
    "data.groupby('rating')['eu_sales'].sum().sort_values(ascending=False).plot(kind='bar');"
   ]
  },
  {
   "cell_type": "markdown",
   "metadata": {},
   "source": [
    "По Японии"
   ]
  },
  {
   "cell_type": "code",
   "execution_count": 38,
   "metadata": {},
   "outputs": [
    {
     "data": {
      "image/png": "[encoded data removed]",
      "text/plain": [
       "<Figure size 432x288 with 1 Axes>"
      ]
     },
     "metadata": {
      "needs_background": "light"
     },
     "output_type": "display_data"
    }
   ],
   "source": [
    "data.groupby('rating')['jp_sales'].sum().sort_values(ascending=False).plot(kind='bar');"
   ]
  },
  {
   "cell_type": "markdown",
   "metadata": {},
   "source": [
    "Проведя анализ влияния рейтинга игр на объемы продаж для разных регионов можно сделать следующий вывод:\n",
    "\n",
    "В Северной Америке и Европе наилучшие объемы продаж имеют игры с рейтингом М (\"Для взрослых\"), а в Японии - без рейтинга (unknown)\n",
    "\n",
    "В Северной Америке и Европе вторыми по популярности идут без рейтинга (unknown), а в Японии T (\"Подросткам\")\n",
    "\n"
   ]
  },
  {
   "cell_type": "markdown",
   "metadata": {},
   "source": [
    "# Шаг 5. Проверяем гипотезы"
   ]
  },
  {
   "cell_type": "markdown",
   "metadata": {},
   "source": [
    "В качестве нулевой гипотезы (H0) возьмем гипотезу, что средние пользовательские рейтинги по платформам одинаковые,\n",
    "а в качестве альтернативной гипотезы (H1): средние рейтинги по платформам разные.\n",
    "Вытаскиваем из дата-сета рейтинги игр от пользователей для PC и Xbox One"
   ]
  },
  {
   "cell_type": "code",
   "execution_count": 40,
   "metadata": {
    "scrolled": true
   },
   "outputs": [
    {
     "name": "stdout",
     "output_type": "stream",
     "text": [
      "458      3.9\n",
      "1530     5.4\n",
      "1730     7.9\n",
      "2303     5.7\n",
      "2784     5.9\n",
      "        ... \n",
      "16456    8.3\n",
      "16463    6.8\n",
      "16509    7.9\n",
      "16518    1.4\n",
      "16692    7.6\n",
      "Name: user_score, Length: 122, dtype: float64\n"
     ]
    }
   ],
   "source": [
    "raiting_user_PC = data.loc[(data['platform'] == 'PC') & (data['user_score'] > 0)]['user_score']\n",
    "print(raiting_user_PC)"
   ]
  },
  {
   "cell_type": "code",
   "execution_count": 41,
   "metadata": {},
   "outputs": [
    {
     "data": {
      "text/plain": [
       "165      7.9\n",
       "179      5.4\n",
       "242      6.4\n",
       "270      6.2\n",
       "373      4.1\n",
       "        ... \n",
       "16544    6.8\n",
       "16597    6.0\n",
       "16630    8.2\n",
       "16643    6.6\n",
       "16660    6.7\n",
       "Name: user_score, Length: 165, dtype: float64"
      ]
     },
     "execution_count": 41,
     "metadata": {},
     "output_type": "execute_result"
    }
   ],
   "source": [
    "raiting_user_Xbox_One = data.loc[(data['platform'] == 'XOne') & (data['user_score'] > 0)]['user_score']\n",
    "raiting_user_Xbox_One"
   ]
  },
  {
   "cell_type": "markdown",
   "metadata": {},
   "source": [
    "Применяем проверку гипотезы о равенстве средних двух генеральных совокупностей. Задаем alpha в размере 0.05."
   ]
  },
  {
   "cell_type": "code",
   "execution_count": 42,
   "metadata": {},
   "outputs": [
    {
     "name": "stdout",
     "output_type": "stream",
     "text": [
      "p-значение: 0.10450507919348415\n",
      "Не получилось отвергнуть нулевую гипотезу\n"
     ]
    }
   ],
   "source": [
    "alpha = .05\n",
    "results = st.ttest_ind(raiting_user_PC, raiting_user_Xbox_One)\n",
    "print('p-значение:', results.pvalue)\n",
    "if (results.pvalue < alpha):\n",
    "    print(\"Отвергаем нулевую гипотезу\")\n",
    "else:\n",
    "    print(\"Не получилось отвергнуть нулевую гипотезу\")"
   ]
  },
  {
   "cell_type": "markdown",
   "metadata": {},
   "source": [
    "В качестве нулевой гипотезы (H0) возьмем гипотезу, что средние пользовательские рейтинги по двум жанрам одинаковые,\n",
    "а в качестве альтернативной гипотезы (H1): средние рейтинги по двум жанрам разные.\n",
    "Вытаскиваем из дата-сета рейтинги по двум жанрам"
   ]
  },
  {
   "cell_type": "code",
   "execution_count": 43,
   "metadata": {},
   "outputs": [
    {
     "data": {
      "text/plain": [
       "42       8.3\n",
       "165      7.9\n",
       "231      8.1\n",
       "295      6.3\n",
       "304      4.9\n",
       "        ... \n",
       "16544    6.8\n",
       "16597    6.0\n",
       "16652    8.5\n",
       "16660    6.7\n",
       "16692    7.6\n",
       "Name: user_score, Length: 297, dtype: float64"
      ]
     },
     "execution_count": 43,
     "metadata": {},
     "output_type": "execute_result"
    }
   ],
   "source": [
    "raiting_user_action = data.loc[(data['genre'] == 'Action') & (data['user_score'] > 0)]['user_score']\n",
    "raiting_user_action"
   ]
  },
  {
   "cell_type": "code",
   "execution_count": 44,
   "metadata": {},
   "outputs": [
    {
     "data": {
      "text/plain": [
       "77       4.3\n",
       "94       5.0\n",
       "143      5.7\n",
       "264      4.5\n",
       "314      6.7\n",
       "        ... \n",
       "16120    6.3\n",
       "16142    8.8\n",
       "16146    6.9\n",
       "16518    1.4\n",
       "16643    6.6\n",
       "Name: user_score, Length: 127, dtype: float64"
      ]
     },
     "execution_count": 44,
     "metadata": {},
     "output_type": "execute_result"
    }
   ],
   "source": [
    "raiting_user_sports = data.loc[(data['genre'] == 'Sports') & (data['user_score'] > 0)]['user_score']\n",
    "raiting_user_sports"
   ]
  },
  {
   "cell_type": "code",
   "execution_count": 45,
   "metadata": {},
   "outputs": [
    {
     "name": "stdout",
     "output_type": "stream",
     "text": [
      "p-значение: 2.8711147985105864e-19\n",
      "Отвергаем нулевую гипотезу\n"
     ]
    }
   ],
   "source": [
    "alpha = .05\n",
    "results = st.ttest_ind(raiting_user_action, raiting_user_sports)\n",
    "print('p-значение:', results.pvalue)\n",
    "if (results.pvalue < alpha):\n",
    "    print(\"Отвергаем нулевую гипотезу\")\n",
    "else:\n",
    "    print(\"Не получилось отвергнуть нулевую гипотезу\")"
   ]
  },
  {
   "cell_type": "markdown",
   "metadata": {},
   "source": [
    "Проверив две гипотизы можно сделать следующие выводы:\n",
    "\n",
    "1) Гипотеза о равенстве средних пользовательских рейтингов платформ Xbox One и PC не подтвердилась\n",
    "\n",
    "2) Гипотеза о разнице средних пользовательских рейтингов жанров Action и Sports подтвердилась\n",
    "\n"
   ]
  },
  {
   "cell_type": "markdown",
   "metadata": {},
   "source": [
    "\n",
    "При формировании гипотез были взяты два варианта (булевых значений) возможных исходов. Либо гиотеза подтверждается, либо она не подтверждается. Во второй гипотезе был применен метод от обратного (двойного отрицания) в котором при отвержении \"обратной\" гипотезы подтверждается гипотеза из задания."
   ]
  },
  {
   "cell_type": "markdown",
   "metadata": {},
   "source": [
    "Для проверки гипотез был применен метод двустороннего t-теста потому, что у нас имеется две невзаимосвязанные выборки по двум платформам и двум жанрам, между которыми нужно сравнить свои средние"
   ]
  },
  {
   "cell_type": "markdown",
   "metadata": {},
   "source": [
    "# Шаг 6. Общий вывод"
   ]
  },
  {
   "cell_type": "markdown",
   "metadata": {},
   "source": [
    "Проведя анализ продаж по годам среди самых продаваемых платформ можно сделать вывод, что средний срок \"жизни\" одной игровой платформы составляет порядка 8-10 лет. Пик популярности каждой платформы начинается через 4-5 лет после ее выпуска. Т.е. пик популярности платформы приходится на середину ее жизненного цикла.\n",
    "\n",
    "Учитывая предыдущие исследования, и принимая во внимание бизнес-задачу по поиску платформ, которые лидируют по продажам, а также растут, нам следует в качестве потенциально прибыльных платформ на 2017 год выбрать платформы сроком 2-3 года, т.е. найти платформы, продажи игр на которые начались не раньше 2014 г.\n",
    "\n",
    "Актуальным периодом для анализа будет период с 2014 по 2016\n",
    "\n",
    "Проведя анализ продаж игр в разбивке по платформам можно сделать вывод, что наибольшее медианное значение продаж, а также более широкое покрытие от Q1 до Q3 имеется на платформах PS4, XOne, Wii. Однако суммарные продажи по платформе Wii с 2014 года неуклонно падают. Платформы PS4, XOne можно использовать, как потенциальные для планирования продаж на 2017 г.\n",
    "\n",
    "Построив диаграмму размаха можно сделать вывод, что самым прибыльным жанром для Северной Америки и Европы является Shooter и Action. Наименее прибыльным жанром можно назвать Adventure, Puzzle и Strategy.\n",
    "\n",
    "В Северной Америке и Европе наилучшие объемы продаж имеют игры с рейтингом М (\"Для взрослых\"), а в Японии - без рейтинга (unknown).\n",
    "В Северной Америке и Европе вторыми по популярности идут без рейтинга (unknown), а в Японии T (\"Подросткам\").\n",
    "\n",
    "При планировании продаж не следует обращать внимания на отзывы, потому что корреляция между отзывами критиков и пользователей очень слабая.\n",
    "\n",
    "\n",
    "Резюмирую: следует выпускать игру на платформе PS4 или XOne, желательно в Европе или Северной Америке, в жанре Action или Shooter. Приоритет жанра игры не имеет, т.к. лучшие продажи в данных регионах имеют игры с рейтингом М (\"Для взрослых\").\n",
    "\n",
    "\n",
    "\n"
   ]
  }
 ],
 "metadata": {
  "ExecuteTimeLog": [
   {
    "duration": 626,
    "start_time": "2023-01-17T11:35:28.488Z"
   },
   {
    "duration": 75,
    "start_time": "2023-01-17T11:35:36.482Z"
   },
   {
    "duration": 60,
    "start_time": "2023-01-17T11:37:28.237Z"
   },
   {
    "duration": 59,
    "start_time": "2023-01-17T11:37:32.677Z"
   },
   {
    "duration": 948,
    "start_time": "2023-01-17T11:41:01.590Z"
   },
   {
    "duration": 563,
    "start_time": "2023-01-17T11:41:33.588Z"
   },
   {
    "duration": 681,
    "start_time": "2023-01-17T11:42:12.269Z"
   },
   {
    "duration": 78,
    "start_time": "2023-01-17T11:42:35.968Z"
   },
   {
    "duration": 71,
    "start_time": "2023-01-17T11:44:19.391Z"
   },
   {
    "duration": 5,
    "start_time": "2023-01-17T11:44:24.887Z"
   },
   {
    "duration": 3,
    "start_time": "2023-01-17T11:45:02.002Z"
   },
   {
    "duration": 4,
    "start_time": "2023-01-17T11:45:21.235Z"
   },
   {
    "duration": 16,
    "start_time": "2023-01-17T11:49:36.748Z"
   },
   {
    "duration": 61,
    "start_time": "2023-01-17T11:51:20.351Z"
   },
   {
    "duration": 46,
    "start_time": "2023-01-17T11:51:28.048Z"
   },
   {
    "duration": 14,
    "start_time": "2023-01-17T11:51:44.421Z"
   },
   {
    "duration": 4,
    "start_time": "2023-01-17T11:53:04.484Z"
   },
   {
    "duration": 66,
    "start_time": "2023-01-17T11:54:46.767Z"
   },
   {
    "duration": 58,
    "start_time": "2023-01-17T11:55:49.771Z"
   },
   {
    "duration": 826,
    "start_time": "2023-01-17T11:58:00.794Z"
   },
   {
    "duration": 59,
    "start_time": "2023-01-17T11:58:17.429Z"
   },
   {
    "duration": 4,
    "start_time": "2023-01-17T11:58:20.756Z"
   },
   {
    "duration": 5,
    "start_time": "2023-01-17T11:58:22.180Z"
   },
   {
    "duration": 7,
    "start_time": "2023-01-17T11:59:19.215Z"
   },
   {
    "duration": 17,
    "start_time": "2023-01-17T11:59:30.363Z"
   },
   {
    "duration": 24,
    "start_time": "2023-01-17T11:59:37.600Z"
   },
   {
    "duration": 58,
    "start_time": "2023-01-17T11:59:59.476Z"
   },
   {
    "duration": 4,
    "start_time": "2023-01-17T12:00:00.491Z"
   },
   {
    "duration": 16,
    "start_time": "2023-01-17T12:00:01.135Z"
   },
   {
    "duration": 16,
    "start_time": "2023-01-17T12:00:51.057Z"
   },
   {
    "duration": 18,
    "start_time": "2023-01-17T12:03:24.462Z"
   },
   {
    "duration": 14,
    "start_time": "2023-01-17T12:04:05.873Z"
   },
   {
    "duration": 15,
    "start_time": "2023-01-17T12:04:13.397Z"
   },
   {
    "duration": 18,
    "start_time": "2023-01-17T12:04:30.272Z"
   },
   {
    "duration": 17,
    "start_time": "2023-01-17T12:05:04.518Z"
   },
   {
    "duration": 24,
    "start_time": "2023-01-17T12:05:15.416Z"
   },
   {
    "duration": 23,
    "start_time": "2023-01-17T12:05:28.645Z"
   },
   {
    "duration": 34,
    "start_time": "2023-01-17T12:05:35.182Z"
   },
   {
    "duration": 4,
    "start_time": "2023-01-17T12:05:35.785Z"
   },
   {
    "duration": 17,
    "start_time": "2023-01-17T12:05:37.362Z"
   },
   {
    "duration": 23,
    "start_time": "2023-01-17T12:05:55.559Z"
   },
   {
    "duration": 4,
    "start_time": "2023-01-17T12:06:17.489Z"
   },
   {
    "duration": 17,
    "start_time": "2023-01-17T12:06:22.603Z"
   },
   {
    "duration": 24,
    "start_time": "2023-01-17T12:06:57.386Z"
   },
   {
    "duration": 69,
    "start_time": "2023-01-17T12:08:31.870Z"
   },
   {
    "duration": 58,
    "start_time": "2023-01-17T12:08:38.770Z"
   },
   {
    "duration": 4,
    "start_time": "2023-01-17T12:08:42.570Z"
   },
   {
    "duration": 25,
    "start_time": "2023-01-17T12:08:45.974Z"
   },
   {
    "duration": 16,
    "start_time": "2023-01-17T12:09:10.515Z"
   },
   {
    "duration": 14,
    "start_time": "2023-01-17T12:09:16.289Z"
   },
   {
    "duration": 16,
    "start_time": "2023-01-17T12:09:22.793Z"
   },
   {
    "duration": 14,
    "start_time": "2023-01-17T12:09:45.436Z"
   },
   {
    "duration": 14,
    "start_time": "2023-01-17T12:15:39.319Z"
   },
   {
    "duration": 17,
    "start_time": "2023-01-17T12:16:11.236Z"
   },
   {
    "duration": 12,
    "start_time": "2023-01-17T12:20:40.894Z"
   },
   {
    "duration": 15,
    "start_time": "2023-01-17T12:27:57.979Z"
   },
   {
    "duration": 18,
    "start_time": "2023-01-17T12:28:09.739Z"
   },
   {
    "duration": 11,
    "start_time": "2023-01-17T12:31:44.082Z"
   },
   {
    "duration": 17,
    "start_time": "2023-01-17T12:33:06.265Z"
   },
   {
    "duration": 22,
    "start_time": "2023-01-17T12:33:29.264Z"
   },
   {
    "duration": 57,
    "start_time": "2023-01-17T12:33:39.853Z"
   },
   {
    "duration": 5,
    "start_time": "2023-01-17T12:33:42.483Z"
   },
   {
    "duration": 17,
    "start_time": "2023-01-17T12:33:45.115Z"
   },
   {
    "duration": 16,
    "start_time": "2023-01-17T12:38:20.982Z"
   },
   {
    "duration": 64,
    "start_time": "2023-01-17T12:40:16.137Z"
   },
   {
    "duration": 780,
    "start_time": "2023-01-17T12:40:46.721Z"
   },
   {
    "duration": 55,
    "start_time": "2023-01-17T12:41:03.717Z"
   },
   {
    "duration": 5,
    "start_time": "2023-01-17T12:41:06.154Z"
   },
   {
    "duration": 15,
    "start_time": "2023-01-17T12:41:07.634Z"
   },
   {
    "duration": 15,
    "start_time": "2023-01-17T12:41:23.338Z"
   },
   {
    "duration": 15,
    "start_time": "2023-01-17T12:41:27.705Z"
   },
   {
    "duration": 18,
    "start_time": "2023-01-17T12:50:10.061Z"
   },
   {
    "duration": 12,
    "start_time": "2023-01-17T12:50:29.058Z"
   },
   {
    "duration": 13,
    "start_time": "2023-01-17T12:50:58.502Z"
   },
   {
    "duration": 53,
    "start_time": "2023-01-17T12:52:02.367Z"
   },
   {
    "duration": 55,
    "start_time": "2023-01-17T12:52:10.201Z"
   },
   {
    "duration": 54,
    "start_time": "2023-01-17T12:52:25.397Z"
   },
   {
    "duration": 4,
    "start_time": "2023-01-17T12:53:09.399Z"
   },
   {
    "duration": 19,
    "start_time": "2023-01-17T12:53:35.986Z"
   },
   {
    "duration": 14,
    "start_time": "2023-01-17T12:53:48.899Z"
   },
   {
    "duration": 13,
    "start_time": "2023-01-17T12:54:55.043Z"
   },
   {
    "duration": 54,
    "start_time": "2023-01-17T12:55:52.742Z"
   },
   {
    "duration": 4,
    "start_time": "2023-01-17T12:55:55.241Z"
   },
   {
    "duration": 14,
    "start_time": "2023-01-17T12:55:56.440Z"
   },
   {
    "duration": 13,
    "start_time": "2023-01-17T13:06:58.406Z"
   },
   {
    "duration": 19,
    "start_time": "2023-01-17T13:07:10.018Z"
   },
   {
    "duration": 9,
    "start_time": "2023-01-17T13:12:06.612Z"
   },
   {
    "duration": 14,
    "start_time": "2023-01-17T13:12:21.107Z"
   },
   {
    "duration": 53,
    "start_time": "2023-01-17T13:13:13.641Z"
   },
   {
    "duration": 5,
    "start_time": "2023-01-17T13:13:15.945Z"
   },
   {
    "duration": 15,
    "start_time": "2023-01-17T13:13:16.772Z"
   },
   {
    "duration": 22,
    "start_time": "2023-01-17T13:14:01.618Z"
   },
   {
    "duration": 592,
    "start_time": "2023-01-17T13:15:33.132Z"
   },
   {
    "duration": 353,
    "start_time": "2023-01-17T13:18:07.226Z"
   },
   {
    "duration": 369,
    "start_time": "2023-01-17T13:18:18.444Z"
   },
   {
    "duration": 408,
    "start_time": "2023-01-17T13:18:24.359Z"
   },
   {
    "duration": 8,
    "start_time": "2023-01-17T13:18:43.872Z"
   },
   {
    "duration": 6,
    "start_time": "2023-01-17T13:19:12.412Z"
   },
   {
    "duration": 227,
    "start_time": "2023-01-17T13:19:52.398Z"
   },
   {
    "duration": 11,
    "start_time": "2023-01-17T13:20:05.997Z"
   },
   {
    "duration": 15,
    "start_time": "2023-01-17T13:20:13.771Z"
   },
   {
    "duration": 16,
    "start_time": "2023-01-17T13:20:42.512Z"
   },
   {
    "duration": 15,
    "start_time": "2023-01-17T13:20:48.247Z"
   },
   {
    "duration": 22,
    "start_time": "2023-01-17T13:22:59.082Z"
   },
   {
    "duration": 16,
    "start_time": "2023-01-17T13:23:07.402Z"
   },
   {
    "duration": 7,
    "start_time": "2023-01-17T13:27:59.439Z"
   },
   {
    "duration": 9,
    "start_time": "2023-01-17T13:28:11.399Z"
   },
   {
    "duration": 9,
    "start_time": "2023-01-17T13:35:14.934Z"
   },
   {
    "duration": 17,
    "start_time": "2023-01-17T13:35:39.633Z"
   },
   {
    "duration": 17,
    "start_time": "2023-01-17T13:35:44.117Z"
   },
   {
    "duration": 14,
    "start_time": "2023-01-17T13:37:04.814Z"
   },
   {
    "duration": 53,
    "start_time": "2023-01-17T13:39:19.516Z"
   },
   {
    "duration": 4,
    "start_time": "2023-01-17T13:39:20.008Z"
   },
   {
    "duration": 19,
    "start_time": "2023-01-17T13:39:20.387Z"
   },
   {
    "duration": 11,
    "start_time": "2023-01-17T13:39:21.309Z"
   },
   {
    "duration": 14,
    "start_time": "2023-01-17T13:39:21.941Z"
   },
   {
    "duration": 4,
    "start_time": "2023-01-17T13:52:34.258Z"
   },
   {
    "duration": 26,
    "start_time": "2023-01-17T13:52:45.461Z"
   },
   {
    "duration": 485,
    "start_time": "2023-01-17T18:32:45.202Z"
   },
   {
    "duration": 4,
    "start_time": "2023-01-17T18:32:47.869Z"
   },
   {
    "duration": 28,
    "start_time": "2023-01-17T18:32:49.778Z"
   },
   {
    "duration": 16,
    "start_time": "2023-01-17T18:32:52.876Z"
   },
   {
    "duration": 24,
    "start_time": "2023-01-17T18:32:53.749Z"
   },
   {
    "duration": 38,
    "start_time": "2023-01-17T18:32:59.044Z"
   },
   {
    "duration": 35,
    "start_time": "2023-01-17T18:33:40.627Z"
   },
   {
    "duration": 85,
    "start_time": "2023-01-17T18:36:33.930Z"
   },
   {
    "duration": 527,
    "start_time": "2023-01-17T18:37:25.349Z"
   },
   {
    "duration": 4,
    "start_time": "2023-01-17T18:37:26.485Z"
   },
   {
    "duration": 21,
    "start_time": "2023-01-17T18:37:26.970Z"
   },
   {
    "duration": 9,
    "start_time": "2023-01-17T18:37:27.450Z"
   },
   {
    "duration": 14,
    "start_time": "2023-01-17T18:37:27.835Z"
   },
   {
    "duration": 36,
    "start_time": "2023-01-17T18:37:28.857Z"
   },
   {
    "duration": 13,
    "start_time": "2023-01-17T18:38:29.978Z"
   },
   {
    "duration": 6,
    "start_time": "2023-01-17T18:40:38.489Z"
   },
   {
    "duration": 13,
    "start_time": "2023-01-17T18:41:09.748Z"
   },
   {
    "duration": 12,
    "start_time": "2023-01-17T18:41:15.479Z"
   },
   {
    "duration": 14,
    "start_time": "2023-01-17T18:41:23.329Z"
   },
   {
    "duration": 11,
    "start_time": "2023-01-17T18:41:29.294Z"
   },
   {
    "duration": 8,
    "start_time": "2023-01-17T18:42:21.309Z"
   },
   {
    "duration": 12,
    "start_time": "2023-01-17T18:42:30.694Z"
   },
   {
    "duration": 15,
    "start_time": "2023-01-17T18:43:01.329Z"
   },
   {
    "duration": 5,
    "start_time": "2023-01-17T18:44:39.596Z"
   },
   {
    "duration": 6,
    "start_time": "2023-01-17T18:44:42.095Z"
   },
   {
    "duration": 64,
    "start_time": "2023-01-17T18:44:48.257Z"
   },
   {
    "duration": 4,
    "start_time": "2023-01-17T18:44:48.593Z"
   },
   {
    "duration": 20,
    "start_time": "2023-01-17T18:44:48.911Z"
   },
   {
    "duration": 13,
    "start_time": "2023-01-17T18:44:49.250Z"
   },
   {
    "duration": 17,
    "start_time": "2023-01-17T18:44:49.597Z"
   },
   {
    "duration": 9,
    "start_time": "2023-01-17T18:44:54.059Z"
   },
   {
    "duration": 19,
    "start_time": "2023-01-17T18:44:55.858Z"
   },
   {
    "duration": 7,
    "start_time": "2023-01-17T18:45:08.017Z"
   },
   {
    "duration": 16,
    "start_time": "2023-01-17T18:45:25.958Z"
   },
   {
    "duration": 19,
    "start_time": "2023-01-17T18:46:03.152Z"
   },
   {
    "duration": 19,
    "start_time": "2023-01-17T18:47:56.700Z"
   },
   {
    "duration": 12,
    "start_time": "2023-01-17T18:47:58.639Z"
   },
   {
    "duration": 78,
    "start_time": "2023-01-17T18:49:38.735Z"
   },
   {
    "duration": 15,
    "start_time": "2023-01-17T18:50:13.062Z"
   },
   {
    "duration": 58,
    "start_time": "2023-01-17T18:50:17.676Z"
   },
   {
    "duration": 9,
    "start_time": "2023-01-17T18:50:32.466Z"
   },
   {
    "duration": 5,
    "start_time": "2023-01-17T18:52:56.725Z"
   },
   {
    "duration": 21,
    "start_time": "2023-01-17T18:53:07.849Z"
   },
   {
    "duration": 73,
    "start_time": "2023-01-17T18:53:29.838Z"
   },
   {
    "duration": 4,
    "start_time": "2023-01-17T18:53:30.034Z"
   },
   {
    "duration": 23,
    "start_time": "2023-01-17T18:53:30.209Z"
   },
   {
    "duration": 13,
    "start_time": "2023-01-17T18:53:30.378Z"
   },
   {
    "duration": 18,
    "start_time": "2023-01-17T18:53:30.537Z"
   },
   {
    "duration": 29,
    "start_time": "2023-01-17T18:53:30.871Z"
   },
   {
    "duration": 21,
    "start_time": "2023-01-17T18:53:37.982Z"
   },
   {
    "duration": 15,
    "start_time": "2023-01-17T18:53:54.417Z"
   },
   {
    "duration": 24,
    "start_time": "2023-01-17T18:54:05.630Z"
   },
   {
    "duration": 25,
    "start_time": "2023-01-17T19:01:21.286Z"
   },
   {
    "duration": 28,
    "start_time": "2023-01-17T19:01:38.394Z"
   },
   {
    "duration": 28,
    "start_time": "2023-01-17T19:01:54.319Z"
   },
   {
    "duration": 25,
    "start_time": "2023-01-17T19:02:43.733Z"
   },
   {
    "duration": 28,
    "start_time": "2023-01-17T19:06:11.742Z"
   },
   {
    "duration": 30,
    "start_time": "2023-01-17T19:08:20.846Z"
   },
   {
    "duration": 36,
    "start_time": "2023-01-17T19:08:44.942Z"
   },
   {
    "duration": 36,
    "start_time": "2023-01-17T19:08:54.166Z"
   },
   {
    "duration": 23,
    "start_time": "2023-01-17T19:09:01.561Z"
   },
   {
    "duration": 23,
    "start_time": "2023-01-17T19:09:25.902Z"
   },
   {
    "duration": 29,
    "start_time": "2023-01-17T19:11:23.342Z"
   },
   {
    "duration": 45,
    "start_time": "2023-01-17T19:11:30.738Z"
   },
   {
    "duration": 32,
    "start_time": "2023-01-17T19:11:34.256Z"
   },
   {
    "duration": 40,
    "start_time": "2023-01-17T19:11:43.486Z"
   },
   {
    "duration": 35,
    "start_time": "2023-01-17T19:12:38.633Z"
   },
   {
    "duration": 25,
    "start_time": "2023-01-17T19:12:53.661Z"
   },
   {
    "duration": 51,
    "start_time": "2023-01-17T19:13:07.486Z"
   },
   {
    "duration": 68,
    "start_time": "2023-01-17T19:13:31.481Z"
   },
   {
    "duration": 5,
    "start_time": "2023-01-17T19:13:32.006Z"
   },
   {
    "duration": 24,
    "start_time": "2023-01-17T19:13:32.398Z"
   },
   {
    "duration": 14,
    "start_time": "2023-01-17T19:13:32.757Z"
   },
   {
    "duration": 14,
    "start_time": "2023-01-17T19:13:33.366Z"
   },
   {
    "duration": 58,
    "start_time": "2023-01-17T19:13:35.651Z"
   },
   {
    "duration": 53,
    "start_time": "2023-01-17T19:16:28.041Z"
   },
   {
    "duration": 5,
    "start_time": "2023-01-17T19:16:28.376Z"
   },
   {
    "duration": 18,
    "start_time": "2023-01-17T19:16:28.560Z"
   },
   {
    "duration": 8,
    "start_time": "2023-01-17T19:16:28.768Z"
   },
   {
    "duration": 13,
    "start_time": "2023-01-17T19:16:29.561Z"
   },
   {
    "duration": 40,
    "start_time": "2023-01-17T19:16:31.129Z"
   },
   {
    "duration": 12,
    "start_time": "2023-01-17T19:19:45.829Z"
   },
   {
    "duration": 25,
    "start_time": "2023-01-17T19:20:07.504Z"
   },
   {
    "duration": 7,
    "start_time": "2023-01-17T19:20:31.842Z"
   },
   {
    "duration": 578,
    "start_time": "2023-01-17T19:21:03.044Z"
   },
   {
    "duration": 9,
    "start_time": "2023-01-17T19:21:26.549Z"
   },
   {
    "duration": 16,
    "start_time": "2023-01-17T19:22:42.681Z"
   },
   {
    "duration": 27,
    "start_time": "2023-01-17T19:24:58.132Z"
   },
   {
    "duration": 113,
    "start_time": "2023-01-17T19:25:05.091Z"
   },
   {
    "duration": 4,
    "start_time": "2023-01-17T19:25:05.435Z"
   },
   {
    "duration": 22,
    "start_time": "2023-01-17T19:25:05.587Z"
   },
   {
    "duration": 10,
    "start_time": "2023-01-17T19:25:05.786Z"
   },
   {
    "duration": 16,
    "start_time": "2023-01-17T19:25:06.546Z"
   },
   {
    "duration": 35,
    "start_time": "2023-01-17T19:25:08.007Z"
   },
   {
    "duration": 18,
    "start_time": "2023-01-17T19:25:09.587Z"
   },
   {
    "duration": 17,
    "start_time": "2023-01-17T19:25:19.676Z"
   },
   {
    "duration": 15,
    "start_time": "2023-01-17T19:26:59.872Z"
   },
   {
    "duration": 12,
    "start_time": "2023-01-17T19:27:21.992Z"
   },
   {
    "duration": 1358,
    "start_time": "2023-01-19T12:44:07.910Z"
   },
   {
    "duration": 4,
    "start_time": "2023-01-19T12:45:40.594Z"
   },
   {
    "duration": 18,
    "start_time": "2023-01-19T12:45:46.695Z"
   },
   {
    "duration": 10,
    "start_time": "2023-01-19T12:45:56.087Z"
   },
   {
    "duration": 55,
    "start_time": "2023-01-19T12:46:14.314Z"
   },
   {
    "duration": 4,
    "start_time": "2023-01-19T12:46:15.065Z"
   },
   {
    "duration": 17,
    "start_time": "2023-01-19T12:46:15.369Z"
   },
   {
    "duration": 9,
    "start_time": "2023-01-19T12:46:15.714Z"
   },
   {
    "duration": 15,
    "start_time": "2023-01-19T12:46:16.179Z"
   },
   {
    "duration": 35,
    "start_time": "2023-01-19T12:46:18.063Z"
   },
   {
    "duration": 13,
    "start_time": "2023-01-19T12:47:31.848Z"
   },
   {
    "duration": 93,
    "start_time": "2023-01-19T12:48:17.383Z"
   },
   {
    "duration": 8,
    "start_time": "2023-01-19T12:48:28.801Z"
   },
   {
    "duration": 9,
    "start_time": "2023-01-19T12:48:33.566Z"
   },
   {
    "duration": 15,
    "start_time": "2023-01-19T12:49:16.881Z"
   },
   {
    "duration": 13,
    "start_time": "2023-01-19T12:50:45.395Z"
   },
   {
    "duration": 50,
    "start_time": "2023-01-19T12:59:23.994Z"
   },
   {
    "duration": 3,
    "start_time": "2023-01-19T12:59:24.298Z"
   },
   {
    "duration": 18,
    "start_time": "2023-01-19T12:59:24.464Z"
   },
   {
    "duration": 8,
    "start_time": "2023-01-19T12:59:24.632Z"
   },
   {
    "duration": 14,
    "start_time": "2023-01-19T12:59:24.794Z"
   },
   {
    "duration": 35,
    "start_time": "2023-01-19T12:59:25.134Z"
   },
   {
    "duration": 13,
    "start_time": "2023-01-19T12:59:26.193Z"
   },
   {
    "duration": 8,
    "start_time": "2023-01-19T13:00:04.830Z"
   },
   {
    "duration": 8,
    "start_time": "2023-01-19T13:04:38.086Z"
   },
   {
    "duration": 64,
    "start_time": "2023-01-19T13:04:44.945Z"
   },
   {
    "duration": 13,
    "start_time": "2023-01-19T13:07:26.405Z"
   },
   {
    "duration": 4,
    "start_time": "2023-01-19T13:07:46.766Z"
   },
   {
    "duration": 5,
    "start_time": "2023-01-19T13:07:52.609Z"
   },
   {
    "duration": 11,
    "start_time": "2023-01-19T13:11:01.956Z"
   },
   {
    "duration": 10,
    "start_time": "2023-01-19T13:12:04.403Z"
   },
   {
    "duration": 10,
    "start_time": "2023-01-19T13:12:12.261Z"
   },
   {
    "duration": 22,
    "start_time": "2023-01-19T13:12:24.011Z"
   },
   {
    "duration": 11,
    "start_time": "2023-01-19T13:13:14.557Z"
   },
   {
    "duration": 21,
    "start_time": "2023-01-19T13:13:31.310Z"
   },
   {
    "duration": 147,
    "start_time": "2023-01-19T13:14:37.617Z"
   },
   {
    "duration": 12,
    "start_time": "2023-01-19T13:15:11.957Z"
   },
   {
    "duration": 133,
    "start_time": "2023-01-19T13:15:16.268Z"
   },
   {
    "duration": 128,
    "start_time": "2023-01-19T13:15:22.066Z"
   },
   {
    "duration": 112,
    "start_time": "2023-01-19T13:15:51.884Z"
   },
   {
    "duration": 140,
    "start_time": "2023-01-19T13:16:17.717Z"
   },
   {
    "duration": 107,
    "start_time": "2023-01-19T13:17:27.169Z"
   },
   {
    "duration": 137,
    "start_time": "2023-01-19T13:17:40.449Z"
   },
   {
    "duration": 107,
    "start_time": "2023-01-19T13:18:54.684Z"
   },
   {
    "duration": 79,
    "start_time": "2023-01-19T13:19:01.954Z"
   },
   {
    "duration": 138,
    "start_time": "2023-01-19T13:19:06.245Z"
   },
   {
    "duration": 27,
    "start_time": "2023-01-19T13:19:32.284Z"
   },
   {
    "duration": 22,
    "start_time": "2023-01-19T13:19:41.216Z"
   },
   {
    "duration": 6,
    "start_time": "2023-01-19T13:34:21.085Z"
   },
   {
    "duration": 79,
    "start_time": "2023-01-19T13:35:19.445Z"
   },
   {
    "duration": 8,
    "start_time": "2023-01-19T13:35:31.272Z"
   },
   {
    "duration": 15,
    "start_time": "2023-01-19T13:36:23.113Z"
   },
   {
    "duration": 10,
    "start_time": "2023-01-19T13:37:55.744Z"
   },
   {
    "duration": 6,
    "start_time": "2023-01-19T13:38:18.961Z"
   },
   {
    "duration": 75,
    "start_time": "2023-01-19T13:38:20.603Z"
   },
   {
    "duration": 20,
    "start_time": "2023-01-19T13:38:27.552Z"
   },
   {
    "duration": 5,
    "start_time": "2023-01-19T13:41:06.292Z"
   },
   {
    "duration": 4,
    "start_time": "2023-01-19T13:41:39.541Z"
   },
   {
    "duration": 9,
    "start_time": "2023-01-19T13:41:48.906Z"
   },
   {
    "duration": 6,
    "start_time": "2023-01-19T13:42:12.543Z"
   },
   {
    "duration": 17,
    "start_time": "2023-01-19T13:46:56.609Z"
   },
   {
    "duration": 16,
    "start_time": "2023-01-19T13:47:10.341Z"
   },
   {
    "duration": 12,
    "start_time": "2023-01-19T13:47:28.850Z"
   },
   {
    "duration": 13,
    "start_time": "2023-01-19T13:47:40.152Z"
   },
   {
    "duration": 88,
    "start_time": "2023-01-19T13:48:10.486Z"
   },
   {
    "duration": 36,
    "start_time": "2023-01-19T13:48:17.401Z"
   },
   {
    "duration": 391,
    "start_time": "2023-01-19T13:49:03.405Z"
   },
   {
    "duration": 35,
    "start_time": "2023-01-19T13:50:10.477Z"
   },
   {
    "duration": 41,
    "start_time": "2023-01-19T13:50:18.564Z"
   },
   {
    "duration": 34,
    "start_time": "2023-01-19T13:50:28.528Z"
   },
   {
    "duration": 338,
    "start_time": "2023-01-19T13:51:05.244Z"
   },
   {
    "duration": 1552,
    "start_time": "2023-01-19T13:51:49.088Z"
   },
   {
    "duration": 1593,
    "start_time": "2023-01-19T13:52:02.388Z"
   },
   {
    "duration": 16,
    "start_time": "2023-01-19T13:57:34.057Z"
   },
   {
    "duration": 16,
    "start_time": "2023-01-19T13:58:04.488Z"
   },
   {
    "duration": 15,
    "start_time": "2023-01-19T13:58:17.369Z"
   },
   {
    "duration": 15,
    "start_time": "2023-01-19T13:58:21.807Z"
   },
   {
    "duration": 125,
    "start_time": "2023-01-19T13:59:24.538Z"
   },
   {
    "duration": 21,
    "start_time": "2023-01-19T13:59:32.458Z"
   },
   {
    "duration": 114,
    "start_time": "2023-01-19T14:00:06.197Z"
   },
   {
    "duration": 210,
    "start_time": "2023-01-19T14:00:58.408Z"
   },
   {
    "duration": 218,
    "start_time": "2023-01-19T14:15:34.982Z"
   },
   {
    "duration": 569,
    "start_time": "2023-01-19T14:16:56.379Z"
   },
   {
    "duration": 7,
    "start_time": "2023-01-19T14:19:12.952Z"
   },
   {
    "duration": 14,
    "start_time": "2023-01-19T14:19:28.683Z"
   },
   {
    "duration": 8,
    "start_time": "2023-01-19T14:20:29.149Z"
   },
   {
    "duration": 10,
    "start_time": "2023-01-19T14:21:12.480Z"
   },
   {
    "duration": 9,
    "start_time": "2023-01-19T14:21:24.130Z"
   },
   {
    "duration": 1327,
    "start_time": "2023-01-19T18:29:15.916Z"
   },
   {
    "duration": 4,
    "start_time": "2023-01-19T18:29:17.245Z"
   },
   {
    "duration": 20,
    "start_time": "2023-01-19T18:29:17.776Z"
   },
   {
    "duration": 10,
    "start_time": "2023-01-19T18:29:18.491Z"
   },
   {
    "duration": 16,
    "start_time": "2023-01-19T18:29:19.272Z"
   },
   {
    "duration": 41,
    "start_time": "2023-01-19T18:29:20.450Z"
   },
   {
    "duration": 152,
    "start_time": "2023-01-19T18:29:22.587Z"
   },
   {
    "duration": 8,
    "start_time": "2023-01-19T18:29:42.697Z"
   },
   {
    "duration": 231,
    "start_time": "2023-01-19T18:29:49.409Z"
   },
   {
    "duration": 100,
    "start_time": "2023-01-19T18:30:22.035Z"
   },
   {
    "duration": 8,
    "start_time": "2023-01-19T18:30:37.648Z"
   },
   {
    "duration": 261,
    "start_time": "2023-01-19T18:30:43.249Z"
   },
   {
    "duration": 8,
    "start_time": "2023-01-19T18:30:46.770Z"
   },
   {
    "duration": 8,
    "start_time": "2023-01-19T18:31:05.522Z"
   },
   {
    "duration": 9,
    "start_time": "2023-01-19T18:31:13.036Z"
   },
   {
    "duration": 53,
    "start_time": "2023-01-19T18:31:18.565Z"
   },
   {
    "duration": 4,
    "start_time": "2023-01-19T18:31:19.506Z"
   },
   {
    "duration": 16,
    "start_time": "2023-01-19T18:31:19.763Z"
   },
   {
    "duration": 7,
    "start_time": "2023-01-19T18:31:19.938Z"
   },
   {
    "duration": 12,
    "start_time": "2023-01-19T18:31:20.138Z"
   },
   {
    "duration": 39,
    "start_time": "2023-01-19T18:31:20.785Z"
   },
   {
    "duration": 153,
    "start_time": "2023-01-19T18:31:21.914Z"
   },
   {
    "duration": 8,
    "start_time": "2023-01-19T18:31:23.987Z"
   },
   {
    "duration": 220,
    "start_time": "2023-01-19T18:31:24.466Z"
   },
   {
    "duration": 8,
    "start_time": "2023-01-19T18:31:26.139Z"
   },
   {
    "duration": 29,
    "start_time": "2023-01-19T18:31:34.546Z"
   },
   {
    "duration": 6,
    "start_time": "2023-01-19T18:31:40.187Z"
   },
   {
    "duration": 6,
    "start_time": "2023-01-19T18:31:59.292Z"
   },
   {
    "duration": 8,
    "start_time": "2023-01-19T18:32:07.575Z"
   },
   {
    "duration": 16,
    "start_time": "2023-01-19T18:33:18.749Z"
   },
   {
    "duration": 25,
    "start_time": "2023-01-19T18:34:45.594Z"
   },
   {
    "duration": 14,
    "start_time": "2023-01-19T18:34:56.148Z"
   },
   {
    "duration": 13,
    "start_time": "2023-01-19T18:37:54.848Z"
   },
   {
    "duration": 15,
    "start_time": "2023-01-19T18:52:14.776Z"
   },
   {
    "duration": 17,
    "start_time": "2023-01-19T18:52:50.930Z"
   },
   {
    "duration": 18,
    "start_time": "2023-01-19T18:53:08.248Z"
   },
   {
    "duration": 992,
    "start_time": "2023-01-19T18:53:53.198Z"
   },
   {
    "duration": 74,
    "start_time": "2023-01-19T18:54:12.213Z"
   },
   {
    "duration": 993,
    "start_time": "2023-01-19T18:54:18.793Z"
   },
   {
    "duration": 61,
    "start_time": "2023-01-19T18:55:50.881Z"
   },
   {
    "duration": 4,
    "start_time": "2023-01-19T18:55:51.221Z"
   },
   {
    "duration": 20,
    "start_time": "2023-01-19T18:55:51.375Z"
   },
   {
    "duration": 12,
    "start_time": "2023-01-19T18:55:51.556Z"
   },
   {
    "duration": 14,
    "start_time": "2023-01-19T18:55:51.732Z"
   },
   {
    "duration": 42,
    "start_time": "2023-01-19T18:55:52.063Z"
   },
   {
    "duration": 175,
    "start_time": "2023-01-19T18:55:52.439Z"
   },
   {
    "duration": 11,
    "start_time": "2023-01-19T18:55:52.801Z"
   },
   {
    "duration": 243,
    "start_time": "2023-01-19T18:55:53.361Z"
   },
   {
    "duration": 921,
    "start_time": "2023-01-19T18:56:12.512Z"
   },
   {
    "duration": 163,
    "start_time": "2023-01-19T18:56:21.584Z"
   },
   {
    "duration": 155,
    "start_time": "2023-01-19T18:56:28.396Z"
   },
   {
    "duration": 1065,
    "start_time": "2023-01-19T18:56:40.464Z"
   },
   {
    "duration": 65,
    "start_time": "2023-01-19T19:33:53.911Z"
   },
   {
    "duration": 5,
    "start_time": "2023-01-19T19:33:55.222Z"
   },
   {
    "duration": 17,
    "start_time": "2023-01-19T19:33:55.813Z"
   },
   {
    "duration": 9,
    "start_time": "2023-01-19T19:33:57.079Z"
   },
   {
    "duration": 14,
    "start_time": "2023-01-19T19:33:57.861Z"
   },
   {
    "duration": 47,
    "start_time": "2023-01-19T19:34:04.255Z"
   },
   {
    "duration": 241,
    "start_time": "2023-01-19T19:34:25.655Z"
   },
   {
    "duration": 392,
    "start_time": "2023-01-19T19:34:37.614Z"
   },
   {
    "duration": 867,
    "start_time": "2023-01-19T19:34:47.519Z"
   },
   {
    "duration": 944,
    "start_time": "2023-01-19T19:38:00.232Z"
   },
   {
    "duration": 61,
    "start_time": "2023-01-19T19:40:02.342Z"
   },
   {
    "duration": 5,
    "start_time": "2023-01-19T19:40:02.677Z"
   },
   {
    "duration": 20,
    "start_time": "2023-01-19T19:40:02.845Z"
   },
   {
    "duration": 9,
    "start_time": "2023-01-19T19:40:03.013Z"
   },
   {
    "duration": 17,
    "start_time": "2023-01-19T19:40:04.878Z"
   },
   {
    "duration": 41,
    "start_time": "2023-01-19T19:40:39.488Z"
   },
   {
    "duration": 51,
    "start_time": "2023-01-19T19:40:58.678Z"
   },
   {
    "duration": 4,
    "start_time": "2023-01-19T19:40:59.445Z"
   },
   {
    "duration": 18,
    "start_time": "2023-01-19T19:40:59.843Z"
   },
   {
    "duration": 8,
    "start_time": "2023-01-19T19:41:00.254Z"
   },
   {
    "duration": 18,
    "start_time": "2023-01-19T19:41:00.723Z"
   },
   {
    "duration": 45,
    "start_time": "2023-01-19T19:41:01.847Z"
   },
   {
    "duration": 169,
    "start_time": "2023-01-19T19:41:03.486Z"
   },
   {
    "duration": 8,
    "start_time": "2023-01-19T19:41:05.245Z"
   },
   {
    "duration": 274,
    "start_time": "2023-01-19T19:41:06.115Z"
   },
   {
    "duration": 1006,
    "start_time": "2023-01-19T19:41:12.261Z"
   },
   {
    "duration": 8,
    "start_time": "2023-01-19T19:49:02.026Z"
   },
   {
    "duration": 7,
    "start_time": "2023-01-19T19:49:06.360Z"
   },
   {
    "duration": 21,
    "start_time": "2023-01-19T19:49:13.249Z"
   },
   {
    "duration": 10,
    "start_time": "2023-01-19T19:49:45.928Z"
   },
   {
    "duration": 9,
    "start_time": "2023-01-19T19:49:54.902Z"
   },
   {
    "duration": 50,
    "start_time": "2023-01-19T19:50:06.210Z"
   },
   {
    "duration": 4,
    "start_time": "2023-01-19T19:50:06.514Z"
   },
   {
    "duration": 20,
    "start_time": "2023-01-19T19:50:06.650Z"
   },
   {
    "duration": 11,
    "start_time": "2023-01-19T19:50:06.810Z"
   },
   {
    "duration": 14,
    "start_time": "2023-01-19T19:50:06.984Z"
   },
   {
    "duration": 39,
    "start_time": "2023-01-19T19:50:07.297Z"
   },
   {
    "duration": 144,
    "start_time": "2023-01-19T19:50:07.650Z"
   },
   {
    "duration": 8,
    "start_time": "2023-01-19T19:50:08.689Z"
   },
   {
    "duration": 246,
    "start_time": "2023-01-19T19:50:09.234Z"
   },
   {
    "duration": 921,
    "start_time": "2023-01-19T19:50:10.841Z"
   },
   {
    "duration": 9,
    "start_time": "2023-01-19T19:50:15.090Z"
   },
   {
    "duration": 9,
    "start_time": "2023-01-19T19:50:30.281Z"
   },
   {
    "duration": 7,
    "start_time": "2023-01-19T19:50:45.253Z"
   },
   {
    "duration": 7,
    "start_time": "2023-01-19T19:50:48.212Z"
   },
   {
    "duration": 8,
    "start_time": "2023-01-19T19:50:50.015Z"
   },
   {
    "duration": 8,
    "start_time": "2023-01-19T19:52:04.029Z"
   },
   {
    "duration": 7,
    "start_time": "2023-01-19T19:52:08.519Z"
   },
   {
    "duration": 51,
    "start_time": "2023-01-19T19:52:12.190Z"
   },
   {
    "duration": 4,
    "start_time": "2023-01-19T19:52:12.539Z"
   },
   {
    "duration": 17,
    "start_time": "2023-01-19T19:52:12.692Z"
   },
   {
    "duration": 9,
    "start_time": "2023-01-19T19:52:12.852Z"
   },
   {
    "duration": 14,
    "start_time": "2023-01-19T19:52:13.012Z"
   },
   {
    "duration": 38,
    "start_time": "2023-01-19T19:52:13.351Z"
   },
   {
    "duration": 148,
    "start_time": "2023-01-19T19:52:13.717Z"
   },
   {
    "duration": 9,
    "start_time": "2023-01-19T19:52:14.051Z"
   },
   {
    "duration": 216,
    "start_time": "2023-01-19T19:52:14.219Z"
   },
   {
    "duration": 927,
    "start_time": "2023-01-19T19:52:14.557Z"
   },
   {
    "duration": 13,
    "start_time": "2023-01-19T19:52:15.486Z"
   },
   {
    "duration": 6,
    "start_time": "2023-01-19T19:54:59.524Z"
   },
   {
    "duration": 4,
    "start_time": "2023-01-19T19:55:39.315Z"
   },
   {
    "duration": 4,
    "start_time": "2023-01-19T19:55:46.461Z"
   },
   {
    "duration": 882,
    "start_time": "2023-01-19T20:01:01.384Z"
   },
   {
    "duration": 55,
    "start_time": "2023-01-19T20:01:41.456Z"
   },
   {
    "duration": 8,
    "start_time": "2023-01-19T20:01:42.247Z"
   },
   {
    "duration": 19,
    "start_time": "2023-01-19T20:01:42.632Z"
   },
   {
    "duration": 10,
    "start_time": "2023-01-19T20:01:43.071Z"
   },
   {
    "duration": 15,
    "start_time": "2023-01-19T20:01:43.631Z"
   },
   {
    "duration": 36,
    "start_time": "2023-01-19T20:01:44.863Z"
   },
   {
    "duration": 154,
    "start_time": "2023-01-19T20:01:46.823Z"
   },
   {
    "duration": 6,
    "start_time": "2023-01-19T20:01:48.232Z"
   },
   {
    "duration": 211,
    "start_time": "2023-01-19T20:01:49.315Z"
   },
   {
    "duration": 828,
    "start_time": "2023-01-19T20:01:51.379Z"
   },
   {
    "duration": 6,
    "start_time": "2023-01-19T20:02:21.111Z"
   },
   {
    "duration": 4,
    "start_time": "2023-01-19T20:02:29.865Z"
   },
   {
    "duration": 129,
    "start_time": "2023-01-19T20:02:31.983Z"
   },
   {
    "duration": 2327,
    "start_time": "2023-01-19T20:02:47.233Z"
   },
   {
    "duration": 68,
    "start_time": "2023-01-19T20:03:10.458Z"
   },
   {
    "duration": 2472,
    "start_time": "2023-01-19T20:03:17.169Z"
   },
   {
    "duration": 7,
    "start_time": "2023-01-19T20:04:43.205Z"
   },
   {
    "duration": 5,
    "start_time": "2023-01-19T20:04:43.794Z"
   },
   {
    "duration": 2438,
    "start_time": "2023-01-19T20:04:44.581Z"
   },
   {
    "duration": 54,
    "start_time": "2023-01-19T20:05:38.485Z"
   },
   {
    "duration": 3,
    "start_time": "2023-01-19T20:05:38.869Z"
   },
   {
    "duration": 18,
    "start_time": "2023-01-19T20:05:39.052Z"
   },
   {
    "duration": 8,
    "start_time": "2023-01-19T20:05:39.244Z"
   },
   {
    "duration": 14,
    "start_time": "2023-01-19T20:05:39.439Z"
   },
   {
    "duration": 42,
    "start_time": "2023-01-19T20:05:40.244Z"
   },
   {
    "duration": 175,
    "start_time": "2023-01-19T20:05:41.479Z"
   },
   {
    "duration": 9,
    "start_time": "2023-01-19T20:05:42.376Z"
   },
   {
    "duration": 238,
    "start_time": "2023-01-19T20:05:42.829Z"
   },
   {
    "duration": 875,
    "start_time": "2023-01-19T20:05:47.724Z"
   },
   {
    "duration": 10,
    "start_time": "2023-01-19T20:05:50.636Z"
   },
   {
    "duration": 5,
    "start_time": "2023-01-19T20:05:51.276Z"
   },
   {
    "duration": 2501,
    "start_time": "2023-01-19T20:05:52.461Z"
   },
   {
    "duration": 1603,
    "start_time": "2023-01-20T11:49:19.265Z"
   },
   {
    "duration": 5,
    "start_time": "2023-01-20T11:49:20.871Z"
   },
   {
    "duration": 36,
    "start_time": "2023-01-20T11:49:20.878Z"
   },
   {
    "duration": 12,
    "start_time": "2023-01-20T11:49:20.916Z"
   },
   {
    "duration": 30,
    "start_time": "2023-01-20T11:49:20.930Z"
   },
   {
    "duration": 123,
    "start_time": "2023-01-20T11:49:21.049Z"
   },
   {
    "duration": 15,
    "start_time": "2023-01-20T11:49:21.455Z"
   },
   {
    "duration": 8,
    "start_time": "2023-01-20T11:49:22.759Z"
   },
   {
    "duration": 59,
    "start_time": "2023-01-20T11:49:40.256Z"
   },
   {
    "duration": 5,
    "start_time": "2023-01-20T11:49:43.528Z"
   },
   {
    "duration": 22,
    "start_time": "2023-01-20T11:49:44.664Z"
   },
   {
    "duration": 10,
    "start_time": "2023-01-20T11:49:54.136Z"
   },
   {
    "duration": 17,
    "start_time": "2023-01-20T11:49:55.328Z"
   },
   {
    "duration": 30,
    "start_time": "2023-01-20T11:50:00.032Z"
   },
   {
    "duration": 42,
    "start_time": "2023-01-20T11:50:17.489Z"
   },
   {
    "duration": 180,
    "start_time": "2023-01-20T11:50:26.433Z"
   },
   {
    "duration": 8,
    "start_time": "2023-01-20T11:50:36.644Z"
   },
   {
    "duration": 246,
    "start_time": "2023-01-20T11:50:49.113Z"
   },
   {
    "duration": 1003,
    "start_time": "2023-01-20T11:50:51.466Z"
   },
   {
    "duration": 4,
    "start_time": "2023-01-20T12:05:29.511Z"
   },
   {
    "duration": 29,
    "start_time": "2023-01-20T12:05:36.059Z"
   },
   {
    "duration": 5,
    "start_time": "2023-01-20T12:07:43.388Z"
   },
   {
    "duration": 15,
    "start_time": "2023-01-20T12:08:52.258Z"
   },
   {
    "duration": 11,
    "start_time": "2023-01-20T12:09:13.663Z"
   },
   {
    "duration": 7,
    "start_time": "2023-01-20T12:10:30.375Z"
   },
   {
    "duration": 16,
    "start_time": "2023-01-20T12:10:38.404Z"
   },
   {
    "duration": 274,
    "start_time": "2023-01-20T12:16:58.466Z"
   },
   {
    "duration": 161,
    "start_time": "2023-01-20T12:17:20.217Z"
   },
   {
    "duration": 144,
    "start_time": "2023-01-20T12:17:53.307Z"
   },
   {
    "duration": 206,
    "start_time": "2023-01-20T12:19:51.910Z"
   },
   {
    "duration": 32,
    "start_time": "2023-01-20T13:16:50.608Z"
   },
   {
    "duration": 14,
    "start_time": "2023-01-20T13:17:26.519Z"
   },
   {
    "duration": 27,
    "start_time": "2023-01-20T13:17:39.413Z"
   },
   {
    "duration": 10,
    "start_time": "2023-01-20T13:18:04.604Z"
   },
   {
    "duration": 15,
    "start_time": "2023-01-20T13:18:21.779Z"
   },
   {
    "duration": 91,
    "start_time": "2023-01-20T13:18:27.307Z"
   },
   {
    "duration": 13,
    "start_time": "2023-01-20T13:18:30.398Z"
   },
   {
    "duration": 13,
    "start_time": "2023-01-20T13:18:44.757Z"
   },
   {
    "duration": 16,
    "start_time": "2023-01-20T13:18:55.845Z"
   },
   {
    "duration": 9,
    "start_time": "2023-01-20T13:22:37.151Z"
   },
   {
    "duration": 111,
    "start_time": "2023-01-20T13:23:22.137Z"
   },
   {
    "duration": 13,
    "start_time": "2023-01-20T13:33:02.599Z"
   },
   {
    "duration": 6560,
    "start_time": "2023-01-20T13:33:16.611Z"
   },
   {
    "duration": 6671,
    "start_time": "2023-01-20T13:33:25.594Z"
   },
   {
    "duration": 18,
    "start_time": "2023-01-20T13:34:29.373Z"
   },
   {
    "duration": 11,
    "start_time": "2023-01-20T13:34:36.442Z"
   },
   {
    "duration": 11,
    "start_time": "2023-01-20T13:34:48.724Z"
   },
   {
    "duration": 10,
    "start_time": "2023-01-20T13:35:04.255Z"
   },
   {
    "duration": 10,
    "start_time": "2023-01-20T13:35:36.051Z"
   },
   {
    "duration": 10,
    "start_time": "2023-01-20T13:36:20.081Z"
   },
   {
    "duration": 9,
    "start_time": "2023-01-20T13:36:23.430Z"
   },
   {
    "duration": 11,
    "start_time": "2023-01-20T13:36:51.093Z"
   },
   {
    "duration": 10,
    "start_time": "2023-01-20T13:36:54.492Z"
   },
   {
    "duration": 10,
    "start_time": "2023-01-20T13:36:55.224Z"
   },
   {
    "duration": 178,
    "start_time": "2023-01-20T13:47:21.880Z"
   },
   {
    "duration": 163,
    "start_time": "2023-01-20T13:47:39.032Z"
   },
   {
    "duration": 167,
    "start_time": "2023-01-20T13:47:53.913Z"
   },
   {
    "duration": 188,
    "start_time": "2023-01-20T13:48:08.401Z"
   },
   {
    "duration": 147,
    "start_time": "2023-01-20T13:48:36.341Z"
   },
   {
    "duration": 160,
    "start_time": "2023-01-20T13:50:24.233Z"
   },
   {
    "duration": 1353,
    "start_time": "2023-01-20T13:56:58.923Z"
   },
   {
    "duration": 5,
    "start_time": "2023-01-20T13:57:00.541Z"
   },
   {
    "duration": 19,
    "start_time": "2023-01-20T13:57:01.137Z"
   },
   {
    "duration": 9,
    "start_time": "2023-01-20T13:57:01.713Z"
   },
   {
    "duration": 16,
    "start_time": "2023-01-20T13:57:02.293Z"
   },
   {
    "duration": 41,
    "start_time": "2023-01-20T13:57:03.518Z"
   },
   {
    "duration": 188,
    "start_time": "2023-01-20T13:57:05.219Z"
   },
   {
    "duration": 7,
    "start_time": "2023-01-20T13:57:06.036Z"
   },
   {
    "duration": 246,
    "start_time": "2023-01-20T13:57:06.209Z"
   },
   {
    "duration": 888,
    "start_time": "2023-01-20T13:57:07.174Z"
   },
   {
    "duration": 8,
    "start_time": "2023-01-20T13:57:10.615Z"
   },
   {
    "duration": 5,
    "start_time": "2023-01-20T13:57:12.810Z"
   },
   {
    "duration": 2475,
    "start_time": "2023-01-20T13:57:13.819Z"
   },
   {
    "duration": 6,
    "start_time": "2023-01-20T13:57:16.645Z"
   },
   {
    "duration": 163,
    "start_time": "2023-01-20T13:57:18.437Z"
   },
   {
    "duration": 146,
    "start_time": "2023-01-20T13:57:52.334Z"
   },
   {
    "duration": 140,
    "start_time": "2023-01-20T13:58:02.286Z"
   },
   {
    "duration": 55,
    "start_time": "2023-01-20T14:03:43.094Z"
   },
   {
    "duration": 5,
    "start_time": "2023-01-20T14:03:44.106Z"
   },
   {
    "duration": 27,
    "start_time": "2023-01-20T14:03:44.645Z"
   },
   {
    "duration": 13,
    "start_time": "2023-01-20T14:03:45.078Z"
   },
   {
    "duration": 16,
    "start_time": "2023-01-20T14:03:45.812Z"
   },
   {
    "duration": 45,
    "start_time": "2023-01-20T14:03:47.109Z"
   },
   {
    "duration": 165,
    "start_time": "2023-01-20T14:03:48.317Z"
   },
   {
    "duration": 6,
    "start_time": "2023-01-20T14:03:49.981Z"
   },
   {
    "duration": 229,
    "start_time": "2023-01-20T14:03:50.750Z"
   },
   {
    "duration": 912,
    "start_time": "2023-01-20T14:03:52.982Z"
   },
   {
    "duration": 6,
    "start_time": "2023-01-20T14:03:55.022Z"
   },
   {
    "duration": 5,
    "start_time": "2023-01-20T14:03:55.957Z"
   },
   {
    "duration": 2517,
    "start_time": "2023-01-20T14:03:56.734Z"
   },
   {
    "duration": 7,
    "start_time": "2023-01-20T14:03:59.317Z"
   },
   {
    "duration": 179,
    "start_time": "2023-01-20T14:04:00.877Z"
   },
   {
    "duration": 138,
    "start_time": "2023-01-20T14:04:06.319Z"
   },
   {
    "duration": 136,
    "start_time": "2023-01-20T14:04:46.817Z"
   },
   {
    "duration": 234,
    "start_time": "2023-01-20T14:06:14.237Z"
   },
   {
    "duration": 73,
    "start_time": "2023-01-20T14:18:38.252Z"
   },
   {
    "duration": 126,
    "start_time": "2023-01-20T14:18:49.045Z"
   },
   {
    "duration": 15,
    "start_time": "2023-01-20T14:19:56.771Z"
   },
   {
    "duration": 154,
    "start_time": "2023-01-20T14:20:19.969Z"
   },
   {
    "duration": 189,
    "start_time": "2023-01-20T14:20:44.093Z"
   },
   {
    "duration": 51,
    "start_time": "2023-01-20T14:20:52.460Z"
   },
   {
    "duration": 5,
    "start_time": "2023-01-20T14:20:53.387Z"
   },
   {
    "duration": 20,
    "start_time": "2023-01-20T14:20:53.866Z"
   },
   {
    "duration": 10,
    "start_time": "2023-01-20T14:20:54.354Z"
   },
   {
    "duration": 14,
    "start_time": "2023-01-20T14:20:54.850Z"
   },
   {
    "duration": 40,
    "start_time": "2023-01-20T14:20:55.786Z"
   },
   {
    "duration": 146,
    "start_time": "2023-01-20T14:20:56.715Z"
   },
   {
    "duration": 7,
    "start_time": "2023-01-20T14:20:57.659Z"
   },
   {
    "duration": 238,
    "start_time": "2023-01-20T14:20:58.147Z"
   },
   {
    "duration": 888,
    "start_time": "2023-01-20T14:20:59.282Z"
   },
   {
    "duration": 8,
    "start_time": "2023-01-20T14:21:01.036Z"
   },
   {
    "duration": 5,
    "start_time": "2023-01-20T14:21:01.619Z"
   },
   {
    "duration": 2631,
    "start_time": "2023-01-20T14:21:02.163Z"
   },
   {
    "duration": 7,
    "start_time": "2023-01-20T14:21:04.798Z"
   },
   {
    "duration": 207,
    "start_time": "2023-01-20T14:21:04.807Z"
   },
   {
    "duration": 131,
    "start_time": "2023-01-20T14:21:05.815Z"
   },
   {
    "duration": 130,
    "start_time": "2023-01-20T14:21:48.849Z"
   },
   {
    "duration": 134,
    "start_time": "2023-01-20T14:25:19.084Z"
   },
   {
    "duration": 14,
    "start_time": "2023-01-20T14:26:41.490Z"
   },
   {
    "duration": 129,
    "start_time": "2023-01-20T14:26:50.636Z"
   },
   {
    "duration": 240,
    "start_time": "2023-01-20T14:27:16.898Z"
   },
   {
    "duration": 160,
    "start_time": "2023-01-20T14:27:44.739Z"
   },
   {
    "duration": 169,
    "start_time": "2023-01-20T14:36:54.671Z"
   },
   {
    "duration": 146,
    "start_time": "2023-01-20T14:38:24.256Z"
   },
   {
    "duration": 140,
    "start_time": "2023-01-20T14:39:22.004Z"
   },
   {
    "duration": 142,
    "start_time": "2023-01-20T14:39:41.337Z"
   },
   {
    "duration": 139,
    "start_time": "2023-01-20T14:40:34.210Z"
   },
   {
    "duration": 141,
    "start_time": "2023-01-20T14:41:07.460Z"
   },
   {
    "duration": 135,
    "start_time": "2023-01-20T14:41:49.088Z"
   },
   {
    "duration": 21,
    "start_time": "2023-01-20T15:38:41.350Z"
   },
   {
    "duration": 13,
    "start_time": "2023-01-20T15:39:56.179Z"
   },
   {
    "duration": 9,
    "start_time": "2023-01-20T15:40:40.755Z"
   },
   {
    "duration": 12,
    "start_time": "2023-01-20T15:40:47.565Z"
   },
   {
    "duration": 6,
    "start_time": "2023-01-20T15:41:20.115Z"
   },
   {
    "duration": 93,
    "start_time": "2023-01-20T15:41:44.730Z"
   },
   {
    "duration": 9,
    "start_time": "2023-01-20T15:41:48.309Z"
   },
   {
    "duration": 10,
    "start_time": "2023-01-20T15:42:04.707Z"
   },
   {
    "duration": 138,
    "start_time": "2023-01-20T15:42:27.350Z"
   },
   {
    "duration": 117,
    "start_time": "2023-01-20T15:42:38.109Z"
   },
   {
    "duration": 233,
    "start_time": "2023-01-20T15:42:50.719Z"
   },
   {
    "duration": 163,
    "start_time": "2023-01-20T15:44:08.908Z"
   },
   {
    "duration": 13,
    "start_time": "2023-01-20T15:46:07.829Z"
   },
   {
    "duration": 12,
    "start_time": "2023-01-20T15:46:14.672Z"
   },
   {
    "duration": 72,
    "start_time": "2023-01-20T15:46:25.703Z"
   },
   {
    "duration": 7,
    "start_time": "2023-01-20T15:46:29.296Z"
   },
   {
    "duration": 11,
    "start_time": "2023-01-20T15:46:40.327Z"
   },
   {
    "duration": 10,
    "start_time": "2023-01-20T15:47:11.412Z"
   },
   {
    "duration": 158,
    "start_time": "2023-01-20T15:48:13.150Z"
   },
   {
    "duration": 154,
    "start_time": "2023-01-20T15:48:17.553Z"
   },
   {
    "duration": 172,
    "start_time": "2023-01-20T15:50:02.569Z"
   },
   {
    "duration": 1618,
    "start_time": "2023-01-24T05:55:00.874Z"
   },
   {
    "duration": 5,
    "start_time": "2023-01-24T05:55:02.494Z"
   },
   {
    "duration": 21,
    "start_time": "2023-01-24T05:55:03.250Z"
   },
   {
    "duration": 11,
    "start_time": "2023-01-24T05:55:03.843Z"
   },
   {
    "duration": 16,
    "start_time": "2023-01-24T05:55:04.347Z"
   },
   {
    "duration": 38,
    "start_time": "2023-01-24T05:55:05.715Z"
   },
   {
    "duration": 181,
    "start_time": "2023-01-24T05:55:07.475Z"
   },
   {
    "duration": 8,
    "start_time": "2023-01-24T05:55:08.474Z"
   },
   {
    "duration": 241,
    "start_time": "2023-01-24T05:55:09.231Z"
   },
   {
    "duration": 923,
    "start_time": "2023-01-24T05:55:10.474Z"
   },
   {
    "duration": 8,
    "start_time": "2023-01-24T05:55:14.363Z"
   },
   {
    "duration": 5,
    "start_time": "2023-01-24T05:55:16.125Z"
   },
   {
    "duration": 2664,
    "start_time": "2023-01-24T05:55:17.046Z"
   },
   {
    "duration": 7,
    "start_time": "2023-01-24T05:55:19.938Z"
   },
   {
    "duration": 173,
    "start_time": "2023-01-24T05:55:27.904Z"
   },
   {
    "duration": 156,
    "start_time": "2023-01-24T05:55:40.371Z"
   },
   {
    "duration": 144,
    "start_time": "2023-01-24T05:55:42.622Z"
   },
   {
    "duration": 148,
    "start_time": "2023-01-24T05:55:45.780Z"
   },
   {
    "duration": 147,
    "start_time": "2023-01-24T05:55:46.723Z"
   },
   {
    "duration": 192,
    "start_time": "2023-01-24T05:55:47.694Z"
   },
   {
    "duration": 209,
    "start_time": "2023-01-24T05:55:49.784Z"
   },
   {
    "duration": 187,
    "start_time": "2023-01-24T05:56:20.047Z"
   },
   {
    "duration": 178,
    "start_time": "2023-01-24T05:56:42.389Z"
   },
   {
    "duration": 6,
    "start_time": "2023-01-24T06:24:04.313Z"
   },
   {
    "duration": 5,
    "start_time": "2023-01-24T06:24:10.537Z"
   },
   {
    "duration": 30,
    "start_time": "2023-01-24T06:24:52.723Z"
   },
   {
    "duration": 102,
    "start_time": "2023-01-24T06:26:47.906Z"
   },
   {
    "duration": 22,
    "start_time": "2023-01-24T06:26:58.828Z"
   },
   {
    "duration": 221,
    "start_time": "2023-01-24T06:28:48.350Z"
   },
   {
    "duration": 4,
    "start_time": "2023-01-24T06:30:28.738Z"
   },
   {
    "duration": 4,
    "start_time": "2023-01-24T06:30:44.126Z"
   },
   {
    "duration": 9,
    "start_time": "2023-01-24T06:30:49.195Z"
   },
   {
    "duration": 9,
    "start_time": "2023-01-24T06:31:48.616Z"
   },
   {
    "duration": 16,
    "start_time": "2023-01-24T06:33:51.230Z"
   },
   {
    "duration": 11,
    "start_time": "2023-01-24T06:34:06.721Z"
   },
   {
    "duration": 14,
    "start_time": "2023-01-24T06:38:01.736Z"
   },
   {
    "duration": 19,
    "start_time": "2023-01-24T06:38:43.220Z"
   },
   {
    "duration": 11,
    "start_time": "2023-01-24T06:38:56.221Z"
   },
   {
    "duration": 10,
    "start_time": "2023-01-24T06:39:57.061Z"
   },
   {
    "duration": 166,
    "start_time": "2023-01-24T06:59:42.876Z"
   },
   {
    "duration": 150,
    "start_time": "2023-01-24T06:59:57.572Z"
   },
   {
    "duration": 157,
    "start_time": "2023-01-24T07:12:19.895Z"
   },
   {
    "duration": 161,
    "start_time": "2023-01-24T07:14:49.926Z"
   },
   {
    "duration": 165,
    "start_time": "2023-01-24T07:14:59.193Z"
   },
   {
    "duration": 172,
    "start_time": "2023-01-24T07:15:12.950Z"
   },
   {
    "duration": 174,
    "start_time": "2023-01-24T07:15:29.794Z"
   },
   {
    "duration": 163,
    "start_time": "2023-01-24T07:15:50.573Z"
   },
   {
    "duration": 166,
    "start_time": "2023-01-24T07:16:07.892Z"
   },
   {
    "duration": 177,
    "start_time": "2023-01-24T07:25:43.883Z"
   },
   {
    "duration": 180,
    "start_time": "2023-01-24T07:27:01.398Z"
   },
   {
    "duration": 240,
    "start_time": "2023-01-24T07:28:52.736Z"
   },
   {
    "duration": 171,
    "start_time": "2023-01-24T07:29:30.967Z"
   },
   {
    "duration": 164,
    "start_time": "2023-01-24T07:29:31.275Z"
   },
   {
    "duration": 165,
    "start_time": "2023-01-24T07:29:31.700Z"
   },
   {
    "duration": 7,
    "start_time": "2023-01-24T08:24:28.586Z"
   },
   {
    "duration": 11,
    "start_time": "2023-01-24T08:24:57.171Z"
   },
   {
    "duration": 15,
    "start_time": "2023-01-24T08:25:05.740Z"
   },
   {
    "duration": 7,
    "start_time": "2023-01-24T08:25:21.714Z"
   },
   {
    "duration": 8,
    "start_time": "2023-01-24T08:25:32.032Z"
   },
   {
    "duration": 202,
    "start_time": "2023-01-24T08:33:17.603Z"
   },
   {
    "duration": 151,
    "start_time": "2023-01-24T08:33:26.198Z"
   },
   {
    "duration": 113,
    "start_time": "2023-01-24T08:33:40.949Z"
   },
   {
    "duration": 11,
    "start_time": "2023-01-24T08:33:44.962Z"
   },
   {
    "duration": 162,
    "start_time": "2023-01-24T08:33:53.327Z"
   },
   {
    "duration": 115,
    "start_time": "2023-01-24T08:34:13.007Z"
   },
   {
    "duration": 112,
    "start_time": "2023-01-24T08:34:52.292Z"
   },
   {
    "duration": 118,
    "start_time": "2023-01-24T08:42:30.054Z"
   },
   {
    "duration": 56,
    "start_time": "2023-01-24T09:31:49.974Z"
   },
   {
    "duration": 5,
    "start_time": "2023-01-24T09:31:50.285Z"
   },
   {
    "duration": 19,
    "start_time": "2023-01-24T09:31:50.445Z"
   },
   {
    "duration": 10,
    "start_time": "2023-01-24T09:31:50.612Z"
   },
   {
    "duration": 14,
    "start_time": "2023-01-24T09:31:50.773Z"
   },
   {
    "duration": 44,
    "start_time": "2023-01-24T09:31:51.134Z"
   },
   {
    "duration": 162,
    "start_time": "2023-01-24T09:31:51.469Z"
   },
   {
    "duration": 7,
    "start_time": "2023-01-24T09:31:51.853Z"
   },
   {
    "duration": 348,
    "start_time": "2023-01-24T09:31:52.029Z"
   },
   {
    "duration": 880,
    "start_time": "2023-01-24T09:31:52.420Z"
   },
   {
    "duration": 7,
    "start_time": "2023-01-24T09:31:53.302Z"
   },
   {
    "duration": 6,
    "start_time": "2023-01-24T09:31:53.310Z"
   },
   {
    "duration": 2537,
    "start_time": "2023-01-24T09:31:53.398Z"
   },
   {
    "duration": 7,
    "start_time": "2023-01-24T09:31:55.936Z"
   },
   {
    "duration": 192,
    "start_time": "2023-01-24T09:31:55.944Z"
   },
   {
    "duration": 197,
    "start_time": "2023-01-24T09:31:56.139Z"
   },
   {
    "duration": 168,
    "start_time": "2023-01-24T09:31:56.338Z"
   },
   {
    "duration": 148,
    "start_time": "2023-01-24T09:31:56.507Z"
   },
   {
    "duration": 155,
    "start_time": "2023-01-24T09:31:56.657Z"
   },
   {
    "duration": 145,
    "start_time": "2023-01-24T09:31:56.813Z"
   },
   {
    "duration": 153,
    "start_time": "2023-01-24T09:31:56.960Z"
   },
   {
    "duration": 187,
    "start_time": "2023-01-24T09:31:57.115Z"
   },
   {
    "duration": 174,
    "start_time": "2023-01-24T09:31:57.304Z"
   },
   {
    "duration": 172,
    "start_time": "2023-01-24T09:31:58.958Z"
   },
   {
    "duration": 175,
    "start_time": "2023-01-24T09:32:00.279Z"
   },
   {
    "duration": 171,
    "start_time": "2023-01-24T09:32:00.894Z"
   },
   {
    "duration": 168,
    "start_time": "2023-01-24T09:32:01.758Z"
   },
   {
    "duration": 170,
    "start_time": "2023-01-24T09:32:02.123Z"
   },
   {
    "duration": 289,
    "start_time": "2023-01-24T09:32:02.477Z"
   },
   {
    "duration": 130,
    "start_time": "2023-01-24T09:32:03.430Z"
   },
   {
    "duration": 112,
    "start_time": "2023-01-24T09:32:04.006Z"
   },
   {
    "duration": 131,
    "start_time": "2023-01-24T09:32:04.790Z"
   },
   {
    "duration": 22,
    "start_time": "2023-01-24T09:56:26.811Z"
   },
   {
    "duration": 6,
    "start_time": "2023-01-24T09:59:53.557Z"
   },
   {
    "duration": 25,
    "start_time": "2023-01-24T10:00:00.485Z"
   },
   {
    "duration": 882,
    "start_time": "2023-01-24T10:00:31.388Z"
   },
   {
    "duration": 7,
    "start_time": "2023-01-24T10:00:48.692Z"
   },
   {
    "duration": 9,
    "start_time": "2023-01-24T10:00:52.489Z"
   },
   {
    "duration": 9,
    "start_time": "2023-01-24T10:02:02.182Z"
   },
   {
    "duration": 137,
    "start_time": "2023-01-24T10:02:34.554Z"
   },
   {
    "duration": 13,
    "start_time": "2023-01-24T10:03:02.239Z"
   },
   {
    "duration": 9,
    "start_time": "2023-01-24T10:03:06.847Z"
   },
   {
    "duration": 5,
    "start_time": "2023-01-24T10:07:53.939Z"
   },
   {
    "duration": 46,
    "start_time": "2023-01-24T10:08:29.240Z"
   },
   {
    "duration": 45,
    "start_time": "2023-01-24T10:08:42.712Z"
   },
   {
    "duration": 11,
    "start_time": "2023-01-24T10:09:00.289Z"
   },
   {
    "duration": 6,
    "start_time": "2023-01-24T10:09:15.904Z"
   },
   {
    "duration": 2,
    "start_time": "2023-01-24T10:09:25.751Z"
   },
   {
    "duration": 43,
    "start_time": "2023-01-24T10:10:21.856Z"
   },
   {
    "duration": 5,
    "start_time": "2023-01-24T10:10:26.136Z"
   },
   {
    "duration": 2,
    "start_time": "2023-01-24T10:25:20.926Z"
   },
   {
    "duration": 10,
    "start_time": "2023-01-24T10:25:22.156Z"
   },
   {
    "duration": 3,
    "start_time": "2023-01-24T10:36:35.451Z"
   },
   {
    "duration": 4,
    "start_time": "2023-01-24T10:36:44.037Z"
   },
   {
    "duration": 7,
    "start_time": "2023-01-24T10:37:33.902Z"
   },
   {
    "duration": 6,
    "start_time": "2023-01-24T10:39:22.773Z"
   },
   {
    "duration": 56,
    "start_time": "2023-01-24T10:39:35.360Z"
   },
   {
    "duration": 4,
    "start_time": "2023-01-24T10:39:35.671Z"
   },
   {
    "duration": 18,
    "start_time": "2023-01-24T10:39:35.856Z"
   },
   {
    "duration": 10,
    "start_time": "2023-01-24T10:39:36.048Z"
   },
   {
    "duration": 19,
    "start_time": "2023-01-24T10:39:36.248Z"
   },
   {
    "duration": 41,
    "start_time": "2023-01-24T10:39:36.672Z"
   },
   {
    "duration": 154,
    "start_time": "2023-01-24T10:39:37.423Z"
   },
   {
    "duration": 7,
    "start_time": "2023-01-24T10:39:37.744Z"
   },
   {
    "duration": 233,
    "start_time": "2023-01-24T10:39:37.919Z"
   },
   {
    "duration": 935,
    "start_time": "2023-01-24T10:39:38.271Z"
   },
   {
    "duration": 7,
    "start_time": "2023-01-24T10:39:39.257Z"
   },
   {
    "duration": 4,
    "start_time": "2023-01-24T10:39:39.800Z"
   },
   {
    "duration": 2676,
    "start_time": "2023-01-24T10:39:40.353Z"
   },
   {
    "duration": 8,
    "start_time": "2023-01-24T10:39:43.031Z"
   },
   {
    "duration": 202,
    "start_time": "2023-01-24T10:39:43.040Z"
   },
   {
    "duration": 142,
    "start_time": "2023-01-24T10:39:43.904Z"
   },
   {
    "duration": 151,
    "start_time": "2023-01-24T10:39:44.975Z"
   },
   {
    "duration": 146,
    "start_time": "2023-01-24T10:39:47.247Z"
   },
   {
    "duration": 255,
    "start_time": "2023-01-24T10:39:48.080Z"
   },
   {
    "duration": 139,
    "start_time": "2023-01-24T10:39:49.648Z"
   },
   {
    "duration": 150,
    "start_time": "2023-01-24T10:39:50.640Z"
   },
   {
    "duration": 172,
    "start_time": "2023-01-24T10:39:52.146Z"
   },
   {
    "duration": 181,
    "start_time": "2023-01-24T10:39:53.559Z"
   },
   {
    "duration": 183,
    "start_time": "2023-01-24T10:39:56.569Z"
   },
   {
    "duration": 167,
    "start_time": "2023-01-24T10:39:56.880Z"
   },
   {
    "duration": 162,
    "start_time": "2023-01-24T10:39:57.264Z"
   },
   {
    "duration": 177,
    "start_time": "2023-01-24T10:40:01.240Z"
   },
   {
    "duration": 187,
    "start_time": "2023-01-24T10:40:02.825Z"
   },
   {
    "duration": 199,
    "start_time": "2023-01-24T10:40:04.168Z"
   },
   {
    "duration": 143,
    "start_time": "2023-01-24T10:40:06.840Z"
   },
   {
    "duration": 202,
    "start_time": "2023-01-24T10:40:07.608Z"
   },
   {
    "duration": 120,
    "start_time": "2023-01-24T10:40:08.472Z"
   },
   {
    "duration": 3,
    "start_time": "2023-01-24T10:40:12.414Z"
   },
   {
    "duration": 9,
    "start_time": "2023-01-24T10:40:13.096Z"
   },
   {
    "duration": 7,
    "start_time": "2023-01-24T10:40:14.288Z"
   },
   {
    "duration": 11,
    "start_time": "2023-01-24T10:40:17.722Z"
   },
   {
    "duration": 7,
    "start_time": "2023-01-24T10:40:18.889Z"
   },
   {
    "duration": 2,
    "start_time": "2023-01-24T10:40:24.209Z"
   },
   {
    "duration": 6,
    "start_time": "2023-01-24T10:40:24.777Z"
   },
   {
    "duration": 8,
    "start_time": "2023-01-24T10:54:29.987Z"
   },
   {
    "duration": 3,
    "start_time": "2023-01-24T10:54:31.443Z"
   },
   {
    "duration": 5,
    "start_time": "2023-01-24T10:54:32.395Z"
   },
   {
    "duration": 54,
    "start_time": "2023-01-24T10:57:08.814Z"
   },
   {
    "duration": 4,
    "start_time": "2023-01-24T10:57:09.614Z"
   },
   {
    "duration": 19,
    "start_time": "2023-01-24T10:57:09.999Z"
   },
   {
    "duration": 10,
    "start_time": "2023-01-24T10:57:10.414Z"
   },
   {
    "duration": 14,
    "start_time": "2023-01-24T10:57:10.870Z"
   },
   {
    "duration": 43,
    "start_time": "2023-01-24T10:57:11.670Z"
   },
   {
    "duration": 149,
    "start_time": "2023-01-24T10:57:12.520Z"
   },
   {
    "duration": 7,
    "start_time": "2023-01-24T10:57:13.406Z"
   },
   {
    "duration": 234,
    "start_time": "2023-01-24T10:57:13.790Z"
   },
   {
    "duration": 914,
    "start_time": "2023-01-24T10:57:14.851Z"
   },
   {
    "duration": 8,
    "start_time": "2023-01-24T10:57:19.095Z"
   },
   {
    "duration": 5,
    "start_time": "2023-01-24T10:57:21.246Z"
   },
   {
    "duration": 2622,
    "start_time": "2023-01-24T10:57:22.087Z"
   },
   {
    "duration": 7,
    "start_time": "2023-01-24T10:57:26.903Z"
   },
   {
    "duration": 178,
    "start_time": "2023-01-24T10:57:30.080Z"
   },
   {
    "duration": 152,
    "start_time": "2023-01-24T10:57:35.824Z"
   },
   {
    "duration": 142,
    "start_time": "2023-01-24T10:57:40.063Z"
   },
   {
    "duration": 177,
    "start_time": "2023-01-24T10:57:49.152Z"
   },
   {
    "duration": 156,
    "start_time": "2023-01-24T10:57:49.421Z"
   },
   {
    "duration": 164,
    "start_time": "2023-01-24T10:57:49.623Z"
   },
   {
    "duration": 166,
    "start_time": "2023-01-24T10:57:49.864Z"
   },
   {
    "duration": 293,
    "start_time": "2023-01-24T10:57:50.631Z"
   },
   {
    "duration": 171,
    "start_time": "2023-01-24T10:57:51.566Z"
   },
   {
    "duration": 163,
    "start_time": "2023-01-24T10:57:53.904Z"
   },
   {
    "duration": 167,
    "start_time": "2023-01-24T10:57:55.719Z"
   },
   {
    "duration": 184,
    "start_time": "2023-01-24T10:57:56.056Z"
   },
   {
    "duration": 173,
    "start_time": "2023-01-24T10:57:58.435Z"
   },
   {
    "duration": 168,
    "start_time": "2023-01-24T10:57:59.407Z"
   },
   {
    "duration": 178,
    "start_time": "2023-01-24T10:58:00.032Z"
   },
   {
    "duration": 171,
    "start_time": "2023-01-24T10:58:05.983Z"
   },
   {
    "duration": 107,
    "start_time": "2023-01-24T10:58:06.551Z"
   },
   {
    "duration": 120,
    "start_time": "2023-01-24T10:58:07.239Z"
   },
   {
    "duration": 1411,
    "start_time": "2023-01-24T11:32:09.469Z"
   },
   {
    "duration": 4,
    "start_time": "2023-01-24T11:32:10.882Z"
   },
   {
    "duration": 30,
    "start_time": "2023-01-24T11:32:10.887Z"
   },
   {
    "duration": 9,
    "start_time": "2023-01-24T11:32:10.919Z"
   },
   {
    "duration": 14,
    "start_time": "2023-01-24T11:32:10.929Z"
   },
   {
    "duration": 54,
    "start_time": "2023-01-24T11:32:10.945Z"
   },
   {
    "duration": 171,
    "start_time": "2023-01-24T11:32:11.660Z"
   },
   {
    "duration": 7,
    "start_time": "2023-01-24T11:32:12.492Z"
   },
   {
    "duration": 258,
    "start_time": "2023-01-24T11:32:12.971Z"
   },
   {
    "duration": 1000,
    "start_time": "2023-01-24T11:32:13.663Z"
   },
   {
    "duration": 9,
    "start_time": "2023-01-24T11:32:15.085Z"
   },
   {
    "duration": 5,
    "start_time": "2023-01-24T11:32:15.564Z"
   },
   {
    "duration": 2721,
    "start_time": "2023-01-24T11:32:16.214Z"
   },
   {
    "duration": 8,
    "start_time": "2023-01-24T11:32:18.938Z"
   },
   {
    "duration": 239,
    "start_time": "2023-01-24T11:32:18.947Z"
   },
   {
    "duration": 154,
    "start_time": "2023-01-24T11:32:19.999Z"
   },
   {
    "duration": 180,
    "start_time": "2023-01-24T11:32:20.486Z"
   },
   {
    "duration": 149,
    "start_time": "2023-01-24T11:32:21.501Z"
   },
   {
    "duration": 139,
    "start_time": "2023-01-24T11:32:21.931Z"
   },
   {
    "duration": 188,
    "start_time": "2023-01-24T11:32:22.423Z"
   },
   {
    "duration": 139,
    "start_time": "2023-01-24T11:32:22.989Z"
   },
   {
    "duration": 191,
    "start_time": "2023-01-24T11:32:24.369Z"
   },
   {
    "duration": 197,
    "start_time": "2023-01-24T11:32:25.565Z"
   },
   {
    "duration": 370,
    "start_time": "2023-01-24T11:32:30.895Z"
   },
   {
    "duration": 200,
    "start_time": "2023-01-24T11:32:32.326Z"
   },
   {
    "duration": 176,
    "start_time": "2023-01-24T11:32:34.867Z"
   },
   {
    "duration": 178,
    "start_time": "2023-01-24T11:32:36.319Z"
   },
   {
    "duration": 160,
    "start_time": "2023-01-24T11:32:36.764Z"
   },
   {
    "duration": 160,
    "start_time": "2023-01-24T11:32:37.194Z"
   },
   {
    "duration": 116,
    "start_time": "2023-01-24T11:32:39.237Z"
   },
   {
    "duration": 101,
    "start_time": "2023-01-24T11:32:40.477Z"
   },
   {
    "duration": 124,
    "start_time": "2023-01-24T11:32:42.494Z"
   },
   {
    "duration": 2,
    "start_time": "2023-01-24T11:32:47.398Z"
   },
   {
    "duration": 8,
    "start_time": "2023-01-24T11:32:48.174Z"
   },
   {
    "duration": 10,
    "start_time": "2023-01-24T11:32:51.463Z"
   },
   {
    "duration": 2,
    "start_time": "2023-01-24T11:33:00.663Z"
   },
   {
    "duration": 5,
    "start_time": "2023-01-24T11:33:01.564Z"
   },
   {
    "duration": 113,
    "start_time": "2023-01-24T11:41:03.252Z"
   },
   {
    "duration": 14,
    "start_time": "2023-01-24T11:41:26.060Z"
   },
   {
    "duration": 11,
    "start_time": "2023-01-24T11:41:34.221Z"
   },
   {
    "duration": 30,
    "start_time": "2023-01-24T11:41:40.965Z"
   },
   {
    "duration": 13,
    "start_time": "2023-01-24T11:41:47.098Z"
   },
   {
    "duration": 8,
    "start_time": "2023-01-24T11:44:46.936Z"
   },
   {
    "duration": 22,
    "start_time": "2023-01-24T11:45:26.894Z"
   },
   {
    "duration": 9,
    "start_time": "2023-01-24T11:45:31.658Z"
   },
   {
    "duration": 10,
    "start_time": "2023-01-24T11:45:38.100Z"
   },
   {
    "duration": 36,
    "start_time": "2023-01-24T11:45:44.291Z"
   },
   {
    "duration": 8,
    "start_time": "2023-01-24T11:45:53.780Z"
   },
   {
    "duration": 9,
    "start_time": "2023-01-24T11:46:05.360Z"
   },
   {
    "duration": 7,
    "start_time": "2023-01-24T11:46:45.682Z"
   },
   {
    "duration": 7,
    "start_time": "2023-01-24T11:48:32.037Z"
   },
   {
    "duration": 6,
    "start_time": "2023-01-24T11:49:15.273Z"
   },
   {
    "duration": 6,
    "start_time": "2023-01-24T11:49:32.924Z"
   },
   {
    "duration": 9,
    "start_time": "2023-01-24T11:49:46.561Z"
   },
   {
    "duration": 8,
    "start_time": "2023-01-24T11:50:05.797Z"
   },
   {
    "duration": 2,
    "start_time": "2023-01-24T11:50:16.334Z"
   },
   {
    "duration": 6,
    "start_time": "2023-01-24T11:50:17.094Z"
   },
   {
    "duration": 5,
    "start_time": "2023-01-24T11:51:26.213Z"
   },
   {
    "duration": 6,
    "start_time": "2023-01-24T11:51:39.806Z"
   },
   {
    "duration": 5,
    "start_time": "2023-01-24T11:51:44.516Z"
   },
   {
    "duration": 12,
    "start_time": "2023-01-24T11:58:00.997Z"
   },
   {
    "duration": 9,
    "start_time": "2023-01-24T11:58:53.266Z"
   },
   {
    "duration": 7,
    "start_time": "2023-01-24T12:00:30.938Z"
   },
   {
    "duration": 1136,
    "start_time": "2023-01-24T12:25:03.448Z"
   },
   {
    "duration": 5,
    "start_time": "2023-01-24T12:25:04.586Z"
   },
   {
    "duration": 23,
    "start_time": "2023-01-24T12:25:04.598Z"
   },
   {
    "duration": 9,
    "start_time": "2023-01-24T12:25:04.623Z"
   },
   {
    "duration": 17,
    "start_time": "2023-01-24T12:25:04.633Z"
   },
   {
    "duration": 59,
    "start_time": "2023-01-24T12:25:04.652Z"
   },
   {
    "duration": 162,
    "start_time": "2023-01-24T12:25:04.713Z"
   },
   {
    "duration": 7,
    "start_time": "2023-01-24T12:25:04.876Z"
   },
   {
    "duration": 233,
    "start_time": "2023-01-24T12:25:04.885Z"
   },
   {
    "duration": 874,
    "start_time": "2023-01-24T12:25:05.121Z"
   },
   {
    "duration": 8,
    "start_time": "2023-01-24T12:25:05.999Z"
   },
   {
    "duration": 8,
    "start_time": "2023-01-24T12:25:06.009Z"
   },
   {
    "duration": 2484,
    "start_time": "2023-01-24T12:25:06.019Z"
   },
   {
    "duration": 6,
    "start_time": "2023-01-24T12:25:08.505Z"
   },
   {
    "duration": 181,
    "start_time": "2023-01-24T12:25:08.513Z"
   },
   {
    "duration": 142,
    "start_time": "2023-01-24T12:25:08.698Z"
   },
   {
    "duration": 160,
    "start_time": "2023-01-24T12:25:08.841Z"
   },
   {
    "duration": 154,
    "start_time": "2023-01-24T12:25:09.002Z"
   },
   {
    "duration": 143,
    "start_time": "2023-01-24T12:25:09.158Z"
   },
   {
    "duration": 134,
    "start_time": "2023-01-24T12:25:09.302Z"
   },
   {
    "duration": 135,
    "start_time": "2023-01-24T12:25:09.438Z"
   },
   {
    "duration": 162,
    "start_time": "2023-01-24T12:25:09.574Z"
   },
   {
    "duration": 164,
    "start_time": "2023-01-24T12:25:09.738Z"
   },
   {
    "duration": 276,
    "start_time": "2023-01-24T12:25:09.904Z"
   },
   {
    "duration": 160,
    "start_time": "2023-01-24T12:25:10.182Z"
   },
   {
    "duration": 166,
    "start_time": "2023-01-24T12:25:10.344Z"
   },
   {
    "duration": 187,
    "start_time": "2023-01-24T12:25:10.512Z"
   },
   {
    "duration": 163,
    "start_time": "2023-01-24T12:25:10.702Z"
   },
   {
    "duration": 169,
    "start_time": "2023-01-24T12:25:10.867Z"
   },
   {
    "duration": 126,
    "start_time": "2023-01-24T12:25:11.038Z"
   },
   {
    "duration": 103,
    "start_time": "2023-01-24T12:25:11.166Z"
   },
   {
    "duration": 117,
    "start_time": "2023-01-24T12:25:11.270Z"
   },
   {
    "duration": 11,
    "start_time": "2023-01-24T12:25:11.388Z"
   },
   {
    "duration": 19,
    "start_time": "2023-01-24T12:25:11.400Z"
   },
   {
    "duration": 21,
    "start_time": "2023-01-24T12:25:11.421Z"
   },
   {
    "duration": 11,
    "start_time": "2023-01-24T12:25:11.444Z"
   },
   {
    "duration": 11,
    "start_time": "2023-01-24T12:25:11.457Z"
   },
   {
    "duration": 10,
    "start_time": "2023-01-24T12:25:11.470Z"
   },
   {
    "duration": 25,
    "start_time": "2023-01-24T12:25:11.482Z"
   },
   {
    "duration": 7,
    "start_time": "2023-01-24T12:25:11.509Z"
   },
   {
    "duration": 23,
    "start_time": "2023-01-24T14:47:25.408Z"
   },
   {
    "duration": 55,
    "start_time": "2023-01-24T15:02:00.553Z"
   },
   {
    "duration": 1170,
    "start_time": "2023-01-24T15:02:12.419Z"
   },
   {
    "duration": 26,
    "start_time": "2023-01-24T15:02:13.591Z"
   },
   {
    "duration": 7,
    "start_time": "2023-01-24T15:02:13.619Z"
   },
   {
    "duration": 24,
    "start_time": "2023-01-24T15:02:13.628Z"
   },
   {
    "duration": 8,
    "start_time": "2023-01-24T15:02:13.654Z"
   },
   {
    "duration": 18,
    "start_time": "2023-01-24T15:02:13.664Z"
   },
   {
    "duration": 55,
    "start_time": "2023-01-24T15:02:13.683Z"
   },
   {
    "duration": 87,
    "start_time": "2023-01-24T15:02:13.740Z"
   },
   {
    "duration": 208,
    "start_time": "2023-01-24T15:02:13.829Z"
   },
   {
    "duration": 9,
    "start_time": "2023-01-24T15:02:14.039Z"
   },
   {
    "duration": 275,
    "start_time": "2023-01-24T15:02:14.050Z"
   },
   {
    "duration": 904,
    "start_time": "2023-01-24T15:02:14.327Z"
   },
   {
    "duration": 8,
    "start_time": "2023-01-24T15:02:15.232Z"
   },
   {
    "duration": 7,
    "start_time": "2023-01-24T15:02:15.243Z"
   },
   {
    "duration": 2612,
    "start_time": "2023-01-24T15:02:15.251Z"
   },
   {
    "duration": 8,
    "start_time": "2023-01-24T15:02:17.865Z"
   },
   {
    "duration": 208,
    "start_time": "2023-01-24T15:02:17.874Z"
   },
   {
    "duration": 171,
    "start_time": "2023-01-24T15:02:18.084Z"
   },
   {
    "duration": 181,
    "start_time": "2023-01-24T15:02:18.257Z"
   },
   {
    "duration": 185,
    "start_time": "2023-01-24T15:02:18.440Z"
   },
   {
    "duration": 195,
    "start_time": "2023-01-24T15:02:18.628Z"
   },
   {
    "duration": 166,
    "start_time": "2023-01-24T15:02:18.825Z"
   },
   {
    "duration": 172,
    "start_time": "2023-01-24T15:02:18.999Z"
   },
   {
    "duration": 207,
    "start_time": "2023-01-24T15:02:19.172Z"
   },
   {
    "duration": 205,
    "start_time": "2023-01-24T15:02:19.382Z"
   },
   {
    "duration": 359,
    "start_time": "2023-01-24T15:02:19.608Z"
   },
   {
    "duration": 194,
    "start_time": "2023-01-24T15:02:19.969Z"
   },
   {
    "duration": 202,
    "start_time": "2023-01-24T15:02:20.165Z"
   },
   {
    "duration": 246,
    "start_time": "2023-01-24T15:02:20.370Z"
   },
   {
    "duration": 216,
    "start_time": "2023-01-24T15:02:20.618Z"
   },
   {
    "duration": 229,
    "start_time": "2023-01-24T15:02:20.836Z"
   },
   {
    "duration": 153,
    "start_time": "2023-01-24T15:02:21.067Z"
   },
   {
    "duration": 124,
    "start_time": "2023-01-24T15:02:21.222Z"
   },
   {
    "duration": 142,
    "start_time": "2023-01-24T15:02:21.347Z"
   },
   {
    "duration": 10,
    "start_time": "2023-01-24T15:02:21.491Z"
   },
   {
    "duration": 49,
    "start_time": "2023-01-24T15:02:21.502Z"
   },
   {
    "duration": 28,
    "start_time": "2023-01-24T15:02:21.553Z"
   },
   {
    "duration": 11,
    "start_time": "2023-01-24T15:02:21.584Z"
   },
   {
    "duration": 28,
    "start_time": "2023-01-24T15:02:21.597Z"
   },
   {
    "duration": 24,
    "start_time": "2023-01-24T15:02:21.627Z"
   },
   {
    "duration": 19,
    "start_time": "2023-01-24T15:02:21.655Z"
   },
   {
    "duration": 21,
    "start_time": "2023-01-24T15:02:21.676Z"
   },
   {
    "duration": 5,
    "start_time": "2023-01-24T16:21:35.074Z"
   },
   {
    "duration": 10,
    "start_time": "2023-01-24T16:26:41.179Z"
   },
   {
    "duration": 1360,
    "start_time": "2023-01-24T18:42:06.204Z"
   },
   {
    "duration": 2,
    "start_time": "2023-01-24T18:45:13.964Z"
   },
   {
    "duration": 55,
    "start_time": "2023-01-24T18:45:15.112Z"
   },
   {
    "duration": 60,
    "start_time": "2023-01-24T18:46:46.011Z"
   },
   {
    "duration": 13,
    "start_time": "2023-01-24T18:48:34.342Z"
   },
   {
    "duration": 17,
    "start_time": "2023-01-24T18:54:46.317Z"
   },
   {
    "duration": 13,
    "start_time": "2023-01-24T18:55:32.048Z"
   },
   {
    "duration": 13,
    "start_time": "2023-01-24T18:55:36.875Z"
   },
   {
    "duration": 4,
    "start_time": "2023-01-24T18:56:49.333Z"
   },
   {
    "duration": 58,
    "start_time": "2023-01-24T18:57:57.012Z"
   },
   {
    "duration": 26,
    "start_time": "2023-01-24T18:58:07.189Z"
   },
   {
    "duration": 3,
    "start_time": "2023-01-24T18:58:33.198Z"
   },
   {
    "duration": 50,
    "start_time": "2023-01-24T18:58:47.106Z"
   },
   {
    "duration": 2,
    "start_time": "2023-01-24T18:58:56.581Z"
   },
   {
    "duration": 66,
    "start_time": "2023-01-24T18:59:00.794Z"
   },
   {
    "duration": 15,
    "start_time": "2023-01-24T18:59:04.001Z"
   },
   {
    "duration": 20,
    "start_time": "2023-01-24T18:59:14.735Z"
   },
   {
    "duration": 4,
    "start_time": "2023-01-24T18:59:21.825Z"
   },
   {
    "duration": 89,
    "start_time": "2023-01-24T19:00:29.636Z"
   },
   {
    "duration": 4,
    "start_time": "2023-01-24T19:00:36.353Z"
   },
   {
    "duration": 20,
    "start_time": "2023-01-24T19:01:50.753Z"
   },
   {
    "duration": 52,
    "start_time": "2023-01-24T19:02:09.275Z"
   },
   {
    "duration": 19,
    "start_time": "2023-01-24T19:03:06.938Z"
   },
   {
    "duration": 14,
    "start_time": "2023-01-24T19:03:56.490Z"
   },
   {
    "duration": 10,
    "start_time": "2023-01-24T19:08:08.570Z"
   },
   {
    "duration": 23,
    "start_time": "2023-01-24T19:17:34.390Z"
   },
   {
    "duration": 840,
    "start_time": "2023-01-24T19:17:59.061Z"
   },
   {
    "duration": 25,
    "start_time": "2023-01-24T19:18:11.551Z"
   },
   {
    "duration": 67,
    "start_time": "2023-01-24T19:20:04.726Z"
   },
   {
    "duration": 41,
    "start_time": "2023-01-24T19:27:03.514Z"
   },
   {
    "duration": 68,
    "start_time": "2023-01-24T19:33:19.498Z"
   },
   {
    "duration": 1285,
    "start_time": "2023-01-25T14:59:42.215Z"
   },
   {
    "duration": 306,
    "start_time": "2023-01-25T14:59:45.329Z"
   },
   {
    "duration": 15,
    "start_time": "2023-01-25T14:59:55.634Z"
   },
   {
    "duration": 17,
    "start_time": "2023-01-25T15:00:00.774Z"
   },
   {
    "duration": 6,
    "start_time": "2023-01-25T15:00:11.707Z"
   },
   {
    "duration": 6,
    "start_time": "2023-01-25T15:00:44.840Z"
   },
   {
    "duration": 17,
    "start_time": "2023-01-25T15:00:45.794Z"
   },
   {
    "duration": 9,
    "start_time": "2023-01-25T15:00:54.586Z"
   },
   {
    "duration": 24,
    "start_time": "2023-01-25T15:02:12.588Z"
   },
   {
    "duration": 24,
    "start_time": "2023-01-25T15:03:20.536Z"
   },
   {
    "duration": 75,
    "start_time": "2023-01-25T15:07:43.097Z"
   },
   {
    "duration": 54,
    "start_time": "2023-01-25T15:09:43.191Z"
   },
   {
    "duration": 885,
    "start_time": "2023-01-25T15:10:40.386Z"
   },
   {
    "duration": 7,
    "start_time": "2023-01-25T15:10:54.051Z"
   },
   {
    "duration": 7,
    "start_time": "2023-01-25T15:11:12.855Z"
   },
   {
    "duration": 6,
    "start_time": "2023-01-25T15:11:26.536Z"
   },
   {
    "duration": 6,
    "start_time": "2023-01-25T15:14:44.746Z"
   },
   {
    "duration": 19,
    "start_time": "2023-01-25T15:19:34.394Z"
   },
   {
    "duration": 22,
    "start_time": "2023-01-25T15:20:02.541Z"
   },
   {
    "duration": 8,
    "start_time": "2023-01-25T15:20:21.734Z"
   },
   {
    "duration": 10,
    "start_time": "2023-01-25T15:20:28.058Z"
   },
   {
    "duration": 6,
    "start_time": "2023-01-25T15:20:49.594Z"
   },
   {
    "duration": 8,
    "start_time": "2023-01-25T15:20:55.042Z"
   },
   {
    "duration": 13,
    "start_time": "2023-01-25T15:23:12.661Z"
   },
   {
    "duration": 8,
    "start_time": "2023-01-25T15:23:23.884Z"
   },
   {
    "duration": 14,
    "start_time": "2023-01-25T15:25:08.370Z"
   },
   {
    "duration": 7,
    "start_time": "2023-01-25T15:25:27.552Z"
   },
   {
    "duration": 8,
    "start_time": "2023-01-25T15:25:38.985Z"
   },
   {
    "duration": 6,
    "start_time": "2023-01-25T15:26:53.139Z"
   },
   {
    "duration": 7,
    "start_time": "2023-01-25T15:27:08.300Z"
   },
   {
    "duration": 3,
    "start_time": "2023-01-25T15:27:14.097Z"
   },
   {
    "duration": 59,
    "start_time": "2023-01-25T15:27:14.418Z"
   },
   {
    "duration": 16,
    "start_time": "2023-01-25T15:27:14.898Z"
   },
   {
    "duration": 15,
    "start_time": "2023-01-25T15:27:15.457Z"
   },
   {
    "duration": 4,
    "start_time": "2023-01-25T15:27:16.013Z"
   },
   {
    "duration": 4,
    "start_time": "2023-01-25T15:27:20.795Z"
   },
   {
    "duration": 16,
    "start_time": "2023-01-25T15:27:21.442Z"
   },
   {
    "duration": 7,
    "start_time": "2023-01-25T15:27:21.937Z"
   },
   {
    "duration": 14,
    "start_time": "2023-01-25T15:27:25.418Z"
   },
   {
    "duration": 25,
    "start_time": "2023-01-25T15:27:38.293Z"
   },
   {
    "duration": 74,
    "start_time": "2023-01-25T15:27:42.074Z"
   },
   {
    "duration": 6,
    "start_time": "2023-01-25T15:27:53.067Z"
   },
   {
    "duration": 7,
    "start_time": "2023-01-25T15:27:57.866Z"
   },
   {
    "duration": 785,
    "start_time": "2023-01-25T15:31:02.233Z"
   },
   {
    "duration": 1201,
    "start_time": "2023-01-25T15:31:23.153Z"
   },
   {
    "duration": 174,
    "start_time": "2023-01-25T15:33:35.615Z"
   },
   {
    "duration": 44,
    "start_time": "2023-01-25T15:36:28.441Z"
   },
   {
    "duration": 183,
    "start_time": "2023-01-25T15:36:33.906Z"
   },
   {
    "duration": 146,
    "start_time": "2023-01-25T15:36:46.106Z"
   },
   {
    "duration": 141,
    "start_time": "2023-01-25T15:37:16.078Z"
   },
   {
    "duration": 146,
    "start_time": "2023-01-25T15:37:31.589Z"
   },
   {
    "duration": 124,
    "start_time": "2023-01-25T15:38:18.076Z"
   },
   {
    "duration": 151,
    "start_time": "2023-01-25T15:38:41.568Z"
   },
   {
    "duration": 157,
    "start_time": "2023-01-25T15:39:50.894Z"
   },
   {
    "duration": 162,
    "start_time": "2023-01-25T15:40:01.165Z"
   },
   {
    "duration": 169,
    "start_time": "2023-01-25T15:40:11.023Z"
   },
   {
    "duration": 52,
    "start_time": "2023-01-25T15:42:46.165Z"
   },
   {
    "duration": 60,
    "start_time": "2023-01-25T15:43:00.894Z"
   },
   {
    "duration": 242,
    "start_time": "2023-01-25T15:43:06.617Z"
   },
   {
    "duration": 138,
    "start_time": "2023-01-25T15:43:17.598Z"
   },
   {
    "duration": 101,
    "start_time": "2023-01-25T15:43:51.188Z"
   },
   {
    "duration": 147,
    "start_time": "2023-01-25T15:43:58.958Z"
   },
   {
    "duration": 150,
    "start_time": "2023-01-25T15:44:19.904Z"
   },
   {
    "duration": 153,
    "start_time": "2023-01-25T15:44:33.291Z"
   },
   {
    "duration": 137,
    "start_time": "2023-01-25T15:44:46.516Z"
   },
   {
    "duration": 147,
    "start_time": "2023-01-25T15:45:19.264Z"
   },
   {
    "duration": 266,
    "start_time": "2023-01-25T15:47:06.982Z"
   },
   {
    "duration": 267,
    "start_time": "2023-01-25T15:47:33.252Z"
   },
   {
    "duration": 323,
    "start_time": "2023-01-25T15:48:19.248Z"
   },
   {
    "duration": 144,
    "start_time": "2023-01-25T15:50:25.625Z"
   },
   {
    "duration": 263,
    "start_time": "2023-01-25T15:51:26.029Z"
   },
   {
    "duration": 3,
    "start_time": "2023-01-25T15:52:46.115Z"
   },
   {
    "duration": 58,
    "start_time": "2023-01-25T15:52:47.490Z"
   },
   {
    "duration": 14,
    "start_time": "2023-01-25T15:52:51.719Z"
   },
   {
    "duration": 17,
    "start_time": "2023-01-25T15:52:53.978Z"
   },
   {
    "duration": 3,
    "start_time": "2023-01-25T15:52:55.970Z"
   },
   {
    "duration": 5,
    "start_time": "2023-01-25T15:52:59.322Z"
   },
   {
    "duration": 15,
    "start_time": "2023-01-25T15:53:02.016Z"
   },
   {
    "duration": 10,
    "start_time": "2023-01-25T15:53:03.010Z"
   },
   {
    "duration": 16,
    "start_time": "2023-01-25T15:53:34.540Z"
   },
   {
    "duration": 22,
    "start_time": "2023-01-25T15:53:41.300Z"
   },
   {
    "duration": 68,
    "start_time": "2023-01-25T15:53:45.580Z"
   },
   {
    "duration": 10,
    "start_time": "2023-01-25T15:53:55.011Z"
   },
   {
    "duration": 7,
    "start_time": "2023-01-25T15:53:59.731Z"
   },
   {
    "duration": 152,
    "start_time": "2023-01-25T15:54:17.554Z"
   },
   {
    "duration": 9,
    "start_time": "2023-01-25T15:54:21.651Z"
   },
   {
    "duration": 10,
    "start_time": "2023-01-25T15:54:27.008Z"
   },
   {
    "duration": 237,
    "start_time": "2023-01-25T15:54:28.061Z"
   },
   {
    "duration": 7,
    "start_time": "2023-01-25T15:56:46.316Z"
   },
   {
    "duration": 227,
    "start_time": "2023-01-25T15:56:48.089Z"
   },
   {
    "duration": 850,
    "start_time": "2023-01-25T15:58:55.690Z"
   },
   {
    "duration": 987,
    "start_time": "2023-01-25T15:59:36.889Z"
   },
   {
    "duration": 896,
    "start_time": "2023-01-25T16:00:53.362Z"
   },
   {
    "duration": 938,
    "start_time": "2023-01-25T16:01:40.497Z"
   },
   {
    "duration": 54,
    "start_time": "2023-01-25T16:02:12.418Z"
   },
   {
    "duration": 51,
    "start_time": "2023-01-25T16:02:31.478Z"
   },
   {
    "duration": 857,
    "start_time": "2023-01-25T16:02:43.659Z"
   },
   {
    "duration": 49,
    "start_time": "2023-01-25T16:03:12.537Z"
   },
   {
    "duration": 955,
    "start_time": "2023-01-25T16:03:27.721Z"
   },
   {
    "duration": 879,
    "start_time": "2023-01-25T16:04:12.371Z"
   },
   {
    "duration": 6,
    "start_time": "2023-01-25T16:08:05.741Z"
   },
   {
    "duration": 4,
    "start_time": "2023-01-25T16:08:07.099Z"
   },
   {
    "duration": 4,
    "start_time": "2023-01-25T16:09:16.107Z"
   },
   {
    "duration": 4,
    "start_time": "2023-01-25T16:09:43.862Z"
   },
   {
    "duration": 7,
    "start_time": "2023-01-25T16:09:47.072Z"
   },
   {
    "duration": 5,
    "start_time": "2023-01-25T16:09:48.891Z"
   },
   {
    "duration": 1489,
    "start_time": "2023-01-25T16:09:49.897Z"
   },
   {
    "duration": 6,
    "start_time": "2023-01-25T16:10:46.385Z"
   },
   {
    "duration": 25,
    "start_time": "2023-01-25T16:11:05.404Z"
   },
   {
    "duration": 8,
    "start_time": "2023-01-25T16:11:29.869Z"
   },
   {
    "duration": 8,
    "start_time": "2023-01-25T16:11:58.603Z"
   },
   {
    "duration": 5,
    "start_time": "2023-01-25T16:12:01.024Z"
   },
   {
    "duration": 1587,
    "start_time": "2023-01-25T16:12:16.234Z"
   },
   {
    "duration": 1446,
    "start_time": "2023-01-25T16:12:27.465Z"
   },
   {
    "duration": 1696,
    "start_time": "2023-01-25T16:13:36.689Z"
   },
   {
    "duration": 1523,
    "start_time": "2023-01-25T16:14:18.606Z"
   },
   {
    "duration": 53,
    "start_time": "2023-01-25T16:20:44.553Z"
   },
   {
    "duration": 268,
    "start_time": "2023-01-25T16:21:17.255Z"
   },
   {
    "duration": 6,
    "start_time": "2023-01-25T16:21:17.525Z"
   },
   {
    "duration": 173,
    "start_time": "2023-01-25T16:21:17.532Z"
   },
   {
    "duration": 24,
    "start_time": "2023-01-25T16:21:18.397Z"
   },
   {
    "duration": 3,
    "start_time": "2023-01-25T16:21:37.497Z"
   },
   {
    "duration": 59,
    "start_time": "2023-01-25T16:21:37.843Z"
   },
   {
    "duration": 14,
    "start_time": "2023-01-25T16:21:38.299Z"
   },
   {
    "duration": 15,
    "start_time": "2023-01-25T16:21:38.794Z"
   },
   {
    "duration": 4,
    "start_time": "2023-01-25T16:21:39.395Z"
   },
   {
    "duration": 4,
    "start_time": "2023-01-25T16:21:40.946Z"
   },
   {
    "duration": 21,
    "start_time": "2023-01-25T16:21:41.290Z"
   },
   {
    "duration": 9,
    "start_time": "2023-01-25T16:21:41.650Z"
   },
   {
    "duration": 14,
    "start_time": "2023-01-25T16:21:42.574Z"
   },
   {
    "duration": 25,
    "start_time": "2023-01-25T16:21:43.900Z"
   },
   {
    "duration": 70,
    "start_time": "2023-01-25T16:21:58.876Z"
   },
   {
    "duration": 7,
    "start_time": "2023-01-25T16:21:59.570Z"
   },
   {
    "duration": 7,
    "start_time": "2023-01-25T16:21:59.906Z"
   },
   {
    "duration": 139,
    "start_time": "2023-01-25T16:22:00.595Z"
   },
   {
    "duration": 7,
    "start_time": "2023-01-25T16:22:01.804Z"
   },
   {
    "duration": 240,
    "start_time": "2023-01-25T16:22:02.195Z"
   },
   {
    "duration": 983,
    "start_time": "2023-01-25T16:22:02.739Z"
   },
   {
    "duration": 10,
    "start_time": "2023-01-25T16:25:45.147Z"
   },
   {
    "duration": 5,
    "start_time": "2023-01-25T16:25:47.357Z"
   },
   {
    "duration": 1875,
    "start_time": "2023-01-25T16:25:47.715Z"
   },
   {
    "duration": 6,
    "start_time": "2023-01-25T16:26:10.379Z"
   },
   {
    "duration": 154,
    "start_time": "2023-01-25T16:29:06.837Z"
   },
   {
    "duration": 140,
    "start_time": "2023-01-25T16:29:19.998Z"
   },
   {
    "duration": 4,
    "start_time": "2023-01-25T16:31:18.416Z"
   },
   {
    "duration": 6,
    "start_time": "2023-01-25T16:31:39.583Z"
   },
   {
    "duration": 55,
    "start_time": "2023-01-25T16:31:41.073Z"
   },
   {
    "duration": 5,
    "start_time": "2023-01-25T16:31:45.183Z"
   },
   {
    "duration": 1697,
    "start_time": "2023-01-25T16:32:44.341Z"
   },
   {
    "duration": 1811,
    "start_time": "2023-01-25T16:32:48.702Z"
   },
   {
    "duration": 205,
    "start_time": "2023-01-25T16:33:27.552Z"
   },
   {
    "duration": 250,
    "start_time": "2023-01-25T16:33:36.146Z"
   },
   {
    "duration": 304,
    "start_time": "2023-01-25T16:36:53.907Z"
   },
   {
    "duration": 400,
    "start_time": "2023-01-25T16:38:55.037Z"
   },
   {
    "duration": 111,
    "start_time": "2023-01-25T16:40:34.636Z"
   },
   {
    "duration": 260,
    "start_time": "2023-01-25T16:40:49.947Z"
   },
   {
    "duration": 119,
    "start_time": "2023-01-25T16:41:00.740Z"
   },
   {
    "duration": 148,
    "start_time": "2023-01-25T16:44:04.905Z"
   },
   {
    "duration": 9,
    "start_time": "2023-01-25T16:46:18.645Z"
   },
   {
    "duration": 138,
    "start_time": "2023-01-25T16:46:44.498Z"
   },
   {
    "duration": 279,
    "start_time": "2023-01-25T16:47:37.513Z"
   },
   {
    "duration": 330,
    "start_time": "2023-01-25T16:47:41.971Z"
   },
   {
    "duration": 115,
    "start_time": "2023-01-25T16:47:48.825Z"
   },
   {
    "duration": 220,
    "start_time": "2023-01-25T16:47:56.231Z"
   },
   {
    "duration": 100,
    "start_time": "2023-01-25T16:48:16.420Z"
   },
   {
    "duration": 229,
    "start_time": "2023-01-25T16:48:33.146Z"
   },
   {
    "duration": 73,
    "start_time": "2023-01-25T16:53:06.843Z"
   },
   {
    "duration": 3,
    "start_time": "2023-01-25T16:53:10.900Z"
   },
   {
    "duration": 59,
    "start_time": "2023-01-25T16:53:11.283Z"
   },
   {
    "duration": 13,
    "start_time": "2023-01-25T16:53:11.807Z"
   },
   {
    "duration": 16,
    "start_time": "2023-01-25T16:53:12.394Z"
   },
   {
    "duration": 4,
    "start_time": "2023-01-25T16:53:12.943Z"
   },
   {
    "duration": 4,
    "start_time": "2023-01-25T16:53:13.895Z"
   },
   {
    "duration": 19,
    "start_time": "2023-01-25T16:53:14.281Z"
   },
   {
    "duration": 9,
    "start_time": "2023-01-25T16:53:14.681Z"
   },
   {
    "duration": 18,
    "start_time": "2023-01-25T16:53:15.480Z"
   },
   {
    "duration": 26,
    "start_time": "2023-01-25T16:53:16.295Z"
   },
   {
    "duration": 84,
    "start_time": "2023-01-25T16:53:17.947Z"
   },
   {
    "duration": 7,
    "start_time": "2023-01-25T16:53:19.651Z"
   },
   {
    "duration": 8,
    "start_time": "2023-01-25T16:53:20.179Z"
   },
   {
    "duration": 160,
    "start_time": "2023-01-25T16:53:21.264Z"
   },
   {
    "duration": 7,
    "start_time": "2023-01-25T16:53:23.079Z"
   },
   {
    "duration": 249,
    "start_time": "2023-01-25T16:53:23.615Z"
   },
   {
    "duration": 1195,
    "start_time": "2023-01-25T16:53:24.064Z"
   },
   {
    "duration": 15,
    "start_time": "2023-01-25T16:53:25.261Z"
   },
   {
    "duration": 5,
    "start_time": "2023-01-25T16:53:25.623Z"
   },
   {
    "duration": 1769,
    "start_time": "2023-01-25T16:53:26.080Z"
   },
   {
    "duration": 295,
    "start_time": "2023-01-25T16:53:29.084Z"
   },
   {
    "duration": 16,
    "start_time": "2023-01-25T16:58:53.270Z"
   },
   {
    "duration": 79,
    "start_time": "2023-01-25T16:59:05.837Z"
   },
   {
    "duration": 201,
    "start_time": "2023-01-25T16:59:37.444Z"
   },
   {
    "duration": 104,
    "start_time": "2023-01-25T16:59:51.923Z"
   },
   {
    "duration": 70,
    "start_time": "2023-01-25T17:00:09.088Z"
   },
   {
    "duration": 12,
    "start_time": "2023-01-25T17:01:05.242Z"
   },
   {
    "duration": 1392,
    "start_time": "2023-01-25T18:23:39.524Z"
   },
   {
    "duration": 118,
    "start_time": "2023-01-25T18:23:40.918Z"
   },
   {
    "duration": 13,
    "start_time": "2023-01-25T18:23:41.038Z"
   },
   {
    "duration": 30,
    "start_time": "2023-01-25T18:23:41.053Z"
   },
   {
    "duration": 5,
    "start_time": "2023-01-25T18:23:41.243Z"
   },
   {
    "duration": 6,
    "start_time": "2023-01-25T18:23:42.113Z"
   },
   {
    "duration": 21,
    "start_time": "2023-01-25T18:23:42.481Z"
   },
   {
    "duration": 9,
    "start_time": "2023-01-25T18:23:42.824Z"
   },
   {
    "duration": 17,
    "start_time": "2023-01-25T18:23:43.551Z"
   },
   {
    "duration": 26,
    "start_time": "2023-01-25T18:23:44.308Z"
   },
   {
    "duration": 81,
    "start_time": "2023-01-25T18:23:47.470Z"
   },
   {
    "duration": 6,
    "start_time": "2023-01-25T18:23:48.977Z"
   },
   {
    "duration": 7,
    "start_time": "2023-01-25T18:23:49.784Z"
   },
   {
    "duration": 179,
    "start_time": "2023-01-25T18:24:04.737Z"
   },
   {
    "duration": 9,
    "start_time": "2023-01-25T18:24:24.805Z"
   },
   {
    "duration": 281,
    "start_time": "2023-01-25T18:24:26.312Z"
   },
   {
    "duration": 1025,
    "start_time": "2023-01-25T18:24:30.696Z"
   },
   {
    "duration": 11,
    "start_time": "2023-01-25T18:24:36.256Z"
   },
   {
    "duration": 6,
    "start_time": "2023-01-25T18:24:44.944Z"
   },
   {
    "duration": 1939,
    "start_time": "2023-01-25T18:24:45.845Z"
   },
   {
    "duration": 286,
    "start_time": "2023-01-25T18:26:16.234Z"
   },
   {
    "duration": 273,
    "start_time": "2023-01-25T18:26:37.517Z"
   },
   {
    "duration": 293,
    "start_time": "2023-01-25T18:27:00.072Z"
   },
   {
    "duration": 290,
    "start_time": "2023-01-25T18:29:20.606Z"
   },
   {
    "duration": 385,
    "start_time": "2023-01-25T18:29:23.359Z"
   },
   {
    "duration": 104,
    "start_time": "2023-01-25T18:34:01.262Z"
   },
   {
    "duration": 144,
    "start_time": "2023-01-25T18:34:13.623Z"
   },
   {
    "duration": 146,
    "start_time": "2023-01-25T18:34:43.669Z"
   },
   {
    "duration": 155,
    "start_time": "2023-01-25T18:37:51.369Z"
   },
   {
    "duration": 185,
    "start_time": "2023-01-25T18:37:54.049Z"
   },
   {
    "duration": 162,
    "start_time": "2023-01-25T18:40:10.203Z"
   },
   {
    "duration": 68,
    "start_time": "2023-01-25T18:41:13.886Z"
   },
   {
    "duration": 155,
    "start_time": "2023-01-25T18:41:31.766Z"
   },
   {
    "duration": 144,
    "start_time": "2023-01-25T18:41:57.949Z"
   },
   {
    "duration": 157,
    "start_time": "2023-01-25T18:42:08.260Z"
   },
   {
    "duration": 137,
    "start_time": "2023-01-25T18:44:30.285Z"
   },
   {
    "duration": 167,
    "start_time": "2023-01-25T18:44:34.215Z"
   },
   {
    "duration": 155,
    "start_time": "2023-01-25T18:46:57.291Z"
   },
   {
    "duration": 152,
    "start_time": "2023-01-25T18:47:05.001Z"
   },
   {
    "duration": 11,
    "start_time": "2023-01-25T18:51:08.145Z"
   },
   {
    "duration": 265,
    "start_time": "2023-01-25T18:52:56.045Z"
   },
   {
    "duration": 23,
    "start_time": "2023-01-25T18:53:12.278Z"
   },
   {
    "duration": 1220,
    "start_time": "2023-01-25T18:53:32.165Z"
   },
   {
    "duration": 5,
    "start_time": "2023-01-25T18:53:58.956Z"
   },
   {
    "duration": 210,
    "start_time": "2023-01-25T18:54:08.061Z"
   },
   {
    "duration": 3,
    "start_time": "2023-01-25T18:59:30.126Z"
   },
   {
    "duration": 61,
    "start_time": "2023-01-25T18:59:30.462Z"
   },
   {
    "duration": 15,
    "start_time": "2023-01-25T18:59:30.954Z"
   },
   {
    "duration": 18,
    "start_time": "2023-01-25T18:59:31.415Z"
   },
   {
    "duration": 4,
    "start_time": "2023-01-25T18:59:31.914Z"
   },
   {
    "duration": 7,
    "start_time": "2023-01-25T18:59:32.751Z"
   },
   {
    "duration": 19,
    "start_time": "2023-01-25T18:59:33.078Z"
   },
   {
    "duration": 11,
    "start_time": "2023-01-25T18:59:33.430Z"
   },
   {
    "duration": 15,
    "start_time": "2023-01-25T18:59:34.123Z"
   },
   {
    "duration": 26,
    "start_time": "2023-01-25T18:59:34.866Z"
   },
   {
    "duration": 105,
    "start_time": "2023-01-25T18:59:36.619Z"
   },
   {
    "duration": 7,
    "start_time": "2023-01-25T18:59:39.575Z"
   },
   {
    "duration": 8,
    "start_time": "2023-01-25T18:59:40.053Z"
   },
   {
    "duration": 161,
    "start_time": "2023-01-25T18:59:40.886Z"
   },
   {
    "duration": 11,
    "start_time": "2023-01-25T18:59:42.381Z"
   },
   {
    "duration": 275,
    "start_time": "2023-01-25T18:59:43.053Z"
   },
   {
    "duration": 1108,
    "start_time": "2023-01-25T18:59:43.814Z"
   },
   {
    "duration": 10,
    "start_time": "2023-01-25T18:59:51.706Z"
   },
   {
    "duration": 6,
    "start_time": "2023-01-25T19:00:12.021Z"
   },
   {
    "duration": 2092,
    "start_time": "2023-01-25T19:00:16.585Z"
   },
   {
    "duration": 304,
    "start_time": "2023-01-25T19:01:06.312Z"
   },
   {
    "duration": 336,
    "start_time": "2023-01-25T19:01:12.936Z"
   },
   {
    "duration": 159,
    "start_time": "2023-01-25T19:01:26.757Z"
   },
   {
    "duration": 176,
    "start_time": "2023-01-25T19:01:27.568Z"
   },
   {
    "duration": 172,
    "start_time": "2023-01-25T19:01:29.592Z"
   },
   {
    "duration": 167,
    "start_time": "2023-01-25T19:01:31.044Z"
   },
   {
    "duration": 216,
    "start_time": "2023-01-25T19:01:59.524Z"
   },
   {
    "duration": 5,
    "start_time": "2023-01-25T19:04:24.457Z"
   },
   {
    "duration": 4,
    "start_time": "2023-01-25T19:04:34.105Z"
   },
   {
    "duration": 22,
    "start_time": "2023-01-25T19:04:34.436Z"
   },
   {
    "duration": 7,
    "start_time": "2023-01-25T19:04:35.475Z"
   },
   {
    "duration": 24,
    "start_time": "2023-01-25T19:04:37.239Z"
   },
   {
    "duration": 28,
    "start_time": "2023-01-25T19:04:38.482Z"
   },
   {
    "duration": 39,
    "start_time": "2023-01-25T19:04:40.957Z"
   },
   {
    "duration": 6,
    "start_time": "2023-01-25T19:04:43.557Z"
   },
   {
    "duration": 7,
    "start_time": "2023-01-25T19:04:45.477Z"
   },
   {
    "duration": 3,
    "start_time": "2023-01-25T19:04:59.756Z"
   },
   {
    "duration": 62,
    "start_time": "2023-01-25T19:05:00.091Z"
   },
   {
    "duration": 15,
    "start_time": "2023-01-25T19:05:00.581Z"
   },
   {
    "duration": 18,
    "start_time": "2023-01-25T19:05:01.029Z"
   },
   {
    "duration": 5,
    "start_time": "2023-01-25T19:05:01.492Z"
   },
   {
    "duration": 5,
    "start_time": "2023-01-25T19:05:02.691Z"
   },
   {
    "duration": 18,
    "start_time": "2023-01-25T19:05:04.167Z"
   },
   {
    "duration": 10,
    "start_time": "2023-01-25T19:05:05.660Z"
   },
   {
    "duration": 19,
    "start_time": "2023-01-25T19:05:09.237Z"
   },
   {
    "duration": 24,
    "start_time": "2023-01-25T19:05:17.477Z"
   },
   {
    "duration": 82,
    "start_time": "2023-01-25T19:05:22.965Z"
   },
   {
    "duration": 7,
    "start_time": "2023-01-25T19:05:26.364Z"
   },
   {
    "duration": 8,
    "start_time": "2023-01-25T19:05:32.653Z"
   },
   {
    "duration": 162,
    "start_time": "2023-01-25T19:05:51.636Z"
   },
   {
    "duration": 9,
    "start_time": "2023-01-25T19:05:52.285Z"
   },
   {
    "duration": 397,
    "start_time": "2023-01-25T19:05:52.620Z"
   },
   {
    "duration": 1124,
    "start_time": "2023-01-25T19:05:53.018Z"
   },
   {
    "duration": 9,
    "start_time": "2023-01-25T19:05:54.145Z"
   },
   {
    "duration": 20,
    "start_time": "2023-01-25T19:05:54.156Z"
   },
   {
    "duration": 2105,
    "start_time": "2023-01-25T19:05:54.282Z"
   },
   {
    "duration": 180,
    "start_time": "2023-01-25T19:06:14.841Z"
   },
   {
    "duration": 6,
    "start_time": "2023-01-25T19:06:15.574Z"
   },
   {
    "duration": 289,
    "start_time": "2023-01-25T19:06:15.916Z"
   },
   {
    "duration": 30,
    "start_time": "2023-01-25T19:06:16.245Z"
   },
   {
    "duration": 2,
    "start_time": "2023-01-25T19:06:29.262Z"
   },
   {
    "duration": 60,
    "start_time": "2023-01-25T19:06:29.590Z"
   },
   {
    "duration": 14,
    "start_time": "2023-01-25T19:06:30.045Z"
   },
   {
    "duration": 22,
    "start_time": "2023-01-25T19:06:30.520Z"
   },
   {
    "duration": 4,
    "start_time": "2023-01-25T19:06:30.990Z"
   },
   {
    "duration": 5,
    "start_time": "2023-01-25T19:06:31.869Z"
   },
   {
    "duration": 25,
    "start_time": "2023-01-25T19:06:32.249Z"
   },
   {
    "duration": 13,
    "start_time": "2023-01-25T19:06:32.645Z"
   },
   {
    "duration": 21,
    "start_time": "2023-01-25T19:06:33.374Z"
   },
   {
    "duration": 32,
    "start_time": "2023-01-25T19:06:34.121Z"
   },
   {
    "duration": 83,
    "start_time": "2023-01-25T19:06:35.061Z"
   },
   {
    "duration": 7,
    "start_time": "2023-01-25T19:06:35.938Z"
   },
   {
    "duration": 9,
    "start_time": "2023-01-25T19:06:36.533Z"
   },
   {
    "duration": 159,
    "start_time": "2023-01-25T19:06:38.519Z"
   },
   {
    "duration": 8,
    "start_time": "2023-01-25T19:06:39.630Z"
   },
   {
    "duration": 274,
    "start_time": "2023-01-25T19:06:40.087Z"
   },
   {
    "duration": 1020,
    "start_time": "2023-01-25T19:06:41.727Z"
   },
   {
    "duration": 8,
    "start_time": "2023-01-25T19:06:45.810Z"
   },
   {
    "duration": 4,
    "start_time": "2023-01-25T19:06:47.086Z"
   },
   {
    "duration": 1815,
    "start_time": "2023-01-25T19:07:10.863Z"
   },
   {
    "duration": 390,
    "start_time": "2023-01-25T19:07:15.750Z"
   },
   {
    "duration": 273,
    "start_time": "2023-01-25T19:07:17.847Z"
   },
   {
    "duration": 144,
    "start_time": "2023-01-25T19:07:38.767Z"
   },
   {
    "duration": 145,
    "start_time": "2023-01-25T19:07:41.175Z"
   },
   {
    "duration": 165,
    "start_time": "2023-01-25T19:07:45.119Z"
   },
   {
    "duration": 159,
    "start_time": "2023-01-25T19:07:50.567Z"
   },
   {
    "duration": 223,
    "start_time": "2023-01-25T19:07:59.440Z"
   },
   {
    "duration": 10,
    "start_time": "2023-01-25T19:10:24.322Z"
   },
   {
    "duration": 14,
    "start_time": "2023-01-25T19:10:37.954Z"
   },
   {
    "duration": 188,
    "start_time": "2023-01-25T19:11:05.125Z"
   },
   {
    "duration": 177,
    "start_time": "2023-01-25T19:11:11.121Z"
   },
   {
    "duration": 69,
    "start_time": "2023-01-25T19:12:49.141Z"
   },
   {
    "duration": 12,
    "start_time": "2023-01-25T19:13:15.927Z"
   },
   {
    "duration": 286,
    "start_time": "2023-01-25T19:13:26.507Z"
   },
   {
    "duration": 307,
    "start_time": "2023-01-25T19:22:34.698Z"
   },
   {
    "duration": 262,
    "start_time": "2023-01-25T19:23:27.084Z"
   },
   {
    "duration": 314,
    "start_time": "2023-01-25T19:23:46.105Z"
   },
   {
    "duration": 349,
    "start_time": "2023-01-25T19:25:31.844Z"
   },
   {
    "duration": 270,
    "start_time": "2023-01-25T19:25:45.825Z"
   },
   {
    "duration": 389,
    "start_time": "2023-01-25T19:25:56.268Z"
   },
   {
    "duration": 329,
    "start_time": "2023-01-25T19:26:14.525Z"
   },
   {
    "duration": 302,
    "start_time": "2023-01-25T19:26:55.294Z"
   },
   {
    "duration": 333,
    "start_time": "2023-01-25T19:31:33.604Z"
   },
   {
    "duration": 172,
    "start_time": "2023-01-25T19:31:41.411Z"
   },
   {
    "duration": 87,
    "start_time": "2023-01-25T19:33:00.980Z"
   },
   {
    "duration": 182,
    "start_time": "2023-01-25T19:34:05.404Z"
   },
   {
    "duration": 208,
    "start_time": "2023-01-25T19:36:35.389Z"
   },
   {
    "duration": 360,
    "start_time": "2023-01-25T19:36:54.066Z"
   },
   {
    "duration": 179,
    "start_time": "2023-01-25T19:37:39.724Z"
   },
   {
    "duration": 198,
    "start_time": "2023-01-25T19:37:45.960Z"
   },
   {
    "duration": 203,
    "start_time": "2023-01-25T19:38:26.789Z"
   },
   {
    "duration": 193,
    "start_time": "2023-01-25T19:45:10.090Z"
   },
   {
    "duration": 190,
    "start_time": "2023-01-25T19:45:54.497Z"
   },
   {
    "duration": 75,
    "start_time": "2023-01-25T19:46:16.339Z"
   },
   {
    "duration": 225,
    "start_time": "2023-01-25T19:46:18.179Z"
   },
   {
    "duration": 210,
    "start_time": "2023-01-25T19:47:46.783Z"
   },
   {
    "duration": 4,
    "start_time": "2023-01-25T19:47:55.000Z"
   },
   {
    "duration": 69,
    "start_time": "2023-01-25T19:47:55.290Z"
   },
   {
    "duration": 15,
    "start_time": "2023-01-25T19:47:55.761Z"
   },
   {
    "duration": 17,
    "start_time": "2023-01-25T19:47:56.201Z"
   },
   {
    "duration": 6,
    "start_time": "2023-01-25T19:47:56.647Z"
   },
   {
    "duration": 5,
    "start_time": "2023-01-25T19:47:57.407Z"
   },
   {
    "duration": 18,
    "start_time": "2023-01-25T19:47:57.728Z"
   },
   {
    "duration": 12,
    "start_time": "2023-01-25T19:47:58.200Z"
   },
   {
    "duration": 21,
    "start_time": "2023-01-25T19:47:58.880Z"
   },
   {
    "duration": 35,
    "start_time": "2023-01-25T19:47:59.609Z"
   },
   {
    "duration": 85,
    "start_time": "2023-01-25T19:48:00.552Z"
   },
   {
    "duration": 8,
    "start_time": "2023-01-25T19:48:01.568Z"
   },
   {
    "duration": 11,
    "start_time": "2023-01-25T19:48:01.927Z"
   },
   {
    "duration": 173,
    "start_time": "2023-01-25T19:48:02.656Z"
   },
   {
    "duration": 10,
    "start_time": "2023-01-25T19:48:08.976Z"
   },
   {
    "duration": 277,
    "start_time": "2023-01-25T19:48:09.841Z"
   },
   {
    "duration": 1162,
    "start_time": "2023-01-25T19:48:20.343Z"
   },
   {
    "duration": 11,
    "start_time": "2023-01-25T19:48:23.475Z"
   },
   {
    "duration": 5,
    "start_time": "2023-01-25T19:48:24.369Z"
   },
   {
    "duration": 1929,
    "start_time": "2023-01-25T19:48:24.929Z"
   },
   {
    "duration": 315,
    "start_time": "2023-01-25T19:48:28.441Z"
   },
   {
    "duration": 418,
    "start_time": "2023-01-25T19:48:29.523Z"
   },
   {
    "duration": 149,
    "start_time": "2023-01-25T19:48:32.458Z"
   },
   {
    "duration": 166,
    "start_time": "2023-01-25T19:48:35.376Z"
   },
   {
    "duration": 202,
    "start_time": "2023-01-25T19:48:37.472Z"
   },
   {
    "duration": 180,
    "start_time": "2023-01-25T19:48:37.824Z"
   },
   {
    "duration": 227,
    "start_time": "2023-01-25T19:48:38.696Z"
   },
   {
    "duration": 9,
    "start_time": "2023-01-25T19:48:40.360Z"
   },
   {
    "duration": 3,
    "start_time": "2023-01-25T19:49:12.873Z"
   },
   {
    "duration": 485,
    "start_time": "2023-01-25T19:49:15.548Z"
   },
   {
    "duration": 193,
    "start_time": "2023-01-25T19:49:29.985Z"
   },
   {
    "duration": 190,
    "start_time": "2023-01-25T19:49:32.689Z"
   },
   {
    "duration": 185,
    "start_time": "2023-01-25T19:49:33.995Z"
   },
   {
    "duration": 220,
    "start_time": "2023-01-25T19:49:43.930Z"
   },
   {
    "duration": 294,
    "start_time": "2023-01-25T19:50:14.738Z"
   },
   {
    "duration": 88,
    "start_time": "2023-01-25T19:54:18.487Z"
   },
   {
    "duration": 158,
    "start_time": "2023-01-25T19:56:28.973Z"
   },
   {
    "duration": 140,
    "start_time": "2023-01-25T19:57:18.271Z"
   },
   {
    "duration": 112,
    "start_time": "2023-01-25T19:57:25.707Z"
   },
   {
    "duration": 118,
    "start_time": "2023-01-25T19:58:07.920Z"
   },
   {
    "duration": 4,
    "start_time": "2023-01-25T20:02:22.449Z"
   },
   {
    "duration": 63,
    "start_time": "2023-01-25T20:02:23.057Z"
   },
   {
    "duration": 15,
    "start_time": "2023-01-25T20:02:24.369Z"
   },
   {
    "duration": 18,
    "start_time": "2023-01-25T20:02:28.073Z"
   },
   {
    "duration": 5,
    "start_time": "2023-01-25T20:02:29.457Z"
   },
   {
    "duration": 5,
    "start_time": "2023-01-25T20:02:31.857Z"
   },
   {
    "duration": 19,
    "start_time": "2023-01-25T20:02:33.265Z"
   },
   {
    "duration": 10,
    "start_time": "2023-01-25T20:02:33.993Z"
   },
   {
    "duration": 24,
    "start_time": "2023-01-25T20:02:43.485Z"
   },
   {
    "duration": 38,
    "start_time": "2023-01-25T20:02:48.091Z"
   },
   {
    "duration": 81,
    "start_time": "2023-01-25T20:03:17.984Z"
   },
   {
    "duration": 7,
    "start_time": "2023-01-25T20:03:30.389Z"
   },
   {
    "duration": 7,
    "start_time": "2023-01-25T20:03:33.194Z"
   },
   {
    "duration": 158,
    "start_time": "2023-01-25T20:03:33.827Z"
   },
   {
    "duration": 9,
    "start_time": "2023-01-25T20:03:34.499Z"
   },
   {
    "duration": 292,
    "start_time": "2023-01-25T20:03:34.826Z"
   },
   {
    "duration": 1060,
    "start_time": "2023-01-25T20:03:35.185Z"
   },
   {
    "duration": 15,
    "start_time": "2023-01-25T20:03:36.246Z"
   },
   {
    "duration": 5,
    "start_time": "2023-01-25T20:03:36.363Z"
   },
   {
    "duration": 2054,
    "start_time": "2023-01-25T20:03:36.517Z"
   },
   {
    "duration": 302,
    "start_time": "2023-01-25T20:03:38.574Z"
   },
   {
    "duration": 353,
    "start_time": "2023-01-25T20:03:38.878Z"
   },
   {
    "duration": 177,
    "start_time": "2023-01-25T20:03:39.233Z"
   },
   {
    "duration": 171,
    "start_time": "2023-01-25T20:03:39.412Z"
   },
   {
    "duration": 276,
    "start_time": "2023-01-25T20:03:39.585Z"
   },
   {
    "duration": 177,
    "start_time": "2023-01-25T20:03:39.863Z"
   },
   {
    "duration": 201,
    "start_time": "2023-01-25T20:03:40.626Z"
   },
   {
    "duration": 2,
    "start_time": "2023-01-25T20:03:41.454Z"
   },
   {
    "duration": 348,
    "start_time": "2023-01-25T20:03:42.608Z"
   },
   {
    "duration": 185,
    "start_time": "2023-01-25T20:03:43.699Z"
   },
   {
    "duration": 188,
    "start_time": "2023-01-25T20:03:44.610Z"
   },
   {
    "duration": 185,
    "start_time": "2023-01-25T20:03:45.468Z"
   },
   {
    "duration": 201,
    "start_time": "2023-01-25T20:03:47.051Z"
   },
   {
    "duration": 183,
    "start_time": "2023-01-25T20:03:47.500Z"
   },
   {
    "duration": 194,
    "start_time": "2023-01-25T20:03:47.931Z"
   },
   {
    "duration": 269,
    "start_time": "2023-01-25T20:03:58.757Z"
   },
   {
    "duration": 115,
    "start_time": "2023-01-25T20:04:00.991Z"
   },
   {
    "duration": 114,
    "start_time": "2023-01-25T20:04:02.507Z"
   },
   {
    "duration": 68,
    "start_time": "2023-01-25T20:05:46.373Z"
   },
   {
    "duration": 11,
    "start_time": "2023-01-25T20:06:06.218Z"
   },
   {
    "duration": 10,
    "start_time": "2023-01-25T20:07:31.432Z"
   },
   {
    "duration": 7,
    "start_time": "2023-01-25T20:07:43.160Z"
   },
   {
    "duration": 8,
    "start_time": "2023-01-25T20:08:33.201Z"
   },
   {
    "duration": 74,
    "start_time": "2023-01-25T20:09:30.216Z"
   },
   {
    "duration": 6,
    "start_time": "2023-01-25T20:10:24.254Z"
   },
   {
    "duration": 5,
    "start_time": "2023-01-25T20:10:47.773Z"
   },
   {
    "duration": 9,
    "start_time": "2023-01-25T20:11:25.904Z"
   },
   {
    "duration": 10,
    "start_time": "2023-01-25T20:11:32.685Z"
   },
   {
    "duration": 5,
    "start_time": "2023-01-25T20:12:06.637Z"
   },
   {
    "duration": 7,
    "start_time": "2023-01-25T20:13:31.904Z"
   },
   {
    "duration": 6,
    "start_time": "2023-01-25T20:20:51.001Z"
   },
   {
    "duration": 8,
    "start_time": "2023-01-25T20:21:16.418Z"
   },
   {
    "duration": 9,
    "start_time": "2023-01-25T20:21:17.400Z"
   },
   {
    "duration": 5,
    "start_time": "2023-01-25T20:21:17.913Z"
   },
   {
    "duration": 3,
    "start_time": "2023-01-25T21:00:32.930Z"
   },
   {
    "duration": 60,
    "start_time": "2023-01-25T21:00:33.267Z"
   },
   {
    "duration": 14,
    "start_time": "2023-01-25T21:00:33.745Z"
   },
   {
    "duration": 16,
    "start_time": "2023-01-25T21:00:34.250Z"
   },
   {
    "duration": 4,
    "start_time": "2023-01-25T21:00:34.730Z"
   },
   {
    "duration": 6,
    "start_time": "2023-01-25T21:00:35.618Z"
   },
   {
    "duration": 18,
    "start_time": "2023-01-25T21:00:36.010Z"
   },
   {
    "duration": 9,
    "start_time": "2023-01-25T21:00:36.346Z"
   },
   {
    "duration": 15,
    "start_time": "2023-01-25T21:00:37.105Z"
   },
   {
    "duration": 26,
    "start_time": "2023-01-25T21:00:37.875Z"
   },
   {
    "duration": 104,
    "start_time": "2023-01-25T21:00:38.812Z"
   },
   {
    "duration": 8,
    "start_time": "2023-01-25T21:00:39.546Z"
   },
   {
    "duration": 9,
    "start_time": "2023-01-25T21:00:39.922Z"
   },
   {
    "duration": 160,
    "start_time": "2023-01-25T21:00:40.673Z"
   },
   {
    "duration": 8,
    "start_time": "2023-01-25T21:00:41.459Z"
   },
   {
    "duration": 260,
    "start_time": "2023-01-25T21:00:41.817Z"
   },
   {
    "duration": 977,
    "start_time": "2023-01-25T21:00:42.202Z"
   },
   {
    "duration": 9,
    "start_time": "2023-01-25T21:00:43.181Z"
   },
   {
    "duration": 4,
    "start_time": "2023-01-25T21:00:43.553Z"
   },
   {
    "duration": 1860,
    "start_time": "2023-01-25T21:00:43.763Z"
   },
   {
    "duration": 281,
    "start_time": "2023-01-25T21:00:45.625Z"
   },
   {
    "duration": 291,
    "start_time": "2023-01-25T21:00:45.908Z"
   },
   {
    "duration": 147,
    "start_time": "2023-01-25T21:00:46.201Z"
   },
   {
    "duration": 164,
    "start_time": "2023-01-25T21:00:46.419Z"
   },
   {
    "duration": 153,
    "start_time": "2023-01-25T21:00:47.049Z"
   },
   {
    "duration": 153,
    "start_time": "2023-01-25T21:00:47.507Z"
   },
   {
    "duration": 191,
    "start_time": "2023-01-25T21:00:48.556Z"
   },
   {
    "duration": 2,
    "start_time": "2023-01-25T21:00:49.450Z"
   },
   {
    "duration": 440,
    "start_time": "2023-01-25T21:00:50.329Z"
   },
   {
    "duration": 178,
    "start_time": "2023-01-25T21:00:51.888Z"
   },
   {
    "duration": 183,
    "start_time": "2023-01-25T21:00:52.434Z"
   },
   {
    "duration": 176,
    "start_time": "2023-01-25T21:00:52.819Z"
   },
   {
    "duration": 185,
    "start_time": "2023-01-25T21:00:53.562Z"
   },
   {
    "duration": 185,
    "start_time": "2023-01-25T21:00:53.979Z"
   },
   {
    "duration": 189,
    "start_time": "2023-01-25T21:00:54.410Z"
   },
   {
    "duration": 110,
    "start_time": "2023-01-25T21:00:55.778Z"
   },
   {
    "duration": 116,
    "start_time": "2023-01-25T21:00:56.211Z"
   },
   {
    "duration": 113,
    "start_time": "2023-01-25T21:00:56.564Z"
   },
   {
    "duration": 9,
    "start_time": "2023-01-25T21:00:57.319Z"
   },
   {
    "duration": 8,
    "start_time": "2023-01-25T21:00:58.129Z"
   },
   {
    "duration": 8,
    "start_time": "2023-01-25T21:00:58.330Z"
   },
   {
    "duration": 5,
    "start_time": "2023-01-25T21:00:59.140Z"
   },
   {
    "duration": 9,
    "start_time": "2023-01-25T21:00:59.737Z"
   },
   {
    "duration": 8,
    "start_time": "2023-01-25T21:00:59.914Z"
   },
   {
    "duration": 5,
    "start_time": "2023-01-25T21:01:00.162Z"
   },
   {
    "duration": 3,
    "start_time": "2023-01-25T21:01:59.004Z"
   },
   {
    "duration": 60,
    "start_time": "2023-01-25T21:01:59.316Z"
   },
   {
    "duration": 14,
    "start_time": "2023-01-25T21:01:59.803Z"
   },
   {
    "duration": 17,
    "start_time": "2023-01-25T21:02:00.292Z"
   },
   {
    "duration": 5,
    "start_time": "2023-01-25T21:02:00.779Z"
   },
   {
    "duration": 4,
    "start_time": "2023-01-25T21:02:01.771Z"
   },
   {
    "duration": 17,
    "start_time": "2023-01-25T21:02:02.140Z"
   },
   {
    "duration": 12,
    "start_time": "2023-01-25T21:02:02.460Z"
   },
   {
    "duration": 15,
    "start_time": "2023-01-25T21:02:03.075Z"
   },
   {
    "duration": 22,
    "start_time": "2023-01-25T21:02:03.732Z"
   },
   {
    "duration": 82,
    "start_time": "2023-01-25T21:02:04.554Z"
   },
   {
    "duration": 8,
    "start_time": "2023-01-25T21:02:05.265Z"
   },
   {
    "duration": 8,
    "start_time": "2023-01-25T21:02:05.587Z"
   },
   {
    "duration": 154,
    "start_time": "2023-01-25T21:02:06.299Z"
   },
   {
    "duration": 9,
    "start_time": "2023-01-25T21:02:07.007Z"
   },
   {
    "duration": 372,
    "start_time": "2023-01-25T21:02:07.347Z"
   },
   {
    "duration": 1071,
    "start_time": "2023-01-25T21:02:07.722Z"
   },
   {
    "duration": 13,
    "start_time": "2023-01-25T21:02:08.795Z"
   },
   {
    "duration": 9,
    "start_time": "2023-01-25T21:02:08.904Z"
   },
   {
    "duration": 1786,
    "start_time": "2023-01-25T21:02:09.068Z"
   },
   {
    "duration": 381,
    "start_time": "2023-01-25T21:02:10.856Z"
   },
   {
    "duration": 294,
    "start_time": "2023-01-25T21:02:11.239Z"
   },
   {
    "duration": 157,
    "start_time": "2023-01-25T21:02:11.534Z"
   },
   {
    "duration": 160,
    "start_time": "2023-01-25T21:02:11.693Z"
   },
   {
    "duration": 152,
    "start_time": "2023-01-25T21:02:12.081Z"
   },
   {
    "duration": 161,
    "start_time": "2023-01-25T21:02:12.420Z"
   },
   {
    "duration": 190,
    "start_time": "2023-01-25T21:02:13.380Z"
   },
   {
    "duration": 2,
    "start_time": "2023-01-25T21:02:14.092Z"
   },
   {
    "duration": 332,
    "start_time": "2023-01-25T21:02:14.828Z"
   },
   {
    "duration": 174,
    "start_time": "2023-01-25T21:02:15.851Z"
   },
   {
    "duration": 321,
    "start_time": "2023-01-25T21:02:16.236Z"
   },
   {
    "duration": 165,
    "start_time": "2023-01-25T21:02:16.652Z"
   },
   {
    "duration": 182,
    "start_time": "2023-01-25T21:02:17.489Z"
   },
   {
    "duration": 176,
    "start_time": "2023-01-25T21:02:17.846Z"
   },
   {
    "duration": 193,
    "start_time": "2023-01-25T21:02:18.220Z"
   },
   {
    "duration": 120,
    "start_time": "2023-01-25T21:02:19.412Z"
   },
   {
    "duration": 114,
    "start_time": "2023-01-25T21:02:20.136Z"
   },
   {
    "duration": 112,
    "start_time": "2023-01-25T21:02:20.907Z"
   },
   {
    "duration": 9,
    "start_time": "2023-01-25T21:02:22.723Z"
   },
   {
    "duration": 7,
    "start_time": "2023-01-25T21:02:24.124Z"
   },
   {
    "duration": 8,
    "start_time": "2023-01-25T21:02:24.300Z"
   },
   {
    "duration": 5,
    "start_time": "2023-01-25T21:02:25.134Z"
   },
   {
    "duration": 9,
    "start_time": "2023-01-25T21:02:26.019Z"
   },
   {
    "duration": 8,
    "start_time": "2023-01-25T21:02:26.285Z"
   },
   {
    "duration": 5,
    "start_time": "2023-01-25T21:02:26.540Z"
   },
   {
    "duration": 1174,
    "start_time": "2023-01-26T16:03:29.663Z"
   },
   {
    "duration": 71,
    "start_time": "2023-01-26T16:03:30.840Z"
   },
   {
    "duration": 20,
    "start_time": "2023-01-26T16:03:30.913Z"
   },
   {
    "duration": 65,
    "start_time": "2023-01-26T16:03:30.935Z"
   },
   {
    "duration": 41,
    "start_time": "2023-01-26T16:03:31.002Z"
   },
   {
    "duration": 42,
    "start_time": "2023-01-26T16:03:31.044Z"
   },
   {
    "duration": 54,
    "start_time": "2023-01-26T16:03:31.088Z"
   },
   {
    "duration": 39,
    "start_time": "2023-01-26T16:03:31.143Z"
   },
   {
    "duration": 68,
    "start_time": "2023-01-26T16:03:31.184Z"
   },
   {
    "duration": 35,
    "start_time": "2023-01-26T16:03:31.254Z"
   },
   {
    "duration": 90,
    "start_time": "2023-01-26T16:03:31.290Z"
   },
   {
    "duration": 7,
    "start_time": "2023-01-26T16:03:31.382Z"
   },
   {
    "duration": 16,
    "start_time": "2023-01-26T16:03:31.407Z"
   },
   {
    "duration": 208,
    "start_time": "2023-01-26T16:03:31.428Z"
   },
   {
    "duration": 8,
    "start_time": "2023-01-26T16:03:31.638Z"
   },
   {
    "duration": 300,
    "start_time": "2023-01-26T16:03:31.648Z"
   },
   {
    "duration": 1043,
    "start_time": "2023-01-26T16:03:31.950Z"
   },
   {
    "duration": 23,
    "start_time": "2023-01-26T16:03:32.995Z"
   },
   {
    "duration": 49,
    "start_time": "2023-01-26T16:03:33.020Z"
   },
   {
    "duration": 2053,
    "start_time": "2023-01-26T16:03:33.071Z"
   },
   {
    "duration": 318,
    "start_time": "2023-01-26T16:03:35.125Z"
   },
   {
    "duration": 317,
    "start_time": "2023-01-26T16:03:35.444Z"
   },
   {
    "duration": 157,
    "start_time": "2023-01-26T16:03:35.762Z"
   },
   {
    "duration": 175,
    "start_time": "2023-01-26T16:03:35.922Z"
   },
   {
    "duration": 168,
    "start_time": "2023-01-26T16:03:36.103Z"
   },
   {
    "duration": 179,
    "start_time": "2023-01-26T16:03:36.273Z"
   },
   {
    "duration": 205,
    "start_time": "2023-01-26T16:03:36.454Z"
   },
   {
    "duration": 2,
    "start_time": "2023-01-26T16:03:36.661Z"
   },
   {
    "duration": 473,
    "start_time": "2023-01-26T16:03:36.665Z"
   },
   {
    "duration": 205,
    "start_time": "2023-01-26T16:03:37.139Z"
   },
   {
    "duration": 200,
    "start_time": "2023-01-26T16:03:37.345Z"
   },
   {
    "duration": 191,
    "start_time": "2023-01-26T16:03:37.547Z"
   },
   {
    "duration": 199,
    "start_time": "2023-01-26T16:03:37.740Z"
   },
   {
    "duration": 201,
    "start_time": "2023-01-26T16:03:37.940Z"
   },
   {
    "duration": 201,
    "start_time": "2023-01-26T16:03:38.142Z"
   },
   {
    "duration": 133,
    "start_time": "2023-01-26T16:03:38.344Z"
   },
   {
    "duration": 140,
    "start_time": "2023-01-26T16:03:38.479Z"
   },
   {
    "duration": 132,
    "start_time": "2023-01-26T16:03:38.621Z"
   },
   {
    "duration": 8,
    "start_time": "2023-01-26T16:03:38.755Z"
   },
   {
    "duration": 12,
    "start_time": "2023-01-26T16:03:38.765Z"
   },
   {
    "duration": 36,
    "start_time": "2023-01-26T16:03:38.781Z"
   },
   {
    "duration": 6,
    "start_time": "2023-01-26T16:03:38.819Z"
   },
   {
    "duration": 10,
    "start_time": "2023-01-26T16:03:38.827Z"
   },
   {
    "duration": 14,
    "start_time": "2023-01-26T16:03:38.839Z"
   },
   {
    "duration": 8,
    "start_time": "2023-01-26T16:03:38.855Z"
   },
   {
    "duration": 398,
    "start_time": "2023-01-26T16:22:18.075Z"
   }
  ],
  "kernelspec": {
   "display_name": "Python 3 (ipykernel)",
   "language": "python",
   "name": "python3"
  },
  "language_info": {
   "codemirror_mode": {
    "name": "ipython",
    "version": 3
   },
   "file_extension": ".py",
   "mimetype": "text/x-python",
   "name": "python",
   "nbconvert_exporter": "python",
   "pygments_lexer": "ipython3",
   "version": "3.9.5"
  },
  "toc": {
   "base_numbering": "1 Открываем файл с данными и изучаем общую информацию",
   "nav_menu": {
    "height": "126px",
    "width": "226px"
   },
   "number_sections": true,
   "sideBar": true,
   "skip_h1_title": true,
   "title_cell": "Открываем файл с данными и изучаем общую информацию",
   "title_sidebar": "Contents",
   "toc_cell": false,
   "toc_position": {
    "height": "calc(100% - 180px)",
    "left": "10px",
    "top": "150px",
    "width": "165px"
   },
   "toc_section_display": true,
   "toc_window_display": true
  }
 },
 "nbformat": 4,
 "nbformat_minor": 2
}
